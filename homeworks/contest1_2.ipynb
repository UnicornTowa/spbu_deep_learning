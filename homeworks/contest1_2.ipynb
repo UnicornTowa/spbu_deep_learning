{
 "cells": [
  {
   "metadata": {},
   "cell_type": "markdown",
   "source": "# Contest 1",
   "id": "34daf5b3c837ec24"
  },
  {
   "cell_type": "code",
   "id": "initial_id",
   "metadata": {
    "collapsed": true,
    "ExecuteTime": {
     "end_time": "2024-10-06T00:01:25.839404Z",
     "start_time": "2024-10-06T00:01:22.245548Z"
    }
   },
   "source": [
    "import pandas as pd\n",
    "import numpy as np\n",
    "import matplotlib.pyplot as plt\n",
    "import torch\n",
    "import torch.nn as nn\n",
    "from sklearn.model_selection import train_test_split\n",
    "from sklearn.preprocessing import StandardScaler\n",
    "import seaborn as sns\n",
    "from torch.utils.data import TensorDataset, DataLoader"
   ],
   "outputs": [],
   "execution_count": 1
  },
  {
   "metadata": {},
   "cell_type": "markdown",
   "source": "### Читаем данные",
   "id": "aea67bb62ee5fe9f"
  },
  {
   "metadata": {
    "ExecuteTime": {
     "end_time": "2024-10-06T00:01:26.190510Z",
     "start_time": "2024-10-06T00:01:25.845159Z"
    }
   },
   "cell_type": "code",
   "source": [
    "train_x = pd.read_csv('SongsPrediction/train_x.csv')\n",
    "train_y = pd.read_csv('SongsPrediction/train_y.csv')\n",
    "test_x = pd.read_csv('SongsPrediction/test_x.csv')"
   ],
   "id": "1ba5bb8b8f8ab200",
   "outputs": [],
   "execution_count": 2
  },
  {
   "metadata": {},
   "cell_type": "markdown",
   "source": "### Сохраняем индекс теста на будущее и дропаем индексы",
   "id": "6a27b4700980e51a"
  },
  {
   "metadata": {
    "ExecuteTime": {
     "end_time": "2024-10-06T00:01:26.611300Z",
     "start_time": "2024-10-06T00:01:26.598004Z"
    }
   },
   "cell_type": "code",
   "source": [
    "test_id = test_x['id']\n",
    "test_x = test_x.drop('id', axis=1)\n",
    "train_x = train_x.drop('Unnamed: 0', axis=1)\n",
    "train_y = train_y.drop('Unnamed: 0', axis=1)"
   ],
   "id": "d557c394acb19e9",
   "outputs": [],
   "execution_count": 3
  },
  {
   "metadata": {},
   "cell_type": "markdown",
   "source": "### В итоге учил на cpu потому что выбрал маленькие батчи",
   "id": "f8fcd885249da08c"
  },
  {
   "metadata": {
    "ExecuteTime": {
     "end_time": "2024-10-06T00:01:28.169893Z",
     "start_time": "2024-10-06T00:01:26.642784Z"
    }
   },
   "cell_type": "code",
   "source": [
    "device = torch.device('cuda' if torch.cuda.is_available() else 'cpu')\n",
    "device = 'cpu'\n",
    "device"
   ],
   "id": "8b5e50ee4eaf36d6",
   "outputs": [
    {
     "data": {
      "text/plain": [
       "'cpu'"
      ]
     },
     "execution_count": 4,
     "metadata": {},
     "output_type": "execute_result"
    }
   ],
   "execution_count": 4
  },
  {
   "metadata": {},
   "cell_type": "markdown",
   "source": "### Видим слишком большой хвост",
   "id": "1509d9b3eecfefe9"
  },
  {
   "metadata": {
    "ExecuteTime": {
     "end_time": "2024-10-06T00:01:28.619814Z",
     "start_time": "2024-10-06T00:01:28.206939Z"
    }
   },
   "cell_type": "code",
   "source": "sns.violinplot(train_y)",
   "id": "ff85588343be23d7",
   "outputs": [
    {
     "data": {
      "text/plain": [
       "<Axes: >"
      ]
     },
     "execution_count": 5,
     "metadata": {},
     "output_type": "execute_result"
    },
    {
     "data": {
      "text/plain": [
       "<Figure size 640x480 with 1 Axes>"
      ],
      "image/png": "[encoded data removed]"
     },
     "metadata": {},
     "output_type": "display_data"
    }
   ],
   "execution_count": 5
  },
  {
   "metadata": {},
   "cell_type": "markdown",
   "source": "### Всякие преобразования и дроп хвоста никак не помог, поэтому в итоге все оставлено как есть",
   "id": "b2573384506fa8d"
  },
  {
   "metadata": {
    "ExecuteTime": {
     "end_time": "2024-10-06T00:01:28.659067Z",
     "start_time": "2024-10-06T00:01:28.651922Z"
    }
   },
   "cell_type": "code",
   "source": [
    "target_mean = train_y.mean()\n",
    "target_std = train_y.std()\n",
    "train_y = (train_y - target_mean) / target_std"
   ],
   "id": "454371bd3cc909ca",
   "outputs": [],
   "execution_count": 6
  },
  {
   "metadata": {},
   "cell_type": "markdown",
   "source": "### А вот нормализация таргета существенно увеличивает скорость сходимости к решению. То чего можно было добиться за 150 итераций после преобразования достигается за 20.",
   "id": "93e7a8ad56658fd5"
  },
  {
   "metadata": {},
   "cell_type": "markdown",
   "source": "### Нормализуем входные данные, сплитуем и делаем даталоадеры",
   "id": "fe8717150ad74b3a"
  },
  {
   "metadata": {
    "ExecuteTime": {
     "end_time": "2024-10-06T00:01:28.731330Z",
     "start_time": "2024-10-06T00:01:28.689839Z"
    }
   },
   "cell_type": "code",
   "source": [
    "scaler = StandardScaler()\n",
    "X_scaled = scaler.fit_transform(train_x)\n",
    "X_test_scaled = scaler.transform(test_x)\n",
    "\n",
    "X_tensor = torch.tensor(X_scaled, dtype=torch.float32)\n",
    "y_tensor = torch.tensor(train_y.values, dtype=torch.float32).view(-1, 1)\n",
    "\n",
    "X_train, X_val, y_train, y_val = train_test_split(X_tensor, y_tensor, test_size=0.2, random_state=222)\n",
    "### Мои тесты показали что в данном случае резульаты на маленьких батчах лучше\n",
    "batch_size = 4\n",
    "train_data = TensorDataset(X_train, y_train)\n",
    "val_data = TensorDataset(X_val, y_val)\n",
    "\n",
    "train_loader = DataLoader(train_data, batch_size=batch_size, shuffle=True)\n",
    "val_loader = DataLoader(val_data, batch_size=batch_size, shuffle=False)"
   ],
   "id": "f28981ce294c82e",
   "outputs": [],
   "execution_count": 7
  },
  {
   "metadata": {},
   "cell_type": "markdown",
   "source": "### Создаем архитектуру нейросети",
   "id": "18633492d68ac9df"
  },
  {
   "metadata": {},
   "cell_type": "markdown",
   "source": "### Простота в данном случае залог успеха, более сложные модели или модели с всякими нормализациями были только хуже",
   "id": "3f9d2d971d346740"
  },
  {
   "metadata": {
    "ExecuteTime": {
     "end_time": "2024-10-06T00:01:28.778229Z",
     "start_time": "2024-10-06T00:01:28.772786Z"
    }
   },
   "cell_type": "code",
   "source": [
    "class Network(nn.Module):\n",
    "    def __init__(self):\n",
    "        super(Network, self).__init__()\n",
    "        self.network = nn.Sequential(\n",
    "            nn.Linear(90, 16),\n",
    "            nn.ELU(), # или ReLU, разница невилика\n",
    "            \n",
    "            nn.Linear(16, 1)\n",
    "        )\n",
    "    \n",
    "    def forward(self, x):\n",
    "        return self.network(x)\n"
   ],
   "id": "e03bbc7a64796bf2",
   "outputs": [],
   "execution_count": 8
  },
  {
   "metadata": {},
   "cell_type": "markdown",
   "source": "### Функция обучения, со сбором данных для построения графика",
   "id": "c6c342a1250b84ca"
  },
  {
   "metadata": {
    "ExecuteTime": {
     "end_time": "2024-10-06T00:03:33.107760Z",
     "start_time": "2024-10-06T00:03:33.098662Z"
    }
   },
   "cell_type": "code",
   "source": [
    "def train_model(model, criterion, optimizer, scheduler, train_loader, val_loader, num_epochs=50):\n",
    "    train_loss_history = []\n",
    "    val_loss_history = []\n",
    "    \n",
    "    for epoch in range(num_epochs):\n",
    "        model.train()\n",
    "        running_loss = 0.0\n",
    "        for inputs, labels in train_loader:\n",
    "            inputs, labels = inputs.to(device), labels.to(device)\n",
    "            optimizer.zero_grad()\n",
    "            outputs = model(inputs)\n",
    "            loss = criterion(outputs, labels)\n",
    "            loss.backward()\n",
    "            optimizer.step()\n",
    "            running_loss += loss.item()\n",
    "        train_loss = running_loss / len(train_loader)\n",
    "        train_loss_history.append(train_loss)\n",
    "\n",
    "        model.eval()\n",
    "        val_loss = 0.0\n",
    "        with torch.no_grad():\n",
    "            for inputs, labels in val_loader:\n",
    "                inputs, labels = inputs.to(device), labels.to(device)\n",
    "                outputs = model(inputs)\n",
    "                loss = criterion(outputs, labels)\n",
    "                val_loss += loss.item()\n",
    "        \n",
    "        val_loss = val_loss / len(val_loader)\n",
    "        val_loss_history.append(val_loss)\n",
    "        if scheduler is not None:\n",
    "            scheduler.step(val_loss)\n",
    "        print(f'Epoch [{epoch+1}/{num_epochs}], Loss: {train_loss:.4f}, Val Loss: {val_loss:.4f}, LR: '\n",
    "              f'{scheduler.get_last_lr() if scheduler is not None else optimizer.lr}')\n",
    "    \n",
    "    return train_loss_history, val_loss_history"
   ],
   "id": "40d38fd816d62341",
   "outputs": [],
   "execution_count": 20
  },
  {
   "metadata": {},
   "cell_type": "markdown",
   "source": "### Создаем модель, оптимизатор и планировщик",
   "id": "d6970e2e519af82f"
  },
  {
   "metadata": {
    "ExecuteTime": {
     "end_time": "2024-10-06T00:01:30.397463Z",
     "start_time": "2024-10-06T00:01:28.860346Z"
    }
   },
   "cell_type": "code",
   "source": [
    "model = Network().to(device)\n",
    "# пробовал разные лоссы, но в итоге остановился просто на MSE\n",
    "criterion = torch.nn.MSELoss()\n",
    "# пробовал Adam и AdamW, но вроде как Adam оказался лучше\n",
    "optimizer = torch.optim.Adam(model.parameters(), lr=0.0001)\n",
    "scheduler = torch.optim.lr_scheduler.ReduceLROnPlateau(optimizer, 'min', patience=3, factor=0.1)"
   ],
   "id": "932960e29f5aa591",
   "outputs": [],
   "execution_count": 10
  },
  {
   "metadata": {},
   "cell_type": "markdown",
   "source": "",
   "id": "2d0de04b6b834791"
  },
  {
   "metadata": {
    "ExecuteTime": {
     "end_time": "2024-10-06T00:01:30.445596Z",
     "start_time": "2024-10-06T00:01:30.437339Z"
    }
   },
   "cell_type": "code",
   "source": [
    "target_std ** 2\n",
    "# т.к. таргет был нормализован, шкала mse сместилась.\n",
    "# чтобы примерно понять какой лосс в исходных единицах измерения, надо умножить лосс на это число"
   ],
   "id": "bcf456991a4f317b",
   "outputs": [
    {
     "data": {
      "text/plain": [
       "year    122.060239\n",
       "dtype: float64"
      ]
     },
     "execution_count": 11,
     "metadata": {},
     "output_type": "execute_result"
    }
   ],
   "execution_count": 11
  },
  {
   "metadata": {},
   "cell_type": "markdown",
   "source": "### Обучение модели",
   "id": "cc25785c69c8bfac"
  },
  {
   "metadata": {
    "ExecuteTime": {
     "end_time": "2024-10-06T00:02:35.189294Z",
     "start_time": "2024-10-06T00:01:30.529003Z"
    }
   },
   "cell_type": "code",
   "source": [
    "num_epochs = 25\n",
    "train_loss_history, val_loss_history = train_model(model, criterion, optimizer, scheduler, train_loader, val_loader, num_epochs)\n",
    "\n",
    "\n",
    "plt.plot(train_loss_history, label='Train Loss')\n",
    "plt.plot(val_loss_history, label='Validation Loss')\n",
    "plt.xlabel('Epochs')\n",
    "plt.ylabel('Loss')\n",
    "plt.title('Training and Validation Loss')\n",
    "plt.legend()\n",
    "plt.show()"
   ],
   "id": "c4212af0f029e019",
   "outputs": [
    {
     "name": "stdout",
     "output_type": "stream",
     "text": [
      "Epoch [1/25], Loss: 0.9314, Val Loss: 0.8143, LR: [0.0001]\n",
      "Epoch [2/25], Loss: 0.8171, Val Loss: 0.7617, LR: [0.0001]\n",
      "Epoch [3/25], Loss: 0.7756, Val Loss: 0.7393, LR: [0.0001]\n",
      "Epoch [4/25], Loss: 0.7538, Val Loss: 0.7241, LR: [0.0001]\n",
      "Epoch [5/25], Loss: 0.7409, Val Loss: 0.7213, LR: [0.0001]\n",
      "Epoch [6/25], Loss: 0.7337, Val Loss: 0.7144, LR: [0.0001]\n",
      "Epoch [7/25], Loss: 0.7270, Val Loss: 0.7143, LR: [0.0001]\n",
      "Epoch [8/25], Loss: 0.7223, Val Loss: 0.7082, LR: [0.0001]\n",
      "Epoch [9/25], Loss: 0.7183, Val Loss: 0.7079, LR: [0.0001]\n",
      "Epoch [10/25], Loss: 0.7150, Val Loss: 0.7065, LR: [0.0001]\n",
      "Epoch [11/25], Loss: 0.7116, Val Loss: 0.7052, LR: [0.0001]\n",
      "Epoch [12/25], Loss: 0.7084, Val Loss: 0.7029, LR: [0.0001]\n",
      "Epoch [13/25], Loss: 0.7057, Val Loss: 0.7012, LR: [0.0001]\n",
      "Epoch [14/25], Loss: 0.7035, Val Loss: 0.6993, LR: [0.0001]\n",
      "Epoch [15/25], Loss: 0.7012, Val Loss: 0.6994, LR: [0.0001]\n",
      "Epoch [16/25], Loss: 0.6987, Val Loss: 0.6985, LR: [0.0001]\n",
      "Epoch [17/25], Loss: 0.6966, Val Loss: 0.6972, LR: [0.0001]\n",
      "Epoch [18/25], Loss: 0.6948, Val Loss: 0.6977, LR: [0.0001]\n",
      "Epoch [19/25], Loss: 0.6915, Val Loss: 0.6953, LR: [0.0001]\n",
      "Epoch [20/25], Loss: 0.6901, Val Loss: 0.6980, LR: [0.0001]\n",
      "Epoch [21/25], Loss: 0.6881, Val Loss: 0.6954, LR: [0.0001]\n",
      "Epoch [22/25], Loss: 0.6865, Val Loss: 0.6940, LR: [0.0001]\n",
      "Epoch [23/25], Loss: 0.6846, Val Loss: 0.6945, LR: [0.0001]\n",
      "Epoch [24/25], Loss: 0.6831, Val Loss: 0.6941, LR: [0.0001]\n",
      "Epoch [25/25], Loss: 0.6808, Val Loss: 0.6934, LR: [0.0001]\n"
     ]
    },
    {
     "data": {
      "text/plain": [
       "<Figure size 640x480 with 1 Axes>"
      ],
      "image/png": "[encoded data removed]"
     },
     "metadata": {},
     "output_type": "display_data"
    }
   ],
   "execution_count": 12
  },
  {
   "metadata": {},
   "cell_type": "markdown",
   "source": "### Что предсказывает модель для всех имеющихся размеченных данных?",
   "id": "31590290a18fe63e"
  },
  {
   "metadata": {
    "ExecuteTime": {
     "end_time": "2024-10-06T00:02:40.059316Z",
     "start_time": "2024-10-06T00:02:39.783205Z"
    }
   },
   "cell_type": "code",
   "source": [
    "train_x_new = pd.read_csv('SongsPrediction/train_x.csv')\n",
    "train_y_new = pd.read_csv('SongsPrediction/train_y.csv')\n",
    "train_x_new = train_x_new.drop('Unnamed: 0', axis=1)\n",
    "train_y_new = train_y_new.drop('Unnamed: 0', axis=1)\n",
    "train_x_new = torch.tensor(scaler.transform(train_x_new), dtype=torch.float32)\n",
    "\n",
    "\n",
    "with torch.no_grad():\n",
    "    X_val_pred = model(train_x_new.to(device)).detach().cpu().numpy().ravel()\n",
    "    # обратное преобразование для таргета\n",
    "    X_val_pred = np.round(X_val_pred * target_std.to_numpy() + target_mean.to_numpy())\n",
    "\n",
    "    \n",
    "example = pd.DataFrame({'Predicted': X_val_pred, 'True': train_y_new.to_numpy().ravel()})\n",
    "example['Delta'] = example['Predicted'] - example['True']\n",
    "example"
   ],
   "id": "12c4e952678987a4",
   "outputs": [
    {
     "data": {
      "text/plain": [
       "       Predicted  True  Delta\n",
       "0         1994.0  2001   -7.0\n",
       "1         2002.0  2006   -4.0\n",
       "2         1993.0  1989    4.0\n",
       "3         2001.0  1997    4.0\n",
       "4         2003.0  2001    2.0\n",
       "...          ...   ...    ...\n",
       "13995     1998.0  1999   -1.0\n",
       "13996     1995.0  2008  -13.0\n",
       "13997     1993.0  1999   -6.0\n",
       "13998     2000.0  1993    7.0\n",
       "13999     1997.0  1963   34.0\n",
       "\n",
       "[14000 rows x 3 columns]"
      ],
      "text/html": [
       "<div>\n",
       "<style scoped>\n",
       "    .dataframe tbody tr th:only-of-type {\n",
       "        vertical-align: middle;\n",
       "    }\n",
       "\n",
       "    .dataframe tbody tr th {\n",
       "        vertical-align: top;\n",
       "    }\n",
       "\n",
       "    .dataframe thead th {\n",
       "        text-align: right;\n",
       "    }\n",
       "</style>\n",
       "<table border=\"1\" class=\"dataframe\">\n",
       "  <thead>\n",
       "    <tr style=\"text-align: right;\">\n",
       "      <th></th>\n",
       "      <th>Predicted</th>\n",
       "      <th>True</th>\n",
       "      <th>Delta</th>\n",
       "    </tr>\n",
       "  </thead>\n",
       "  <tbody>\n",
       "    <tr>\n",
       "      <th>0</th>\n",
       "      <td>1994.0</td>\n",
       "      <td>2001</td>\n",
       "      <td>-7.0</td>\n",
       "    </tr>\n",
       "    <tr>\n",
       "      <th>1</th>\n",
       "      <td>2002.0</td>\n",
       "      <td>2006</td>\n",
       "      <td>-4.0</td>\n",
       "    </tr>\n",
       "    <tr>\n",
       "      <th>2</th>\n",
       "      <td>1993.0</td>\n",
       "      <td>1989</td>\n",
       "      <td>4.0</td>\n",
       "    </tr>\n",
       "    <tr>\n",
       "      <th>3</th>\n",
       "      <td>2001.0</td>\n",
       "      <td>1997</td>\n",
       "      <td>4.0</td>\n",
       "    </tr>\n",
       "    <tr>\n",
       "      <th>4</th>\n",
       "      <td>2003.0</td>\n",
       "      <td>2001</td>\n",
       "      <td>2.0</td>\n",
       "    </tr>\n",
       "    <tr>\n",
       "      <th>...</th>\n",
       "      <td>...</td>\n",
       "      <td>...</td>\n",
       "      <td>...</td>\n",
       "    </tr>\n",
       "    <tr>\n",
       "      <th>13995</th>\n",
       "      <td>1998.0</td>\n",
       "      <td>1999</td>\n",
       "      <td>-1.0</td>\n",
       "    </tr>\n",
       "    <tr>\n",
       "      <th>13996</th>\n",
       "      <td>1995.0</td>\n",
       "      <td>2008</td>\n",
       "      <td>-13.0</td>\n",
       "    </tr>\n",
       "    <tr>\n",
       "      <th>13997</th>\n",
       "      <td>1993.0</td>\n",
       "      <td>1999</td>\n",
       "      <td>-6.0</td>\n",
       "    </tr>\n",
       "    <tr>\n",
       "      <th>13998</th>\n",
       "      <td>2000.0</td>\n",
       "      <td>1993</td>\n",
       "      <td>7.0</td>\n",
       "    </tr>\n",
       "    <tr>\n",
       "      <th>13999</th>\n",
       "      <td>1997.0</td>\n",
       "      <td>1963</td>\n",
       "      <td>34.0</td>\n",
       "    </tr>\n",
       "  </tbody>\n",
       "</table>\n",
       "<p>14000 rows × 3 columns</p>\n",
       "</div>"
      ]
     },
     "execution_count": 13,
     "metadata": {},
     "output_type": "execute_result"
    }
   ],
   "execution_count": 13
  },
  {
   "metadata": {},
   "cell_type": "markdown",
   "source": "### График остатков модели",
   "id": "ba1a6b02ae364454"
  },
  {
   "metadata": {
    "ExecuteTime": {
     "end_time": "2024-10-06T00:02:40.807574Z",
     "start_time": "2024-10-06T00:02:40.506641Z"
    }
   },
   "cell_type": "code",
   "source": [
    "plt.scatter(example['True'], example['Delta'])\n",
    "plt.xlabel('True Values')\n",
    "plt.ylabel('Error')\n",
    "plt.tight_layout()\n",
    "plt.show()"
   ],
   "id": "4a1093a9106a08f7",
   "outputs": [
    {
     "data": {
      "text/plain": [
       "<Figure size 640x480 with 1 Axes>"
      ],
      "image/png": "[encoded data removed]"
     },
     "metadata": {},
     "output_type": "display_data"
    }
   ],
   "execution_count": 14
  },
  {
   "metadata": {},
   "cell_type": "markdown",
   "source": "### Видна основная проблема - т.к. ранних семплов очень мало, а ошибка у нас MSE (хотя с другими не лучше) модель \"заваливается\" сильно вверх для старых семлов и вниз для новых. Это печально, но адеватного решения придумать не удалось",
   "id": "45bcd53c9ac3d487"
  },
  {
   "metadata": {},
   "cell_type": "markdown",
   "source": "### Получаем итоговые предикты",
   "id": "a7de34a30e7b8a38"
  },
  {
   "metadata": {
    "ExecuteTime": {
     "end_time": "2024-10-06T00:02:41.598343Z",
     "start_time": "2024-10-06T00:02:41.586706Z"
    }
   },
   "cell_type": "code",
   "source": [
    "with torch.no_grad():\n",
    "    inputs = torch.tensor(X_test_scaled, dtype=torch.float32, device=device)\n",
    "    # outputs = model(inputs).detach().cpu().numpy().round()\n",
    "    outputs = (model(inputs).detach().cpu().numpy() * target_std.to_numpy() + target_mean.to_numpy()).round()\n",
    "outputs"
   ],
   "id": "d88242071235eb8f",
   "outputs": [
    {
     "data": {
      "text/plain": [
       "array([[1998.],\n",
       "       [2007.],\n",
       "       [1996.],\n",
       "       ...,\n",
       "       [1990.],\n",
       "       [1989.],\n",
       "       [1992.]])"
      ]
     },
     "execution_count": 15,
     "metadata": {},
     "output_type": "execute_result"
    }
   ],
   "execution_count": 15
  },
  {
   "metadata": {},
   "cell_type": "markdown",
   "source": "### Объединяем с сохраненным индексом",
   "id": "ae15695cb8e2e741"
  },
  {
   "metadata": {
    "ExecuteTime": {
     "end_time": "2024-10-06T00:02:43.218160Z",
     "start_time": "2024-10-06T00:02:43.206616Z"
    }
   },
   "cell_type": "code",
   "source": [
    "pred = pd.concat((test_id, pd.Series(outputs.ravel())), axis=1)\n",
    "pred"
   ],
   "id": "93a578582277ed8b",
   "outputs": [
    {
     "data": {
      "text/plain": [
       "         id       0\n",
       "0      3416  1998.0\n",
       "1     18991  2007.0\n",
       "2     11105  1996.0\n",
       "3     18902  2003.0\n",
       "4     18958  1999.0\n",
       "...     ...     ...\n",
       "5995  15293  1999.0\n",
       "5996   7469  1992.0\n",
       "5997   6586  1990.0\n",
       "5998  17875  1989.0\n",
       "5999  17290  1992.0\n",
       "\n",
       "[6000 rows x 2 columns]"
      ],
      "text/html": [
       "<div>\n",
       "<style scoped>\n",
       "    .dataframe tbody tr th:only-of-type {\n",
       "        vertical-align: middle;\n",
       "    }\n",
       "\n",
       "    .dataframe tbody tr th {\n",
       "        vertical-align: top;\n",
       "    }\n",
       "\n",
       "    .dataframe thead th {\n",
       "        text-align: right;\n",
       "    }\n",
       "</style>\n",
       "<table border=\"1\" class=\"dataframe\">\n",
       "  <thead>\n",
       "    <tr style=\"text-align: right;\">\n",
       "      <th></th>\n",
       "      <th>id</th>\n",
       "      <th>0</th>\n",
       "    </tr>\n",
       "  </thead>\n",
       "  <tbody>\n",
       "    <tr>\n",
       "      <th>0</th>\n",
       "      <td>3416</td>\n",
       "      <td>1998.0</td>\n",
       "    </tr>\n",
       "    <tr>\n",
       "      <th>1</th>\n",
       "      <td>18991</td>\n",
       "      <td>2007.0</td>\n",
       "    </tr>\n",
       "    <tr>\n",
       "      <th>2</th>\n",
       "      <td>11105</td>\n",
       "      <td>1996.0</td>\n",
       "    </tr>\n",
       "    <tr>\n",
       "      <th>3</th>\n",
       "      <td>18902</td>\n",
       "      <td>2003.0</td>\n",
       "    </tr>\n",
       "    <tr>\n",
       "      <th>4</th>\n",
       "      <td>18958</td>\n",
       "      <td>1999.0</td>\n",
       "    </tr>\n",
       "    <tr>\n",
       "      <th>...</th>\n",
       "      <td>...</td>\n",
       "      <td>...</td>\n",
       "    </tr>\n",
       "    <tr>\n",
       "      <th>5995</th>\n",
       "      <td>15293</td>\n",
       "      <td>1999.0</td>\n",
       "    </tr>\n",
       "    <tr>\n",
       "      <th>5996</th>\n",
       "      <td>7469</td>\n",
       "      <td>1992.0</td>\n",
       "    </tr>\n",
       "    <tr>\n",
       "      <th>5997</th>\n",
       "      <td>6586</td>\n",
       "      <td>1990.0</td>\n",
       "    </tr>\n",
       "    <tr>\n",
       "      <th>5998</th>\n",
       "      <td>17875</td>\n",
       "      <td>1989.0</td>\n",
       "    </tr>\n",
       "    <tr>\n",
       "      <th>5999</th>\n",
       "      <td>17290</td>\n",
       "      <td>1992.0</td>\n",
       "    </tr>\n",
       "  </tbody>\n",
       "</table>\n",
       "<p>6000 rows × 2 columns</p>\n",
       "</div>"
      ]
     },
     "execution_count": 16,
     "metadata": {},
     "output_type": "execute_result"
    }
   ],
   "execution_count": 16
  },
  {
   "metadata": {},
   "cell_type": "markdown",
   "source": "### Сохраняем веса модели и предсказаний",
   "id": "a3c51634e42680b"
  },
  {
   "metadata": {
    "ExecuteTime": {
     "end_time": "2024-10-04T18:11:15.422738Z",
     "start_time": "2024-10-04T18:11:15.405639Z"
    }
   },
   "cell_type": "code",
   "source": [
    "torch.save(model.state_dict(), \"SongsPrediction/contest1_2.pth\")\n",
    "pred.to_csv('SongsPrediction/contest1_22_int.csv', index=False)"
   ],
   "id": "6d13739e5d39e2ee",
   "outputs": [],
   "execution_count": 175
  },
  {
   "metadata": {},
   "cell_type": "markdown",
   "source": "# Обучение на рукописном оптимизаторе",
   "id": "70b98d19e8ce2236"
  },
  {
   "metadata": {},
   "cell_type": "markdown",
   "source": "### Немного подправим уже написанный оптимизатор чтобы он работал с торчевской нейронкой: (комментариями отмечено что именно)",
   "id": "6b8926ec2662dbde"
  },
  {
   "metadata": {
    "ExecuteTime": {
     "end_time": "2024-10-06T00:02:50.687052Z",
     "start_time": "2024-10-06T00:02:50.677793Z"
    }
   },
   "cell_type": "code",
   "source": [
    "class Adam:\n",
    "# теперь принимаем параметры в момент инициализации, а не при вызове step\n",
    "    def __init__(self, params, lr=0.001, beta1=0.9, beta2=0.999, eps=1e-8):\n",
    "        self.lr = lr\n",
    "        self.beta1 = beta1\n",
    "        self.beta2 = beta2\n",
    "        self.eps = eps\n",
    "        # делаем из генератора список для простоты и вызываем retain_grad чтобы все было хорошо\n",
    "        self.params = list(params)\n",
    "        for i in self.params:\n",
    "            i.retain_grad()\n",
    "        self.m = {}\n",
    "        self.s = {}\n",
    "# теперь не принимает на вход параметры и градиенты\n",
    "    def step(self):\n",
    "        if not self.m:\n",
    "            self.m = [torch.zeros_like(p) for p in self.params]\n",
    "            self.s = [torch.zeros_like(p) for p in self.params]\n",
    "# добавляем no_grad\n",
    "        with torch.no_grad():\n",
    "            for i, param in enumerate(self.params):\n",
    "                # получаем параметр и высчитанный градиент\n",
    "                p = param\n",
    "                g = param.grad.data\n",
    "                m = self.m[i]\n",
    "                s = self.s[i]\n",
    "    \n",
    "                m = self.beta1 * m + (1 - self.beta1) * g\n",
    "                s = self.beta2 * s + (1 - self.beta2) * (g ** 2)\n",
    "    \n",
    "                p -= self.lr * m / (torch.sqrt(s) + self.eps)\n",
    "    \n",
    "                self.m[i] = m\n",
    "                self.s[i] = s\n",
    "# написали свой zero_grad\n",
    "    def zero_grad(self):\n",
    "        for param in self.params:\n",
    "            if param.grad is not None:\n",
    "                param.grad.data.zero_()"
   ],
   "id": "f50834171244415f",
   "outputs": [],
   "execution_count": 17
  },
  {
   "metadata": {
    "ExecuteTime": {
     "end_time": "2024-10-06T00:06:42.231156Z",
     "start_time": "2024-10-06T00:06:42.224972Z"
    }
   },
   "cell_type": "code",
   "source": [
    "model = Network().to(device)\n",
    "criterion = torch.nn.MSELoss()\n",
    "optimizer = Adam(model.parameters(), lr=0.0001)\n",
    "scheduler = None"
   ],
   "id": "fe32df8bfd6c6d6f",
   "outputs": [],
   "execution_count": 26
  },
  {
   "metadata": {
    "ExecuteTime": {
     "end_time": "2024-10-06T00:08:46.367126Z",
     "start_time": "2024-10-06T00:06:42.421259Z"
    }
   },
   "cell_type": "code",
   "source": [
    "num_epochs = 25\n",
    "train_loss_history, val_loss_history = train_model(model, criterion, optimizer, scheduler, train_loader, val_loader, num_epochs)\n",
    "\n",
    "\n",
    "plt.plot(train_loss_history, label='Train Loss')\n",
    "plt.plot(val_loss_history, label='Validation Loss')\n",
    "plt.xlabel('Epochs')\n",
    "plt.ylabel('Loss')\n",
    "plt.title('Training and Validation Loss')\n",
    "plt.legend()\n",
    "plt.show()"
   ],
   "id": "d479144df53aaea9",
   "outputs": [
    {
     "name": "stdout",
     "output_type": "stream",
     "text": [
      "Epoch [1/25], Loss: 0.8600, Val Loss: 0.7757, LR: 0.0001\n",
      "Epoch [2/25], Loss: 0.7904, Val Loss: 0.7505, LR: 0.0001\n",
      "Epoch [3/25], Loss: 0.7667, Val Loss: 0.7381, LR: 0.0001\n",
      "Epoch [4/25], Loss: 0.7542, Val Loss: 0.7284, LR: 0.0001\n",
      "Epoch [5/25], Loss: 0.7449, Val Loss: 0.7216, LR: 0.0001\n",
      "Epoch [6/25], Loss: 0.7381, Val Loss: 0.7220, LR: 0.0001\n",
      "Epoch [7/25], Loss: 0.7331, Val Loss: 0.7204, LR: 0.0001\n",
      "Epoch [8/25], Loss: 0.7291, Val Loss: 0.7166, LR: 0.0001\n",
      "Epoch [9/25], Loss: 0.7245, Val Loss: 0.7154, LR: 0.0001\n",
      "Epoch [10/25], Loss: 0.7216, Val Loss: 0.7155, LR: 0.0001\n",
      "Epoch [11/25], Loss: 0.7190, Val Loss: 0.7116, LR: 0.0001\n",
      "Epoch [12/25], Loss: 0.7156, Val Loss: 0.7122, LR: 0.0001\n",
      "Epoch [13/25], Loss: 0.7133, Val Loss: 0.7106, LR: 0.0001\n",
      "Epoch [14/25], Loss: 0.7100, Val Loss: 0.7114, LR: 0.0001\n",
      "Epoch [15/25], Loss: 0.7074, Val Loss: 0.7085, LR: 0.0001\n",
      "Epoch [16/25], Loss: 0.7058, Val Loss: 0.7091, LR: 0.0001\n",
      "Epoch [17/25], Loss: 0.7032, Val Loss: 0.7100, LR: 0.0001\n",
      "Epoch [18/25], Loss: 0.7019, Val Loss: 0.7089, LR: 0.0001\n",
      "Epoch [19/25], Loss: 0.6993, Val Loss: 0.7061, LR: 0.0001\n",
      "Epoch [20/25], Loss: 0.6971, Val Loss: 0.7047, LR: 0.0001\n",
      "Epoch [21/25], Loss: 0.6952, Val Loss: 0.7063, LR: 0.0001\n",
      "Epoch [22/25], Loss: 0.6934, Val Loss: 0.7063, LR: 0.0001\n",
      "Epoch [23/25], Loss: 0.6919, Val Loss: 0.7059, LR: 0.0001\n",
      "Epoch [24/25], Loss: 0.6905, Val Loss: 0.7054, LR: 0.0001\n",
      "Epoch [25/25], Loss: 0.6884, Val Loss: 0.7087, LR: 0.0001\n"
     ]
    },
    {
     "data": {
      "text/plain": [
       "<Figure size 640x480 with 1 Axes>"
      ],
      "image/png": "[encoded data removed]"
     },
     "metadata": {},
     "output_type": "display_data"
    }
   ],
   "execution_count": 27
  },
  {
   "metadata": {},
   "cell_type": "markdown",
   "source": "### Как бы это не было удивительно, но все реально работает не хуже чем на встроенном оптимизаторе",
   "id": "4c247bad7a3b15f4"
  },
  {
   "metadata": {},
   "cell_type": "markdown",
   "source": "### Нарисуем график остатков и убедимся что все +- так же",
   "id": "15b568e2424337ea"
  },
  {
   "metadata": {
    "ExecuteTime": {
     "end_time": "2024-10-06T00:09:02.801075Z",
     "start_time": "2024-10-06T00:09:02.535274Z"
    }
   },
   "cell_type": "code",
   "source": [
    "train_x_new = pd.read_csv('SongsPrediction/train_x.csv')\n",
    "train_y_new = pd.read_csv('SongsPrediction/train_y.csv')\n",
    "train_x_new = train_x_new.drop('Unnamed: 0', axis=1)\n",
    "train_y_new = train_y_new.drop('Unnamed: 0', axis=1)\n",
    "train_x_new = torch.tensor(scaler.transform(train_x_new), dtype=torch.float32)\n",
    "\n",
    "\n",
    "with torch.no_grad():\n",
    "    X_val_pred = model(train_x_new.to(device)).detach().cpu().numpy().ravel()\n",
    "    X_val_pred = np.round(X_val_pred * target_std.to_numpy() + target_mean.to_numpy())\n",
    "    # X_val_pred = np.round(X_val_pred)\n",
    "\n",
    "    \n",
    "example = pd.DataFrame({'Predicted': X_val_pred, 'True': train_y_new.to_numpy().ravel()})\n",
    "example['Delta'] = example['Predicted'] - example['True']\n",
    "example"
   ],
   "id": "f87c3037b57e8dbd",
   "outputs": [
    {
     "data": {
      "text/plain": [
       "       Predicted  True  Delta\n",
       "0         1995.0  2001   -6.0\n",
       "1         2002.0  2006   -4.0\n",
       "2         1995.0  1989    6.0\n",
       "3         2002.0  1997    5.0\n",
       "4         2003.0  2001    2.0\n",
       "...          ...   ...    ...\n",
       "13995     2002.0  1999    3.0\n",
       "13996     1997.0  2008  -11.0\n",
       "13997     1996.0  1999   -3.0\n",
       "13998     2000.0  1993    7.0\n",
       "13999     1998.0  1963   35.0\n",
       "\n",
       "[14000 rows x 3 columns]"
      ],
      "text/html": [
       "<div>\n",
       "<style scoped>\n",
       "    .dataframe tbody tr th:only-of-type {\n",
       "        vertical-align: middle;\n",
       "    }\n",
       "\n",
       "    .dataframe tbody tr th {\n",
       "        vertical-align: top;\n",
       "    }\n",
       "\n",
       "    .dataframe thead th {\n",
       "        text-align: right;\n",
       "    }\n",
       "</style>\n",
       "<table border=\"1\" class=\"dataframe\">\n",
       "  <thead>\n",
       "    <tr style=\"text-align: right;\">\n",
       "      <th></th>\n",
       "      <th>Predicted</th>\n",
       "      <th>True</th>\n",
       "      <th>Delta</th>\n",
       "    </tr>\n",
       "  </thead>\n",
       "  <tbody>\n",
       "    <tr>\n",
       "      <th>0</th>\n",
       "      <td>1995.0</td>\n",
       "      <td>2001</td>\n",
       "      <td>-6.0</td>\n",
       "    </tr>\n",
       "    <tr>\n",
       "      <th>1</th>\n",
       "      <td>2002.0</td>\n",
       "      <td>2006</td>\n",
       "      <td>-4.0</td>\n",
       "    </tr>\n",
       "    <tr>\n",
       "      <th>2</th>\n",
       "      <td>1995.0</td>\n",
       "      <td>1989</td>\n",
       "      <td>6.0</td>\n",
       "    </tr>\n",
       "    <tr>\n",
       "      <th>3</th>\n",
       "      <td>2002.0</td>\n",
       "      <td>1997</td>\n",
       "      <td>5.0</td>\n",
       "    </tr>\n",
       "    <tr>\n",
       "      <th>4</th>\n",
       "      <td>2003.0</td>\n",
       "      <td>2001</td>\n",
       "      <td>2.0</td>\n",
       "    </tr>\n",
       "    <tr>\n",
       "      <th>...</th>\n",
       "      <td>...</td>\n",
       "      <td>...</td>\n",
       "      <td>...</td>\n",
       "    </tr>\n",
       "    <tr>\n",
       "      <th>13995</th>\n",
       "      <td>2002.0</td>\n",
       "      <td>1999</td>\n",
       "      <td>3.0</td>\n",
       "    </tr>\n",
       "    <tr>\n",
       "      <th>13996</th>\n",
       "      <td>1997.0</td>\n",
       "      <td>2008</td>\n",
       "      <td>-11.0</td>\n",
       "    </tr>\n",
       "    <tr>\n",
       "      <th>13997</th>\n",
       "      <td>1996.0</td>\n",
       "      <td>1999</td>\n",
       "      <td>-3.0</td>\n",
       "    </tr>\n",
       "    <tr>\n",
       "      <th>13998</th>\n",
       "      <td>2000.0</td>\n",
       "      <td>1993</td>\n",
       "      <td>7.0</td>\n",
       "    </tr>\n",
       "    <tr>\n",
       "      <th>13999</th>\n",
       "      <td>1998.0</td>\n",
       "      <td>1963</td>\n",
       "      <td>35.0</td>\n",
       "    </tr>\n",
       "  </tbody>\n",
       "</table>\n",
       "<p>14000 rows × 3 columns</p>\n",
       "</div>"
      ]
     },
     "execution_count": 28,
     "metadata": {},
     "output_type": "execute_result"
    }
   ],
   "execution_count": 28
  },
  {
   "metadata": {
    "ExecuteTime": {
     "end_time": "2024-10-06T00:09:04.432982Z",
     "start_time": "2024-10-06T00:09:04.176487Z"
    }
   },
   "cell_type": "code",
   "source": [
    "plt.scatter(example['True'], example['Delta'])\n",
    "plt.xlabel('True Values')\n",
    "plt.ylabel('Error')\n",
    "plt.tight_layout()\n",
    "plt.show()"
   ],
   "id": "c252990aa6517b0a",
   "outputs": [
    {
     "data": {
      "text/plain": [
       "<Figure size 640x480 with 1 Axes>"
      ],
      "image/png": "[encoded data removed]"
     },
     "metadata": {},
     "output_type": "display_data"
    }
   ],
   "execution_count": 29
  },
  {
   "metadata": {},
   "cell_type": "code",
   "outputs": [],
   "execution_count": null,
   "source": "",
   "id": "102ed991cf23e5fd"
  }
 ],
 "metadata": {
  "kernelspec": {
   "display_name": "Python 3",
   "language": "python",
   "name": "python3"
  },
  "language_info": {
   "codemirror_mode": {
    "name": "ipython",
    "version": 2
   },
   "file_extension": ".py",
   "mimetype": "text/x-python",
   "name": "python",
   "nbconvert_exporter": "python",
   "pygments_lexer": "ipython2",
   "version": "2.7.6"
  }
 },
 "nbformat": 4,
 "nbformat_minor": 5
}
