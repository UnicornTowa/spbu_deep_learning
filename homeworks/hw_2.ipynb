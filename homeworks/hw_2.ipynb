{
 "cells": [
  {
   "metadata": {},
   "cell_type": "markdown",
   "source": "# Домашка 2",
   "id": "6f0705d31f5d0eaf"
  },
  {
   "metadata": {},
   "cell_type": "markdown",
   "source": "### Задание 1",
   "id": "3e0798193258bc10"
  },
  {
   "metadata": {},
   "cell_type": "markdown",
   "source": "### Надеюсь можно использовать numpy массивы для хранения element чтобы не реализовывать матричные операции)",
   "id": "3beba6e49d21f77a"
  },
  {
   "cell_type": "code",
   "id": "initial_id",
   "metadata": {
    "collapsed": true,
    "ExecuteTime": {
     "end_time": "2024-10-05T22:07:31.384758Z",
     "start_time": "2024-10-05T22:07:31.380607Z"
    }
   },
   "source": [
    "import torch\n",
    "import numpy as np"
   ],
   "outputs": [],
   "execution_count": 469
  },
  {
   "metadata": {},
   "cell_type": "markdown",
   "source": "### Дореализовали все базовые операции. Теперь можем складывать / вычитать / делить / умножать элементы с другими элементами или со скалярами в любом порядке и возводить элемент в числовую степень и число в степень элемента",
   "id": "2edf5e742cc13a36"
  },
  {
   "metadata": {
    "ExecuteTime": {
     "end_time": "2024-10-05T22:07:31.443446Z",
     "start_time": "2024-10-05T22:07:31.420436Z"
    }
   },
   "cell_type": "code",
   "source": [
    "class Element:\n",
    "    def __init__(self, data, _children=(), _op=''):\n",
    "        self.data = data\n",
    "        self.grad = 0\n",
    "        self._backward = lambda: None\n",
    "        self._prev = set(_children)\n",
    "        self._op = _op\n",
    "\n",
    "    def __repr__(self):\n",
    "        return f\"Element(data={self.data}, grad={self.grad})\"\n",
    "    \n",
    "    def __add__(self, other):\n",
    "        if isinstance(other, Element):\n",
    "            res = Element(self.data + other.data, (self, other), '+')\n",
    "            def _backward():\n",
    "                self.grad += 1 * res.grad\n",
    "                other.grad += 1 * res.grad\n",
    "            res._backward = _backward\n",
    "            return res\n",
    "        else:\n",
    "            res = Element(self.data + other, tuple([self]), '+')\n",
    "            def _backward():\n",
    "                self.grad += 1 * res.grad\n",
    "            res._backward = _backward\n",
    "            return res\n",
    "        \n",
    "    def __radd__(self, other):\n",
    "        return self + other\n",
    "    \n",
    "    def __sub__(self, other):\n",
    "        return self + other * (-1)\n",
    "    \n",
    "    def __rsub__(self, other):\n",
    "        return other + (-1) * self\n",
    "    \n",
    "    def __neg__(self):\n",
    "        return 0 - self\n",
    "\n",
    "    def __mul__(self, other):\n",
    "        if isinstance(other, Element):\n",
    "            res = Element(self.data * other.data, (self, other), '*')\n",
    "            def _backward():\n",
    "                self.grad += other.data * res.grad\n",
    "                other.grad += self.data * res.grad\n",
    "            res._backward = _backward\n",
    "            return res\n",
    "        else:\n",
    "            res = Element(self.data * other, tuple([self]), '*')\n",
    "            def _backward():\n",
    "                self.grad += other * res.grad\n",
    "            res._backward = _backward\n",
    "            return res\n",
    "        \n",
    "    def __rmul__(self, other):\n",
    "        return self * other\n",
    "        \n",
    "    def __truediv__(self, other):\n",
    "        if isinstance(other, Element):\n",
    "            res = Element(self.data / other.data, (self, other), '/')\n",
    "            def _backward():\n",
    "                self.grad += 1 / other.data * res.grad\n",
    "                other.grad += (-1) * self.data / other.data ** 2 * res.grad\n",
    "            res._backward = _backward\n",
    "            return res\n",
    "        else:\n",
    "            res = Element(self.data / other, tuple([self]), '/')\n",
    "            def _backward():\n",
    "                self.grad += 1 / other * res.grad\n",
    "            res._backward = _backward\n",
    "            return res\n",
    "        \n",
    "    def __rtruediv__(self, other):\n",
    "        res = Element(other / self.data, tuple([self]), '/')\n",
    "        def _backward():\n",
    "            self.grad += (-1) * other/ self.data ** 2 * res.grad\n",
    "        res._backward = _backward\n",
    "        return res            \n",
    "    \n",
    "    def __pow__(self, power):\n",
    "        res = Element(self.data ** power, tuple([self]), '**')\n",
    "        def _backward():\n",
    "            self.grad += power * self.data ** (power - 1) * res.grad\n",
    "        res._backward = _backward\n",
    "        return res\n",
    "    \n",
    "    def __rpow__(self, other):\n",
    "        res = Element(other ** self.data, tuple([self]), '**')\n",
    "        def _backward():\n",
    "            self.grad += other ** self.data * np.log(other) * res.grad\n",
    "        res._backward = _backward\n",
    "        return res\n",
    "    \n",
    "    def relu(self):\n",
    "        res = Element(max(0, self.data), (self,), 'ReLU')\n",
    "        def _backward():\n",
    "            self.grad += res.grad if res.data > 0 else 0\n",
    "        res._backward = _backward\n",
    "\n",
    "        return res\n",
    "\n",
    "    def backward(self):\n",
    "        visited = set()\n",
    "        topo = []\n",
    "\n",
    "        def build_topo(v):\n",
    "            if v not in visited:\n",
    "                visited.add(v)\n",
    "                for child in v._prev:\n",
    "                    build_topo(child)\n",
    "                topo.append(v)\n",
    "\n",
    "        build_topo(self)\n",
    "\n",
    "        self.grad = 1\n",
    "        for v in reversed(topo):\n",
    "            v._backward()\n",
    "\n",
    "# Функция которая из массива элементов делает массив чисел          \n",
    "def numerize(arr:np.ndarray[Element]):\n",
    "    new_arr = np.empty_like(arr)\n",
    "    if len(arr.shape) == 1:\n",
    "        for i in range(len(arr)):\n",
    "            new_arr[i] = arr[i].data\n",
    "        return new_arr\n",
    "    else:\n",
    "        for i in range(len(arr)):\n",
    "            new_arr[i] = numerize(arr[i])\n",
    "        return new_arr\n",
    "\n",
    "# Функция которая из массива чисел делает массив элементов \n",
    "def elementize(arr:np.ndarray):\n",
    "    new_arr = np.empty_like(arr, dtype=Element)\n",
    "    if len(arr.shape) == 1:\n",
    "        for i in range(len(arr)):\n",
    "            new_arr[i] = Element(arr[i])\n",
    "        return new_arr\n",
    "    else:\n",
    "        for i in range(len(arr)):\n",
    "            new_arr[i] = elementize(arr[i])\n",
    "        return new_arr"
   ],
   "id": "f6d163a679352d31",
   "outputs": [],
   "execution_count": 470
  },
  {
   "metadata": {},
   "cell_type": "markdown",
   "source": "### BatchNorm",
   "id": "b3882c0cc60ba135"
  },
  {
   "metadata": {
    "ExecuteTime": {
     "end_time": "2024-10-05T22:07:31.464143Z",
     "start_time": "2024-10-05T22:07:31.456347Z"
    }
   },
   "cell_type": "code",
   "source": [
    "class BatchNorm1d:\n",
    "    def __init__(self, dim, eps=1e-8):\n",
    "        self.dim = dim\n",
    "        # создаем параметры gamma и eps. Они Elements т.к. обучаются\n",
    "        self.gamma = np.array([Element(data=1)] * dim)\n",
    "        self.beta = np.array([Element(data=0)] * dim)\n",
    "        self.eps = eps\n",
    "        pass\n",
    "    def __call__(self, x):\n",
    "        # Вычисляем среднее и дисперсию\n",
    "        # Применяем numerize потому что хотим интерпретировать их как числа\n",
    "        mu = numerize(x.mean(axis=0))\n",
    "        var = numerize(1 / (self.dim - 1) * np.sum((x - mu) ** 2, axis=0))\n",
    "        # Нормализовываем и применяем преобразование\n",
    "        x_normalized = (x - mu) / (var + self.eps) ** (1 / 2)\n",
    "        y = self.gamma * x_normalized + self.beta\n",
    "        return y        "
   ],
   "id": "50ea3f6819baf996",
   "outputs": [],
   "execution_count": 471
  },
  {
   "metadata": {},
   "cell_type": "markdown",
   "source": "### Пример",
   "id": "3bfb8960847a4f3"
  },
  {
   "metadata": {
    "ExecuteTime": {
     "end_time": "2024-10-05T22:13:03.178144Z",
     "start_time": "2024-10-05T22:13:03.169780Z"
    }
   },
   "cell_type": "code",
   "source": [
    "data = np.array([[Element(0), Element(1), Element(8)], [Element(5), Element(-7), Element(3)], \n",
    "                 [Element(-14), Element(6), Element(4)]])\n",
    "data"
   ],
   "id": "e0cb639420665413",
   "outputs": [
    {
     "data": {
      "text/plain": [
       "array([[Element(data=0, grad=0), Element(data=1, grad=0),\n",
       "        Element(data=8, grad=0)],\n",
       "       [Element(data=5, grad=0), Element(data=-7, grad=0),\n",
       "        Element(data=3, grad=0)],\n",
       "       [Element(data=-14, grad=0), Element(data=6, grad=0),\n",
       "        Element(data=4, grad=0)]], dtype=object)"
      ]
     },
     "execution_count": 522,
     "metadata": {},
     "output_type": "execute_result"
    }
   ],
   "execution_count": 522
  },
  {
   "metadata": {},
   "cell_type": "markdown",
   "source": "### Все работает",
   "id": "db57b0b57f486265"
  },
  {
   "metadata": {
    "ExecuteTime": {
     "end_time": "2024-10-05T22:13:03.882884Z",
     "start_time": "2024-10-05T22:13:03.876950Z"
    }
   },
   "cell_type": "code",
   "source": [
    "norm = BatchNorm1d(3)\n",
    "normalized_data = norm(data)\n",
    "normalized_data"
   ],
   "id": "789d88268b63e84e",
   "outputs": [
    {
     "data": {
      "text/plain": [
       "array([[Element(data=0.30460384952438446, grad=0),\n",
       "        Element(data=0.15249857031487227, grad=0),\n",
       "        Element(data=1.1338934182177578, grad=0)],\n",
       "       [Element(data=0.8122769320650253, grad=0),\n",
       "        Element(data=-1.067489992204106, grad=0),\n",
       "        Element(data=-0.7559289454785052, grad=0)],\n",
       "       [Element(data=-1.1168807815894097, grad=0),\n",
       "        Element(data=0.9149914218892337, grad=0),\n",
       "        Element(data=-0.3779644727392526, grad=0)]], dtype=object)"
      ]
     },
     "execution_count": 523,
     "metadata": {},
     "output_type": "execute_result"
    }
   ],
   "execution_count": 523
  },
  {
   "metadata": {
    "ExecuteTime": {
     "end_time": "2024-10-05T22:13:04.292901Z",
     "start_time": "2024-10-05T22:13:04.286484Z"
    }
   },
   "cell_type": "code",
   "source": [
    "example_fun = 100 * np.sum(normalized_data ** 2 * np.array([1, -5, 4]))\n",
    "example_fun"
   ],
   "id": "62bb02ff259548b1",
   "outputs": [
    {
     "data": {
      "text/plain": [
       "Element(data=-9.309175430516348e-07, grad=0)"
      ]
     },
     "execution_count": 524,
     "metadata": {},
     "output_type": "execute_result"
    }
   ],
   "execution_count": 524
  },
  {
   "metadata": {},
   "cell_type": "markdown",
   "source": "### Градиенты считаются",
   "id": "fd98e56acbc8cb45"
  },
  {
   "metadata": {
    "ExecuteTime": {
     "end_time": "2024-10-05T22:13:05.221874Z",
     "start_time": "2024-10-05T22:13:05.216206Z"
    }
   },
   "cell_type": "code",
   "source": [
    "example_fun.backward()\n",
    "data"
   ],
   "id": "9ac255cfd1078a5c",
   "outputs": [
    {
     "data": {
      "text/plain": [
       "array([[Element(data=0, grad=6.1855670096715905),\n",
       "        Element(data=1, grad=-23.255813948080043),\n",
       "        Element(data=8, grad=342.85714236734697)],\n",
       "       [Element(data=5, grad=16.49484535912424),\n",
       "        Element(data=-7, grad=162.79069763656028),\n",
       "        Element(data=3, grad=-228.57142824489796)],\n",
       "       [Element(data=-14, grad=-22.68041236879583),\n",
       "        Element(data=6, grad=-139.53488368848025),\n",
       "        Element(data=4, grad=-114.28571412244898)]], dtype=object)"
      ]
     },
     "execution_count": 525,
     "metadata": {},
     "output_type": "execute_result"
    }
   ],
   "execution_count": 525
  },
  {
   "metadata": {},
   "cell_type": "markdown",
   "source": "### И у параметров batchnorm тоже",
   "id": "3e428fe5eceed45d"
  },
  {
   "metadata": {
    "ExecuteTime": {
     "end_time": "2024-10-05T22:13:07.490492Z",
     "start_time": "2024-10-05T22:13:07.482371Z"
    }
   },
   "cell_type": "code",
   "source": "display(norm.gamma, norm.beta)",
   "id": "95ecfc78da6e03dc",
   "outputs": [
    {
     "data": {
      "text/plain": [
       "array([Element(data=1, grad=-1.8618350452470622e-06),\n",
       "       Element(data=1, grad=-1.8618350452470622e-06),\n",
       "       Element(data=1, grad=-1.8618350452470622e-06)], dtype=object)"
      ]
     },
     "metadata": {},
     "output_type": "display_data"
    },
    {
     "data": {
      "text/plain": [
       "array([Element(data=0, grad=-5.684341886080802e-14),\n",
       "       Element(data=0, grad=-5.684341886080802e-14),\n",
       "       Element(data=0, grad=-5.684341886080802e-14)], dtype=object)"
      ]
     },
     "metadata": {},
     "output_type": "display_data"
    }
   ],
   "execution_count": 526
  },
  {
   "metadata": {},
   "cell_type": "markdown",
   "source": "### Linear",
   "id": "b16eb7133f352126"
  },
  {
   "metadata": {
    "ExecuteTime": {
     "end_time": "2024-10-05T22:07:32.188221Z",
     "start_time": "2024-10-05T22:07:32.182910Z"
    }
   },
   "cell_type": "code",
   "source": [
    "class Linear:\n",
    "    def __init__(self, in_features, out_features):\n",
    "        # Параметры - матрица весов W и вектор сдвига b\n",
    "        # инициализируем случайными весами от -0.5 до 0.5 \n",
    "        self.W = elementize(np.random.rand(in_features, out_features) - 0.5)\n",
    "        self.b = elementize(np.random.rand(out_features) - 0.5)\n",
    "    def __call__(self, x):\n",
    "        # Спасибо numpy за матричные операции!!\n",
    "        return x @ self.W + self.b "
   ],
   "id": "52be33d81e793f81",
   "outputs": [],
   "execution_count": 477
  },
  {
   "metadata": {},
   "cell_type": "markdown",
   "source": "### Пример",
   "id": "a33c2fbd192e6087"
  },
  {
   "metadata": {
    "ExecuteTime": {
     "end_time": "2024-10-05T22:19:33.412473Z",
     "start_time": "2024-10-05T22:19:33.405812Z"
    }
   },
   "cell_type": "code",
   "source": [
    "data = np.array([[Element(0), Element(1), Element(8)], [Element(5), Element(-7), Element(3)], \n",
    "                 [Element(-14), Element(6), Element(4)]])\n",
    "data"
   ],
   "id": "17357f14143a3f36",
   "outputs": [
    {
     "data": {
      "text/plain": [
       "array([[Element(data=0, grad=0), Element(data=1, grad=0),\n",
       "        Element(data=8, grad=0)],\n",
       "       [Element(data=5, grad=0), Element(data=-7, grad=0),\n",
       "        Element(data=3, grad=0)],\n",
       "       [Element(data=-14, grad=0), Element(data=6, grad=0),\n",
       "        Element(data=4, grad=0)]], dtype=object)"
      ]
     },
     "execution_count": 551,
     "metadata": {},
     "output_type": "execute_result"
    }
   ],
   "execution_count": 551
  },
  {
   "metadata": {
    "ExecuteTime": {
     "end_time": "2024-10-05T22:19:33.845789Z",
     "start_time": "2024-10-05T22:19:33.839789Z"
    }
   },
   "cell_type": "code",
   "source": [
    "linear = Linear(3, 1)\n",
    "result = linear(data)\n",
    "result"
   ],
   "id": "921af8b623851a73",
   "outputs": [
    {
     "data": {
      "text/plain": [
       "array([[Element(data=-1.4332346403411869, grad=0)],\n",
       "       [Element(data=-0.9533534851117019, grad=0)],\n",
       "       [Element(data=-0.3812764872122557, grad=0)]], dtype=object)"
      ]
     },
     "execution_count": 552,
     "metadata": {},
     "output_type": "execute_result"
    }
   ],
   "execution_count": 552
  },
  {
   "metadata": {
    "ExecuteTime": {
     "end_time": "2024-10-05T22:19:45.034184Z",
     "start_time": "2024-10-05T22:19:45.027744Z"
    }
   },
   "cell_type": "code",
   "source": [
    "example_loss = np.sum((result - np.array([[-1, -1, -1]]))**2)\n",
    "example_loss"
   ],
   "id": "13dba28dc81ae356",
   "outputs": [
    {
     "data": {
      "text/plain": [
       "Element(data=1.7180608086575633, grad=0)"
      ]
     },
     "execution_count": 553,
     "metadata": {},
     "output_type": "execute_result"
    }
   ],
   "execution_count": 553
  },
  {
   "metadata": {
    "ExecuteTime": {
     "end_time": "2024-10-05T22:19:47.633488Z",
     "start_time": "2024-10-05T22:19:47.627472Z"
    }
   },
   "cell_type": "code",
   "source": [
    "example_loss.backward()\n",
    "linear.W"
   ],
   "id": "3c77e2f83464f33a",
   "outputs": [
    {
     "data": {
      "text/plain": [
       "array([[Element(data=0.022777556690676493, grad=-50.57337962752157)],\n",
       "       [Element(data=0.09456572362960702, grad=17.71548499300315)],\n",
       "       [Element(data=-0.22450383216259173, grad=-5.1062611614817435)]],\n",
       "      dtype=object)"
      ]
     },
     "execution_count": 554,
     "metadata": {},
     "output_type": "execute_result"
    }
   ],
   "execution_count": 554
  },
  {
   "metadata": {
    "ExecuteTime": {
     "end_time": "2024-10-05T22:21:58.754431Z",
     "start_time": "2024-10-05T22:21:58.749452Z"
    }
   },
   "cell_type": "code",
   "source": [
    "class Dropout:\n",
    "    def __init__(self, p=0.2):\n",
    "        self.p = p\n",
    "    def __call__(self, x):\n",
    "        # Строки - батчи, столбцы - нейроны. Мы генерируем строку 0 или 1 с вероятностью p\n",
    "        # умножив x на эту строку мы \"отключим\" каждый нейрон с вероятностью p\n",
    "        mask = (np.random.rand(x.shape[1]) > self.p).astype(int)\n",
    "        return x * mask"
   ],
   "id": "685e42dc94ebe731",
   "outputs": [],
   "execution_count": 585
  },
  {
   "metadata": {
    "ExecuteTime": {
     "end_time": "2024-10-05T22:22:19.916557Z",
     "start_time": "2024-10-05T22:22:19.909268Z"
    }
   },
   "cell_type": "code",
   "source": [
    "data = np.array([[Element(0), Element(1), Element(8)], [Element(5), Element(-7), Element(3)], \n",
    "                 [Element(-14), Element(6), Element(4)]])\n",
    "data"
   ],
   "id": "576c40e7fa5e200d",
   "outputs": [
    {
     "data": {
      "text/plain": [
       "array([[Element(data=0, grad=0), Element(data=1, grad=0),\n",
       "        Element(data=8, grad=0)],\n",
       "       [Element(data=5, grad=0), Element(data=-7, grad=0),\n",
       "        Element(data=3, grad=0)],\n",
       "       [Element(data=-14, grad=0), Element(data=6, grad=0),\n",
       "        Element(data=4, grad=0)]], dtype=object)"
      ]
     },
     "execution_count": 592,
     "metadata": {},
     "output_type": "execute_result"
    }
   ],
   "execution_count": 592
  },
  {
   "metadata": {},
   "cell_type": "markdown",
   "source": "### Видим что все работает",
   "id": "f79ca977ee28039c"
  },
  {
   "metadata": {
    "ExecuteTime": {
     "end_time": "2024-10-05T22:23:15.898091Z",
     "start_time": "2024-10-05T22:23:15.891250Z"
    }
   },
   "cell_type": "code",
   "source": [
    "dropout = Dropout(0.3)\n",
    "result = dropout(data)\n",
    "result"
   ],
   "id": "7101ded23486636b",
   "outputs": [
    {
     "data": {
      "text/plain": [
       "array([[Element(data=0, grad=0), Element(data=0, grad=0),\n",
       "        Element(data=8, grad=0)],\n",
       "       [Element(data=5, grad=0), Element(data=0, grad=0),\n",
       "        Element(data=3, grad=0)],\n",
       "       [Element(data=-14, grad=0), Element(data=0, grad=0),\n",
       "        Element(data=4, grad=0)]], dtype=object)"
      ]
     },
     "execution_count": 602,
     "metadata": {},
     "output_type": "execute_result"
    }
   ],
   "execution_count": 602
  },
  {
   "metadata": {},
   "cell_type": "markdown",
   "source": "### ReLU",
   "id": "598d094b67dbefc2"
  },
  {
   "metadata": {
    "ExecuteTime": {
     "end_time": "2024-10-05T22:07:33.220364Z",
     "start_time": "2024-10-05T22:07:33.214715Z"
    }
   },
   "cell_type": "code",
   "source": [
    "class ReLU:\n",
    "    def __call__(self, x):\n",
    "        # создаем выход того же размера\n",
    "        res = np.empty_like(x, dtype=Element)\n",
    "        if len(x.shape) == 1:\n",
    "            for i in range(len(x)):\n",
    "                # дергаем relu у элемента\n",
    "                res[i] = x[i].relu()\n",
    "            return res\n",
    "        else:\n",
    "            for i in range(len(x)):\n",
    "                res[i] = self(x[i])\n",
    "            return res"
   ],
   "id": "57f68f051d7e946f",
   "outputs": [],
   "execution_count": 485
  },
  {
   "metadata": {
    "ExecuteTime": {
     "end_time": "2024-10-05T22:07:33.311173Z",
     "start_time": "2024-10-05T22:07:33.304402Z"
    }
   },
   "cell_type": "code",
   "source": [
    "data = np.array([[Element(0), Element(1), Element(8)], [Element(5), Element(-7), Element(3)], \n",
    "                 [Element(-14), Element(6), Element(4)]])\n",
    "data"
   ],
   "id": "dbc95e4fefdeae78",
   "outputs": [
    {
     "data": {
      "text/plain": [
       "array([[Element(data=0, grad=0), Element(data=1, grad=0),\n",
       "        Element(data=8, grad=0)],\n",
       "       [Element(data=5, grad=0), Element(data=-7, grad=0),\n",
       "        Element(data=3, grad=0)],\n",
       "       [Element(data=-14, grad=0), Element(data=6, grad=0),\n",
       "        Element(data=4, grad=0)]], dtype=object)"
      ]
     },
     "execution_count": 486,
     "metadata": {},
     "output_type": "execute_result"
    }
   ],
   "execution_count": 486
  },
  {
   "metadata": {},
   "cell_type": "markdown",
   "source": "### Отрицательные элементы обнулились",
   "id": "dc861d8d3729864a"
  },
  {
   "metadata": {
    "ExecuteTime": {
     "end_time": "2024-10-05T22:07:33.454356Z",
     "start_time": "2024-10-05T22:07:33.448616Z"
    }
   },
   "cell_type": "code",
   "source": [
    "relu = ReLU()\n",
    "result = relu(data)\n",
    "result"
   ],
   "id": "503d7b1f5c844d12",
   "outputs": [
    {
     "data": {
      "text/plain": [
       "array([[Element(data=0, grad=0), Element(data=1, grad=0),\n",
       "        Element(data=8, grad=0)],\n",
       "       [Element(data=5, grad=0), Element(data=0, grad=0),\n",
       "        Element(data=3, grad=0)],\n",
       "       [Element(data=0, grad=0), Element(data=6, grad=0),\n",
       "        Element(data=4, grad=0)]], dtype=object)"
      ]
     },
     "execution_count": 487,
     "metadata": {},
     "output_type": "execute_result"
    }
   ],
   "execution_count": 487
  },
  {
   "metadata": {},
   "cell_type": "markdown",
   "source": "### Sigmoid",
   "id": "f4cdf76efda04dbc"
  },
  {
   "metadata": {
    "ExecuteTime": {
     "end_time": "2024-10-05T22:07:33.580239Z",
     "start_time": "2024-10-05T22:07:33.573174Z"
    }
   },
   "cell_type": "code",
   "source": [
    "# проверка что все действительно правильно дифференцируется\n",
    "a = Element(2)\n",
    "res = 1 / (1 + np.e ** (-a))\n",
    "res.backward()\n",
    "a\n",
    "# ответ правильный"
   ],
   "id": "a55e6da4dbc9adc7",
   "outputs": [
    {
     "data": {
      "text/plain": [
       "Element(data=2, grad=0.1049935854035065)"
      ]
     },
     "execution_count": 488,
     "metadata": {},
     "output_type": "execute_result"
    }
   ],
   "execution_count": 488
  },
  {
   "metadata": {
    "ExecuteTime": {
     "end_time": "2024-10-05T22:07:33.694060Z",
     "start_time": "2024-10-05T22:07:33.688128Z"
    }
   },
   "cell_type": "code",
   "source": [
    "def sigmoid(x):\n",
    "    return 1 / (1 + np.e ** (-x))\n",
    "\n",
    "# как ReLU только вызываем сигмоиду\n",
    "class Sigmoid:\n",
    "    def __call__(self, x):\n",
    "        y = np.empty_like(x)\n",
    "        if len(x.shape) == 1:\n",
    "            for i in range(len(x)):\n",
    "                y[i] = sigmoid(x[i])\n",
    "            return y\n",
    "        else:\n",
    "            for i in range(len(x)):\n",
    "                y[i] = self(x[i])\n",
    "            return y"
   ],
   "id": "e9f9151bb472001d",
   "outputs": [],
   "execution_count": 489
  },
  {
   "metadata": {
    "ExecuteTime": {
     "end_time": "2024-10-05T22:07:33.861471Z",
     "start_time": "2024-10-05T22:07:33.854668Z"
    }
   },
   "cell_type": "code",
   "source": [
    "data = np.array([[Element(0), Element(1), Element(8)], [Element(5), Element(-7), Element(3)], \n",
    "                 [Element(-14), Element(6), Element(4)]])\n",
    "data"
   ],
   "id": "2a27472d9525b332",
   "outputs": [
    {
     "data": {
      "text/plain": [
       "array([[Element(data=0, grad=0), Element(data=1, grad=0),\n",
       "        Element(data=8, grad=0)],\n",
       "       [Element(data=5, grad=0), Element(data=-7, grad=0),\n",
       "        Element(data=3, grad=0)],\n",
       "       [Element(data=-14, grad=0), Element(data=6, grad=0),\n",
       "        Element(data=4, grad=0)]], dtype=object)"
      ]
     },
     "execution_count": 491,
     "metadata": {},
     "output_type": "execute_result"
    }
   ],
   "execution_count": 491
  },
  {
   "metadata": {},
   "cell_type": "markdown",
   "source": "### Значения стали от нуля до единицы",
   "id": "69692dd5b6a9fced"
  },
  {
   "metadata": {
    "ExecuteTime": {
     "end_time": "2024-10-05T22:07:33.932199Z",
     "start_time": "2024-10-05T22:07:33.926341Z"
    }
   },
   "cell_type": "code",
   "source": [
    "sigm = Sigmoid()\n",
    "result = sigm(data)\n",
    "result"
   ],
   "id": "124b5a3ca5faf60",
   "outputs": [
    {
     "data": {
      "text/plain": [
       "array([[Element(data=0.5, grad=0),\n",
       "        Element(data=0.7310585786300049, grad=0),\n",
       "        Element(data=0.9996646498695336, grad=0)],\n",
       "       [Element(data=0.9933071490757153, grad=0),\n",
       "        Element(data=0.0009110511944006456, grad=0),\n",
       "        Element(data=0.9525741268224331, grad=0)],\n",
       "       [Element(data=8.315280276641327e-07, grad=0),\n",
       "        Element(data=0.9975273768433653, grad=0),\n",
       "        Element(data=0.9820137900379085, grad=0)]], dtype=object)"
      ]
     },
     "execution_count": 492,
     "metadata": {},
     "output_type": "execute_result"
    }
   ],
   "execution_count": 492
  },
  {
   "metadata": {},
   "cell_type": "markdown",
   "source": "### Softmax",
   "id": "b5f665a0c09c65df"
  },
  {
   "metadata": {
    "ExecuteTime": {
     "end_time": "2024-10-05T22:07:34.315930Z",
     "start_time": "2024-10-05T22:07:34.310777Z"
    }
   },
   "cell_type": "code",
   "source": [
    "def softmax(x):\n",
    "    return np.e ** x / np.sum(np.e ** x)\n",
    "    \n",
    "\n",
    "class Softmax:\n",
    "    def __call__(self, x):\n",
    "        # построчно вызываем softmax\n",
    "        res = np.empty_like(x)\n",
    "        for i in range(len(x)):\n",
    "            res[i] = softmax(x[i])\n",
    "        return res\n",
    "        "
   ],
   "id": "beb33616efd3be12",
   "outputs": [],
   "execution_count": 494
  },
  {
   "metadata": {
    "ExecuteTime": {
     "end_time": "2024-10-05T22:07:34.357769Z",
     "start_time": "2024-10-05T22:07:34.351849Z"
    }
   },
   "cell_type": "code",
   "source": "data",
   "id": "2903ddba95750bbb",
   "outputs": [
    {
     "data": {
      "text/plain": [
       "array([[Element(data=0, grad=0), Element(data=1, grad=0),\n",
       "        Element(data=8, grad=0)],\n",
       "       [Element(data=5, grad=0), Element(data=-7, grad=0),\n",
       "        Element(data=3, grad=0)],\n",
       "       [Element(data=-14, grad=0), Element(data=6, grad=0),\n",
       "        Element(data=4, grad=0)]], dtype=object)"
      ]
     },
     "execution_count": 495,
     "metadata": {},
     "output_type": "execute_result"
    }
   ],
   "execution_count": 495
  },
  {
   "metadata": {},
   "cell_type": "markdown",
   "source": "### Сумма по столбцам стала равна 1",
   "id": "783aa7c82ccff1ce"
  },
  {
   "metadata": {
    "ExecuteTime": {
     "end_time": "2024-10-05T22:07:34.440711Z",
     "start_time": "2024-10-05T22:07:34.434264Z"
    }
   },
   "cell_type": "code",
   "source": [
    "soft = Softmax()\n",
    "res = soft(data)\n",
    "res"
   ],
   "id": "eb1455d2405802e3",
   "outputs": [
    {
     "data": {
      "text/plain": [
       "array([[Element(data=0.0003350447116928156, grad=0),\n",
       "        Element(data=0.0009107459515158803, grad=0),\n",
       "        Element(data=0.9987542093367913, grad=0)],\n",
       "       [Element(data=0.8807923113022759, grad=0),\n",
       "        Element(data=5.411774999819953e-06, grad=0),\n",
       "        Element(data=0.11920227692272425, grad=0)],\n",
       "       [Element(data=1.815458084611523e-09, grad=0),\n",
       "        Element(data=0.8807970763788322, grad=0),\n",
       "        Element(data=0.11920292180570966, grad=0)]], dtype=object)"
      ]
     },
     "execution_count": 496,
     "metadata": {},
     "output_type": "execute_result"
    }
   ],
   "execution_count": 496
  },
  {
   "metadata": {
    "ExecuteTime": {
     "end_time": "2024-10-05T22:07:34.579268Z",
     "start_time": "2024-10-05T22:07:34.572134Z"
    }
   },
   "cell_type": "code",
   "source": "np.sum(res, axis=1)",
   "id": "7e3b5f5d6cc147ae",
   "outputs": [
    {
     "data": {
      "text/plain": [
       "array([Element(data=1.0, grad=0),\n",
       "       Element(data=0.9999999999999999, grad=0),\n",
       "       Element(data=1.0, grad=0)], dtype=object)"
      ]
     },
     "execution_count": 497,
     "metadata": {},
     "output_type": "execute_result"
    }
   ],
   "execution_count": 497
  },
  {
   "metadata": {
    "ExecuteTime": {
     "end_time": "2024-10-05T23:02:50.170183Z",
     "start_time": "2024-10-05T23:02:50.166075Z"
    }
   },
   "cell_type": "code",
   "source": [
    "a = [1, 2]\n",
    "b = [3, 4]"
   ],
   "id": "f6c70c216442904f",
   "outputs": [],
   "execution_count": 604
  },
  {
   "metadata": {
    "ExecuteTime": {
     "end_time": "2024-10-05T23:03:14.319128Z",
     "start_time": "2024-10-05T23:03:14.314951Z"
    }
   },
   "cell_type": "code",
   "source": "a += b",
   "id": "8693b380dba79da7",
   "outputs": [],
   "execution_count": 607
  },
  {
   "metadata": {
    "ExecuteTime": {
     "end_time": "2024-10-05T23:03:18.882946Z",
     "start_time": "2024-10-05T23:03:18.876310Z"
    }
   },
   "cell_type": "code",
   "source": "a",
   "id": "175a36d5c6f84f42",
   "outputs": [
    {
     "data": {
      "text/plain": [
       "[1, 2, 3, 4]"
      ]
     },
     "execution_count": 608,
     "metadata": {},
     "output_type": "execute_result"
    }
   ],
   "execution_count": 608
  },
  {
   "metadata": {},
   "cell_type": "code",
   "outputs": [],
   "execution_count": null,
   "source": "",
   "id": "325176d71bf0f9cb"
  }
 ],
 "metadata": {
  "kernelspec": {
   "display_name": "Python 3",
   "language": "python",
   "name": "python3"
  },
  "language_info": {
   "codemirror_mode": {
    "name": "ipython",
    "version": 2
   },
   "file_extension": ".py",
   "mimetype": "text/x-python",
   "name": "python",
   "nbconvert_exporter": "python",
   "pygments_lexer": "ipython2",
   "version": "2.7.6"
  }
 },
 "nbformat": 4,
 "nbformat_minor": 5
}
