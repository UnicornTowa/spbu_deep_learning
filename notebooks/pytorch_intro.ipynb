{
 "cells": [
  {
   "cell_type": "markdown",
   "id": "eb07947b",
   "metadata": {},
   "source": [
    "# Введение в Pytorch\n"
   ]
  },
  {
   "cell_type": "markdown",
   "id": "f7ae15d0",
   "metadata": {},
   "source": [
    "В этом курсе мы по большей части будем пользоваться pytorch.\n",
    "Этот фреймворк во многом похож на numpy, главное его отлисие в том, что он может считать градиенты с помощью своего autograd модуля. Еще одно отличие - он поддерживает gpu.\n",
    "\n",
    "План ноутбука:\n",
    "1) основные операции\n",
    "2) тензоры\n",
    "3) градиенты\n",
    "2) пайплайн обучения"
   ]
  },
  {
   "cell_type": "markdown",
   "source": [
    "# Основные операции"
   ],
   "metadata": {
    "collapsed": false
   },
   "id": "b2863776a1a920a8"
  },
  {
   "cell_type": "code",
   "source": [
    "import numpy as np\n",
    "import torch\n",
    "from functorch.dim import softmax\n",
    "from matplotlib import pyplot as plt\n",
    "from urllib3.util.wait import select_wait_for_socket"
   ],
   "metadata": {
    "collapsed": false,
    "ExecuteTime": {
     "end_time": "2024-09-23T12:36:44.130417Z",
     "start_time": "2024-09-23T12:36:40.267017Z"
    }
   },
   "id": "5fa5604b3e462b5",
   "outputs": [],
   "execution_count": 1
  },
  {
   "cell_type": "code",
   "source": [
    "a = np.random.rand(5, 3)\n",
    "a"
   ],
   "metadata": {
    "collapsed": false,
    "ExecuteTime": {
     "end_time": "2024-09-23T12:37:06.470064Z",
     "start_time": "2024-09-23T12:37:06.451043Z"
    }
   },
   "id": "a3ecb1f2c7126d65",
   "outputs": [
    {
     "data": {
      "text/plain": [
       "array([[0.30427273, 0.87008152, 0.76108906],\n",
       "       [0.57261783, 0.64569077, 0.04757498],\n",
       "       [0.58747206, 0.79324889, 0.42462752],\n",
       "       [0.32176448, 0.91209527, 0.89877259],\n",
       "       [0.57296658, 0.65711018, 0.87493564]])"
      ]
     },
     "execution_count": 2,
     "metadata": {},
     "output_type": "execute_result"
    }
   ],
   "execution_count": 2
  },
  {
   "cell_type": "code",
   "source": [
    "a + 5"
   ],
   "metadata": {
    "collapsed": false,
    "ExecuteTime": {
     "end_time": "2024-09-23T12:37:08.374832Z",
     "start_time": "2024-09-23T12:37:08.364611Z"
    }
   },
   "id": "ab19a0ac4aee382f",
   "outputs": [
    {
     "data": {
      "text/plain": [
       "array([[5.30427273, 5.87008152, 5.76108906],\n",
       "       [5.57261783, 5.64569077, 5.04757498],\n",
       "       [5.58747206, 5.79324889, 5.42462752],\n",
       "       [5.32176448, 5.91209527, 5.89877259],\n",
       "       [5.57296658, 5.65711018, 5.87493564]])"
      ]
     },
     "execution_count": 3,
     "metadata": {},
     "output_type": "execute_result"
    }
   ],
   "execution_count": 3
  },
  {
   "cell_type": "code",
   "source": [
    "a ** 2"
   ],
   "metadata": {
    "collapsed": false,
    "ExecuteTime": {
     "end_time": "2024-09-23T12:37:11.071676Z",
     "start_time": "2024-09-23T12:37:11.065100Z"
    }
   },
   "id": "d948133556e95d51",
   "outputs": [
    {
     "data": {
      "text/plain": [
       "array([[0.09258189, 0.75704184, 0.57925656],\n",
       "       [0.32789118, 0.41691657, 0.00226338],\n",
       "       [0.34512343, 0.62924381, 0.18030853],\n",
       "       [0.10353238, 0.83191778, 0.80779217],\n",
       "       [0.3282907 , 0.43179379, 0.76551237]])"
      ]
     },
     "execution_count": 4,
     "metadata": {},
     "output_type": "execute_result"
    }
   ],
   "execution_count": 4
  },
  {
   "cell_type": "code",
   "source": [
    "a.shape"
   ],
   "metadata": {
    "collapsed": false,
    "ExecuteTime": {
     "end_time": "2024-09-23T12:37:25.059081Z",
     "start_time": "2024-09-23T12:37:25.052736Z"
    }
   },
   "id": "e6fef2056e4000fe",
   "outputs": [
    {
     "data": {
      "text/plain": [
       "(5, 3)"
      ]
     },
     "execution_count": 5,
     "metadata": {},
     "output_type": "execute_result"
    }
   ],
   "execution_count": 5
  },
  {
   "cell_type": "code",
   "source": [
    "a.flatten()"
   ],
   "metadata": {
    "collapsed": false,
    "ExecuteTime": {
     "end_time": "2024-09-23T12:37:25.908060Z",
     "start_time": "2024-09-23T12:37:25.901127Z"
    }
   },
   "id": "7454d7b59bf01488",
   "outputs": [
    {
     "data": {
      "text/plain": [
       "array([0.30427273, 0.87008152, 0.76108906, 0.57261783, 0.64569077,\n",
       "       0.04757498, 0.58747206, 0.79324889, 0.42462752, 0.32176448,\n",
       "       0.91209527, 0.89877259, 0.57296658, 0.65711018, 0.87493564])"
      ]
     },
     "execution_count": 6,
     "metadata": {},
     "output_type": "execute_result"
    }
   ],
   "execution_count": 6
  },
  {
   "cell_type": "code",
   "source": [
    "a.reshape(-1, 1)"
   ],
   "metadata": {
    "collapsed": false,
    "ExecuteTime": {
     "end_time": "2024-09-23T12:37:28.030658Z",
     "start_time": "2024-09-23T12:37:28.024066Z"
    }
   },
   "id": "77979dcb80273f4c",
   "outputs": [
    {
     "data": {
      "text/plain": [
       "array([[0.30427273],\n",
       "       [0.87008152],\n",
       "       [0.76108906],\n",
       "       [0.57261783],\n",
       "       [0.64569077],\n",
       "       [0.04757498],\n",
       "       [0.58747206],\n",
       "       [0.79324889],\n",
       "       [0.42462752],\n",
       "       [0.32176448],\n",
       "       [0.91209527],\n",
       "       [0.89877259],\n",
       "       [0.57296658],\n",
       "       [0.65711018],\n",
       "       [0.87493564]])"
      ]
     },
     "execution_count": 7,
     "metadata": {},
     "output_type": "execute_result"
    }
   ],
   "execution_count": 7
  },
  {
   "cell_type": "code",
   "source": [
    "b = np.random.rand(7, 5)"
   ],
   "metadata": {
    "collapsed": false,
    "ExecuteTime": {
     "end_time": "2024-09-23T12:37:30.041672Z",
     "start_time": "2024-09-23T12:37:30.037419Z"
    }
   },
   "id": "b41df046769cdd05",
   "outputs": [],
   "execution_count": 8
  },
  {
   "cell_type": "code",
   "source": [
    "a.T @ b.T\n"
   ],
   "metadata": {
    "collapsed": false,
    "ExecuteTime": {
     "end_time": "2024-09-23T12:37:30.551332Z",
     "start_time": "2024-09-23T12:37:30.542274Z"
    }
   },
   "id": "64bb869c4dc258b9",
   "outputs": [
    {
     "data": {
      "text/plain": [
       "array([[1.2731433 , 1.33098992, 1.61988587, 0.91186775, 0.7335391 ,\n",
       "        1.43701965, 1.27026659],\n",
       "       [2.38650988, 2.34315257, 2.75426038, 1.76912304, 1.45904951,\n",
       "        2.46229344, 2.04595715],\n",
       "       [1.67208115, 2.17069972, 1.83908784, 1.57986656, 1.33239698,\n",
       "        2.3052063 , 1.56279636]])"
      ]
     },
     "execution_count": 9,
     "metadata": {},
     "output_type": "execute_result"
    }
   ],
   "execution_count": 9
  },
  {
   "cell_type": "markdown",
   "source": [
    "Задача 1: напишите функцию, которая принимает на вход вектор размера n и возвращает значения функции $2log(x^2) - 1.5 sqrt(x) + x^{1/2}$"
   ],
   "metadata": {
    "collapsed": false
   },
   "id": "51fd36ce37919150"
  },
  {
   "cell_type": "code",
   "source": [
    "def f(x: np.ndarray):\n",
    "    return 2 * np.log(x ** 2) - 1.5 * np.sqrt(x) + np.power(x, 1/2)    "
   ],
   "metadata": {
    "collapsed": false,
    "ExecuteTime": {
     "end_time": "2024-09-23T12:39:17.324967Z",
     "start_time": "2024-09-23T12:39:17.320305Z"
    }
   },
   "id": "6e2cc21f55d5ee63",
   "outputs": [],
   "execution_count": 10
  },
  {
   "cell_type": "markdown",
   "source": [
    "Задача 2: Посчитайте сумму значений функции из 1 задачи для натуральных чисел с 1 до 300"
   ],
   "metadata": {
    "collapsed": false
   },
   "id": "43de1d7a90f86f36"
  },
  {
   "cell_type": "code",
   "source": "np.sum(f(np.array(list(range(1, 301)))))",
   "metadata": {
    "collapsed": false,
    "ExecuteTime": {
     "end_time": "2024-09-23T12:46:57.537295Z",
     "start_time": "2024-09-23T12:46:57.530208Z"
    }
   },
   "id": "779be1727ff50f19",
   "outputs": [
    {
     "data": {
      "text/plain": [
       "3923.345205492068"
      ]
     },
     "execution_count": 26,
     "metadata": {},
     "output_type": "execute_result"
    }
   ],
   "execution_count": 26
  },
  {
   "metadata": {},
   "cell_type": "markdown",
   "source": "Cинтаксис в torch очень похож на numpy, однако с некоторыми отличиями",
   "id": "dc47a62fbdd7e35f"
  },
  {
   "cell_type": "code",
   "source": [
    "a = torch.rand(5,3)"
   ],
   "metadata": {
    "collapsed": false,
    "ExecuteTime": {
     "end_time": "2024-09-23T12:47:13.408534Z",
     "start_time": "2024-09-23T12:47:13.403456Z"
    }
   },
   "id": "4df5d2aff17a04c1",
   "outputs": [],
   "execution_count": 27
  },
  {
   "cell_type": "code",
   "source": [
    "a**2"
   ],
   "metadata": {
    "collapsed": false,
    "ExecuteTime": {
     "end_time": "2024-09-23T12:47:13.950846Z",
     "start_time": "2024-09-23T12:47:13.942116Z"
    }
   },
   "id": "9cc211a4de63c59f",
   "outputs": [
    {
     "data": {
      "text/plain": [
       "tensor([[0.0453, 0.4068, 0.4131],\n",
       "        [0.3558, 0.6622, 0.0491],\n",
       "        [0.2711, 0.5577, 0.5570],\n",
       "        [0.3668, 0.6359, 0.8618],\n",
       "        [0.3387, 0.8503, 0.8551]])"
      ]
     },
     "execution_count": 28,
     "metadata": {},
     "output_type": "execute_result"
    }
   ],
   "execution_count": 28
  },
  {
   "cell_type": "code",
   "source": [
    "a.size()"
   ],
   "metadata": {
    "collapsed": false,
    "ExecuteTime": {
     "end_time": "2024-09-23T12:47:14.861548Z",
     "start_time": "2024-09-23T12:47:14.855424Z"
    }
   },
   "id": "a4d79f5d31320e2",
   "outputs": [
    {
     "data": {
      "text/plain": [
       "torch.Size([5, 3])"
      ]
     },
     "execution_count": 29,
     "metadata": {},
     "output_type": "execute_result"
    }
   ],
   "execution_count": 29
  },
  {
   "cell_type": "code",
   "source": [
    "a.flatten()"
   ],
   "metadata": {
    "collapsed": false,
    "ExecuteTime": {
     "end_time": "2024-09-23T12:47:15.479172Z",
     "start_time": "2024-09-23T12:47:15.472247Z"
    }
   },
   "id": "b9995b9d8e471dbe",
   "outputs": [
    {
     "data": {
      "text/plain": [
       "tensor([0.2129, 0.6378, 0.6427, 0.5965, 0.8137, 0.2216, 0.5206, 0.7468, 0.7463,\n",
       "        0.6056, 0.7974, 0.9284, 0.5820, 0.9221, 0.9247])"
      ]
     },
     "execution_count": 30,
     "metadata": {},
     "output_type": "execute_result"
    }
   ],
   "execution_count": 30
  },
  {
   "cell_type": "code",
   "source": [
    "a = a.view(-1,1)"
   ],
   "metadata": {
    "collapsed": false,
    "ExecuteTime": {
     "end_time": "2024-09-23T12:47:16.046478Z",
     "start_time": "2024-09-23T12:47:16.042049Z"
    }
   },
   "id": "3144b973d942cebe",
   "outputs": [],
   "execution_count": 31
  },
  {
   "cell_type": "code",
   "source": [
    "a = a.resize(5, 3)"
   ],
   "metadata": {
    "collapsed": false,
    "ExecuteTime": {
     "end_time": "2024-09-23T12:47:16.626173Z",
     "start_time": "2024-09-23T12:47:16.617349Z"
    }
   },
   "id": "73b7d9a558cb9b5a",
   "outputs": [
    {
     "name": "stderr",
     "output_type": "stream",
     "text": [
      "C:\\Users\\tosha\\AppData\\Roaming\\Python\\Python311\\site-packages\\torch\\_tensor.py:889: UserWarning: non-inplace resize is deprecated\n",
      "  warnings.warn(\"non-inplace resize is deprecated\")\n"
     ]
    }
   ],
   "execution_count": 32
  },
  {
   "cell_type": "code",
   "source": [
    "a"
   ],
   "metadata": {
    "collapsed": false,
    "ExecuteTime": {
     "end_time": "2024-09-23T12:47:20.105844Z",
     "start_time": "2024-09-23T12:47:20.098643Z"
    }
   },
   "id": "1d50ed97f131a670",
   "outputs": [
    {
     "data": {
      "text/plain": [
       "tensor([[0.2129, 0.6378, 0.6427],\n",
       "        [0.5965, 0.8137, 0.2216],\n",
       "        [0.5206, 0.7468, 0.7463],\n",
       "        [0.6056, 0.7974, 0.9284],\n",
       "        [0.5820, 0.9221, 0.9247]])"
      ]
     },
     "execution_count": 33,
     "metadata": {},
     "output_type": "execute_result"
    }
   ],
   "execution_count": 33
  },
  {
   "cell_type": "code",
   "source": [
    "a.unsqueeze(0)"
   ],
   "metadata": {
    "collapsed": false,
    "ExecuteTime": {
     "end_time": "2024-09-23T12:47:20.849788Z",
     "start_time": "2024-09-23T12:47:20.842798Z"
    }
   },
   "id": "f252d4663b056cdf",
   "outputs": [
    {
     "data": {
      "text/plain": [
       "tensor([[[0.2129, 0.6378, 0.6427],\n",
       "         [0.5965, 0.8137, 0.2216],\n",
       "         [0.5206, 0.7468, 0.7463],\n",
       "         [0.6056, 0.7974, 0.9284],\n",
       "         [0.5820, 0.9221, 0.9247]]])"
      ]
     },
     "execution_count": 34,
     "metadata": {},
     "output_type": "execute_result"
    }
   ],
   "execution_count": 34
  },
  {
   "cell_type": "code",
   "source": [
    "b = torch.rand(7,5)"
   ],
   "metadata": {
    "collapsed": false,
    "ExecuteTime": {
     "end_time": "2024-09-23T12:47:21.758331Z",
     "start_time": "2024-09-23T12:47:21.753971Z"
    }
   },
   "id": "73d242da94b84ce9",
   "outputs": [],
   "execution_count": 35
  },
  {
   "cell_type": "code",
   "source": [
    "a.T @ b.T"
   ],
   "metadata": {
    "collapsed": false,
    "ExecuteTime": {
     "end_time": "2024-09-23T12:47:22.719042Z",
     "start_time": "2024-09-23T12:47:22.712360Z"
    }
   },
   "id": "5f6789c3c0e56901",
   "outputs": [
    {
     "data": {
      "text/plain": [
       "tensor([[0.8959, 0.7182, 1.5727, 1.0986, 0.9521, 0.8256, 1.5804],\n",
       "        [1.3704, 1.1072, 2.4814, 1.8024, 1.3526, 1.5088, 2.4681],\n",
       "        [0.8582, 0.9508, 2.2082, 1.3201, 1.4711, 1.5095, 2.4071]])"
      ]
     },
     "execution_count": 36,
     "metadata": {},
     "output_type": "execute_result"
    }
   ],
   "execution_count": 36
  },
  {
   "cell_type": "code",
   "source": [
    "torch.matmul(b, a)"
   ],
   "metadata": {
    "collapsed": false,
    "ExecuteTime": {
     "end_time": "2024-09-23T12:47:23.557447Z",
     "start_time": "2024-09-23T12:47:23.547504Z"
    }
   },
   "id": "7d6cf5c5ce45200c",
   "outputs": [
    {
     "data": {
      "text/plain": [
       "tensor([[0.8959, 1.3704, 0.8582],\n",
       "        [0.7182, 1.1072, 0.9508],\n",
       "        [1.5727, 2.4814, 2.2082],\n",
       "        [1.0986, 1.8024, 1.3201],\n",
       "        [0.9521, 1.3526, 1.4711],\n",
       "        [0.8256, 1.5088, 1.5095],\n",
       "        [1.5804, 2.4681, 2.4071]])"
      ]
     },
     "execution_count": 37,
     "metadata": {},
     "output_type": "execute_result"
    }
   ],
   "execution_count": 37
  },
  {
   "cell_type": "code",
   "source": [
    "b = torch.rand(3,1,4,1,5)"
   ],
   "metadata": {
    "collapsed": false,
    "ExecuteTime": {
     "end_time": "2024-09-23T12:47:24.209541Z",
     "start_time": "2024-09-23T12:47:24.205732Z"
    }
   },
   "id": "2842b6c155d6ab43",
   "outputs": [],
   "execution_count": 38
  },
  {
   "cell_type": "code",
   "source": [
    "b.squeeze().shape"
   ],
   "metadata": {
    "collapsed": false,
    "ExecuteTime": {
     "end_time": "2024-09-23T12:47:24.894288Z",
     "start_time": "2024-09-23T12:47:24.887226Z"
    }
   },
   "id": "5cc47d54b81141b5",
   "outputs": [
    {
     "data": {
      "text/plain": [
       "torch.Size([3, 4, 5])"
      ]
     },
     "execution_count": 39,
     "metadata": {},
     "output_type": "execute_result"
    }
   ],
   "execution_count": 39
  },
  {
   "cell_type": "code",
   "source": [
    "b.squeeze(1).shape"
   ],
   "metadata": {
    "collapsed": false,
    "ExecuteTime": {
     "end_time": "2024-09-23T12:47:25.368926Z",
     "start_time": "2024-09-23T12:47:25.363256Z"
    }
   },
   "id": "497d441e74198767",
   "outputs": [
    {
     "data": {
      "text/plain": [
       "torch.Size([3, 4, 1, 5])"
      ]
     },
     "execution_count": 40,
     "metadata": {},
     "output_type": "execute_result"
    }
   ],
   "execution_count": 40
  },
  {
   "cell_type": "markdown",
   "source": [
    "Задача 3. напишите функцию на torch, которая принимает на вход вектор размера n и возвращает значения функции $2log(x^2) - 1.5 sqrt(x) + x^{1/2}$"
   ],
   "metadata": {
    "collapsed": false
   },
   "id": "a4020473024f13a7"
  },
  {
   "cell_type": "code",
   "source": [
    "def f(x: torch.Tensor):\n",
    "    return 2 * torch.log(x ** 2) - 1.5 * torch.sqrt(x) + torch.pow(x, 1/2)    "
   ],
   "metadata": {
    "collapsed": false,
    "ExecuteTime": {
     "end_time": "2024-09-23T12:48:44.398638Z",
     "start_time": "2024-09-23T12:48:44.393437Z"
    }
   },
   "id": "9001594a164ea764",
   "outputs": [],
   "execution_count": 43
  },
  {
   "cell_type": "markdown",
   "source": [
    "Задача 4: Посчитайте сумму значений функции из 3 задачи для натуральных чисел с 1 до 300"
   ],
   "metadata": {
    "collapsed": false
   },
   "id": "9db28a27916a3c1c"
  },
  {
   "cell_type": "code",
   "source": "torch.sum(f(torch.tensor(list(range(1, 301)))))",
   "metadata": {
    "collapsed": false,
    "ExecuteTime": {
     "end_time": "2024-09-23T12:48:47.221952Z",
     "start_time": "2024-09-23T12:48:47.214761Z"
    }
   },
   "id": "428ebd18cea023f",
   "outputs": [
    {
     "data": {
      "text/plain": [
       "tensor(3923.3452)"
      ]
     },
     "execution_count": 44,
     "metadata": {},
     "output_type": "execute_result"
    }
   ],
   "execution_count": 44
  },
  {
   "cell_type": "markdown",
   "source": [
    " Другие варианты создать тензор"
   ],
   "metadata": {
    "collapsed": false
   },
   "id": "1a731dd13602018f"
  },
  {
   "cell_type": "code",
   "source": [
    "a = torch.empty(5,2)\n",
    "b = torch.zeros(6,1, dtype=torch.bool)\n",
    "c = torch.ones_like(b)"
   ],
   "metadata": {
    "collapsed": false,
    "ExecuteTime": {
     "end_time": "2024-09-23T12:49:11.784225Z",
     "start_time": "2024-09-23T12:49:11.778589Z"
    }
   },
   "id": "7cc74e453b26739b",
   "outputs": [],
   "execution_count": 45
  },
  {
   "cell_type": "markdown",
   "source": [
    "Тензор можно создать и из другого объекта. Как думаете, какой тип будет у результирующего тензора?"
   ],
   "metadata": {
    "collapsed": false
   },
   "id": "a6a5d8072c92a538"
  },
  {
   "cell_type": "code",
   "source": [
    "d = torch.tensor([5,3.4])"
   ],
   "metadata": {
    "collapsed": false,
    "ExecuteTime": {
     "end_time": "2024-09-23T12:49:12.997753Z",
     "start_time": "2024-09-23T12:49:12.993022Z"
    }
   },
   "id": "2b82abe47106bdd3",
   "outputs": [],
   "execution_count": 46
  },
  {
   "cell_type": "code",
   "source": [
    "d.dtype"
   ],
   "metadata": {
    "collapsed": false,
    "ExecuteTime": {
     "end_time": "2024-09-23T12:49:13.816427Z",
     "start_time": "2024-09-23T12:49:13.810046Z"
    }
   },
   "id": "b49e227d8d3dc0d9",
   "outputs": [
    {
     "data": {
      "text/plain": [
       "torch.float32"
      ]
     },
     "execution_count": 47,
     "metadata": {},
     "output_type": "execute_result"
    }
   ],
   "execution_count": 47
  },
  {
   "cell_type": "markdown",
   "source": [
    "Torch легко переводится в numpy и наоборот. Из-за разницы типов результат не будет идентичным, но он будет достаточно близким к исходному."
   ],
   "metadata": {
    "collapsed": false
   },
   "id": "d823a6f8d5029e7f"
  },
  {
   "cell_type": "code",
   "source": [
    "a = np.ones((3, 5))\n",
    "x = torch.ones((3, 5))\n",
    "np.allclose(x.numpy(), a)"
   ],
   "metadata": {
    "collapsed": false,
    "ExecuteTime": {
     "end_time": "2024-09-23T12:49:17.121068Z",
     "start_time": "2024-09-23T12:49:17.113074Z"
    }
   },
   "id": "9c5ab09520acca7f",
   "outputs": [
    {
     "data": {
      "text/plain": [
       "True"
      ]
     },
     "execution_count": 48,
     "metadata": {},
     "output_type": "execute_result"
    }
   ],
   "execution_count": 48
  },
  {
   "cell_type": "markdown",
   "source": [
    "# Градиенты\n",
    "Рассмотрим достаточно простой датасет"
   ],
   "metadata": {
    "collapsed": false
   },
   "id": "53803809fbd42d61"
  },
  {
   "cell_type": "code",
   "source": [
    "x1 = torch.arange(-15, 15, 0.1)\n",
    "x2 = torch.arange(-15, 15, 0.1) / 5\n",
    "x = torch.stack([x1, x2], dim=1)\n",
    "y = x[:,0] * 2. + 0.2 * x[:, 1]**2 - 3 + torch.normal(0., 0.2, (1, 300))"
   ],
   "metadata": {
    "collapsed": false,
    "ExecuteTime": {
     "end_time": "2024-09-23T13:02:34.541972Z",
     "start_time": "2024-09-23T13:02:34.534960Z"
    }
   },
   "id": "2916288c2d49a5d9",
   "outputs": [],
   "execution_count": 64
  },
  {
   "cell_type": "code",
   "source": [
    "plt.scatter(x[:, 0], y)"
   ],
   "metadata": {
    "collapsed": false,
    "ExecuteTime": {
     "end_time": "2024-09-23T13:02:35.284612Z",
     "start_time": "2024-09-23T13:02:35.129205Z"
    }
   },
   "id": "8c6ccd425b1d27c6",
   "outputs": [
    {
     "data": {
      "text/plain": [
       "<matplotlib.collections.PathCollection at 0x2ccf91dea90>"
      ]
     },
     "execution_count": 65,
     "metadata": {},
     "output_type": "execute_result"
    },
    {
     "data": {
      "text/plain": [
       "<Figure size 640x480 with 1 Axes>"
      ],
      "image/png": "[encoded data removed]"
     },
     "metadata": {},
     "output_type": "display_data"
    }
   ],
   "execution_count": 65
  },
  {
   "cell_type": "markdown",
   "source": [
    "Доп.задание. Изобразите поверхность на 3d-графике"
   ],
   "metadata": {
    "collapsed": false
   },
   "id": "6dc9acbdfcc36c31"
  },
  {
   "metadata": {
    "ExecuteTime": {
     "end_time": "2024-09-23T13:03:04.429922Z",
     "start_time": "2024-09-23T13:03:04.371813Z"
    }
   },
   "cell_type": "code",
   "source": [
    "import plotly.express as px\n",
    "fig = px.scatter_3d(x=x[:, 0], y=x[:, 1], z=y.squeeze())\n",
    "fig.show()"
   ],
   "id": "9161a348a6964448",
   "outputs": [
    {
     "data": {
      "application/vnd.plotly.v1+json": {
       "data": [
        {
         "hovertemplate": "x=%{x}<br>y=%{y}<br>z=%{z}<extra></extra>",
         "legendgroup": "",
         "marker": {
          "color": "#636efa",
          "symbol": "circle"
         },
         "mode": "markers",
         "name": "",
         "scene": "scene",
         "showlegend": false,
         "x": [
          -15.0,
          -14.9,
          -14.8,
          -14.7,
          -14.6,
          -14.5,
          -14.4,
          -14.3,
          -14.2,
          -14.099999,
          -14.0,
          -13.9,
          -13.8,
          -13.7,
          -13.599999,
          -13.5,
          -13.4,
          -13.299999,
          -13.2,
          -13.099999,
          -13.0,
          -12.9,
          -12.799999,
          -12.7,
          -12.6,
          -12.5,
          -12.400001,
          -12.3,
          -12.200001,
          -12.1,
          -12.0,
          -11.900001,
          -11.8,
          -11.7,
          -11.6,
          -11.5,
          -11.400001,
          -11.3,
          -11.2,
          -11.1,
          -11.0,
          -10.9,
          -10.8,
          -10.7,
          -10.6,
          -10.5,
          -10.4,
          -10.3,
          -10.2,
          -10.099999,
          -10.0,
          -9.9,
          -9.8,
          -9.7,
          -9.599999,
          -9.5,
          -9.4,
          -9.299999,
          -9.2,
          -9.099999,
          -9.0,
          -8.9,
          -8.799999,
          -8.7,
          -8.6,
          -8.5,
          -8.400001,
          -8.3,
          -8.200001,
          -8.1,
          -8.0,
          -7.9000006,
          -7.8,
          -7.7000003,
          -7.6000004,
          -7.5,
          -7.4,
          -7.3,
          -7.2000003,
          -7.1000004,
          -7.0,
          -6.9,
          -6.8,
          -6.7,
          -6.6,
          -6.5,
          -6.4,
          -6.3,
          -6.2,
          -6.1,
          -6.0,
          -5.8999996,
          -5.7999997,
          -5.7,
          -5.6,
          -5.5,
          -5.4,
          -5.3,
          -5.2000003,
          -5.1,
          -5.0,
          -4.9,
          -4.8,
          -4.7000003,
          -4.6,
          -4.5,
          -4.4,
          -4.2999997,
          -4.2,
          -4.1,
          -4.0,
          -3.8999999,
          -3.8,
          -3.7,
          -3.6,
          -3.5,
          -3.3999999,
          -3.3,
          -3.2,
          -3.1,
          -3.0,
          -2.9,
          -2.8,
          -2.7,
          -2.6,
          -2.5,
          -2.4,
          -2.3,
          -2.2,
          -2.1000001,
          -2.0,
          -1.9000001,
          -1.8000001,
          -1.7,
          -1.6,
          -1.5,
          -1.4,
          -1.3,
          -1.1999999,
          -1.1,
          -1.0,
          -0.9,
          -0.79999995,
          -0.7,
          -0.6,
          -0.5,
          -0.40000004,
          -0.3,
          -0.20000002,
          -0.100000024,
          -2.3841858E-8,
          0.09999998,
          0.2,
          0.3,
          0.4,
          0.5,
          0.6,
          0.7,
          0.8,
          0.9,
          1.0,
          1.1,
          1.2,
          1.3,
          1.4,
          1.5,
          1.6,
          1.7,
          1.8,
          1.9,
          2.0,
          2.1,
          2.2,
          2.3,
          2.3999999,
          2.5,
          2.6,
          2.6999998,
          2.8,
          2.8999999,
          3.0,
          3.1,
          3.1999998,
          3.3,
          3.4,
          3.5,
          3.6000001,
          3.7,
          3.8000002,
          3.9,
          4.0,
          4.1,
          4.2,
          4.2999997,
          4.3999996,
          4.5,
          4.6,
          4.7,
          4.7999997,
          4.8999996,
          5.0,
          5.1,
          5.2,
          5.3,
          5.4,
          5.5,
          5.6,
          5.7,
          5.8,
          5.9,
          6.0,
          6.1000004,
          6.2000003,
          6.3,
          6.4,
          6.5,
          6.6,
          6.7,
          6.7999997,
          6.9,
          7.0,
          7.1,
          7.2,
          7.2999997,
          7.4,
          7.5,
          7.6,
          7.7000003,
          7.8,
          7.9,
          8.0,
          8.1,
          8.2,
          8.3,
          8.4,
          8.5,
          8.599999,
          8.7,
          8.8,
          8.9,
          9.0,
          9.1,
          9.2,
          9.3,
          9.4,
          9.5,
          9.6,
          9.7,
          9.8,
          9.900001,
          10.0,
          10.1,
          10.2,
          10.3,
          10.400001,
          10.5,
          10.6,
          10.700001,
          10.8,
          10.900001,
          11.0,
          11.1,
          11.200001,
          11.3,
          11.4,
          11.5,
          11.599999,
          11.7,
          11.799999,
          11.9,
          12.0,
          12.099999,
          12.2,
          12.3,
          12.4,
          12.5,
          12.599999,
          12.7,
          12.8,
          12.9,
          13.0,
          13.1,
          13.2,
          13.3,
          13.4,
          13.5,
          13.6,
          13.7,
          13.8,
          13.9,
          14.0,
          14.1,
          14.2,
          14.3,
          14.4,
          14.5,
          14.6,
          14.7,
          14.8,
          14.9
         ],
         "y": [
          -3.0,
          -2.98,
          -2.96,
          -2.94,
          -2.92,
          -2.9,
          -2.8799999,
          -2.8600001,
          -2.84,
          -2.82,
          -2.8,
          -2.78,
          -2.76,
          -2.74,
          -2.7199998,
          -2.7,
          -2.6799998,
          -2.6599998,
          -2.6399999,
          -2.62,
          -2.6,
          -2.58,
          -2.56,
          -2.54,
          -2.52,
          -2.5,
          -2.48,
          -2.46,
          -2.44,
          -2.42,
          -2.4,
          -2.38,
          -2.3600001,
          -2.34,
          -2.3200002,
          -2.3,
          -2.2800002,
          -2.26,
          -2.24,
          -2.22,
          -2.2,
          -2.1799998,
          -2.16,
          -2.1399999,
          -2.1200001,
          -2.1,
          -2.08,
          -2.06,
          -2.04,
          -2.02,
          -2.0,
          -1.9799999,
          -1.96,
          -1.9399999,
          -1.9199998,
          -1.9,
          -1.8799999,
          -1.8599999,
          -1.8399999,
          -1.8199999,
          -1.8,
          -1.78,
          -1.7599999,
          -1.74,
          -1.72,
          -1.7,
          -1.6800001,
          -1.6600001,
          -1.6400001,
          -1.6200001,
          -1.6,
          -1.5800002,
          -1.5600001,
          -1.5400001,
          -1.5200001,
          -1.5,
          -1.48,
          -1.46,
          -1.44,
          -1.4200001,
          -1.4,
          -1.38,
          -1.36,
          -1.3399999,
          -1.3199999,
          -1.3,
          -1.28,
          -1.26,
          -1.24,
          -1.22,
          -1.2,
          -1.18,
          -1.16,
          -1.14,
          -1.12,
          -1.1,
          -1.08,
          -1.0600001,
          -1.0400001,
          -1.02,
          -1.0,
          -0.98,
          -0.96000004,
          -0.94000006,
          -0.91999996,
          -0.9,
          -0.88,
          -0.85999995,
          -0.84,
          -0.82,
          -0.8,
          -0.78,
          -0.76,
          -0.74,
          -0.71999997,
          -0.7,
          -0.67999995,
          -0.65999997,
          -0.64,
          -0.62,
          -0.6,
          -0.58000004,
          -0.56,
          -0.54,
          -0.52,
          -0.5,
          -0.48000002,
          -0.45999998,
          -0.44,
          -0.42000002,
          -0.4,
          -0.38000003,
          -0.36,
          -0.34,
          -0.32,
          -0.3,
          -0.28,
          -0.26,
          -0.23999998,
          -0.22,
          -0.2,
          -0.17999999,
          -0.16,
          -0.14,
          -0.120000005,
          -0.1,
          -0.080000006,
          -0.060000002,
          -0.040000003,
          -0.020000005,
          -4.7683715E-9,
          0.019999996,
          0.04,
          0.060000002,
          0.08,
          0.1,
          0.120000005,
          0.14,
          0.16,
          0.17999999,
          0.2,
          0.22,
          0.24000001,
          0.26,
          0.28,
          0.3,
          0.32,
          0.34,
          0.35999998,
          0.38,
          0.4,
          0.42,
          0.44,
          0.45999998,
          0.47999996,
          0.5,
          0.52,
          0.53999996,
          0.56,
          0.58,
          0.6,
          0.62,
          0.64,
          0.65999997,
          0.68,
          0.7,
          0.72,
          0.74,
          0.76000005,
          0.78000003,
          0.8,
          0.82,
          0.84,
          0.85999995,
          0.87999994,
          0.9,
          0.91999996,
          0.93999994,
          0.9599999,
          0.9799999,
          1.0,
          1.02,
          1.04,
          1.0600001,
          1.08,
          1.1,
          1.12,
          1.14,
          1.1600001,
          1.1800001,
          1.2,
          1.22,
          1.24,
          1.26,
          1.28,
          1.3,
          1.3199999,
          1.3399999,
          1.3599999,
          1.38,
          1.4,
          1.42,
          1.4399999,
          1.4599999,
          1.48,
          1.5,
          1.52,
          1.5400001,
          1.5600001,
          1.58,
          1.6,
          1.6200001,
          1.64,
          1.6600001,
          1.68,
          1.7,
          1.7199999,
          1.74,
          1.76,
          1.78,
          1.8,
          1.82,
          1.8399999,
          1.86,
          1.8799999,
          1.9,
          1.9200001,
          1.9399999,
          1.96,
          1.9800001,
          2.0,
          2.02,
          2.04,
          2.06,
          2.0800002,
          2.1,
          2.1200001,
          2.14,
          2.16,
          2.18,
          2.2,
          2.22,
          2.2400002,
          2.26,
          2.28,
          2.3,
          2.32,
          2.34,
          2.36,
          2.3799999,
          2.4,
          2.4199998,
          2.44,
          2.46,
          2.48,
          2.5,
          2.52,
          2.54,
          2.56,
          2.58,
          2.6,
          2.6200001,
          2.6399999,
          2.66,
          2.6799998,
          2.7,
          2.72,
          2.74,
          2.76,
          2.78,
          2.8,
          2.8200002,
          2.84,
          2.8600001,
          2.8799999,
          2.9,
          2.92,
          2.94,
          2.96,
          2.98
         ],
         "z": [
          -31.059198,
          -30.99104,
          -30.71821,
          -30.323523,
          -30.350267,
          -30.495249,
          -30.073734,
          -30.059439,
          -29.97906,
          -30.123363,
          -29.734015,
          -29.107157,
          -28.853415,
          -28.962147,
          -28.243412,
          -29.06144,
          -27.849426,
          -28.091331,
          -27.797829,
          -27.863924,
          -27.704897,
          -27.02977,
          -27.475243,
          -27.120512,
          -26.694199,
          -26.745481,
          -26.163954,
          -26.351652,
          -26.16427,
          -26.13703,
          -26.198254,
          -25.829733,
          -25.628828,
          -25.155104,
          -24.708244,
          -25.011189,
          -24.76037,
          -24.460672,
          -24.357185,
          -24.122625,
          -24.074142,
          -23.766542,
          -23.63541,
          -23.846256,
          -23.105305,
          -23.373367,
          -23.0507,
          -22.743488,
          -22.55068,
          -22.405113,
          -22.238153,
          -21.868965,
          -21.742935,
          -21.750093,
          -21.654613,
          -21.30697,
          -21.076008,
          -21.172703,
          -20.779913,
          -20.318146,
          -20.204868,
          -20.262667,
          -19.891014,
          -19.877628,
          -19.485136,
          -19.191921,
          -18.909723,
          -18.83755,
          -18.77538,
          -18.83157,
          -18.366037,
          -18.31773,
          -17.952002,
          -17.950645,
          -17.882103,
          -17.382458,
          -17.25727,
          -17.36182,
          -16.524399,
          -16.682457,
          -16.582035,
          -16.727812,
          -16.141678,
          -16.375034,
          -15.7252245,
          -16.118965,
          -15.563783,
          -15.099232,
          -15.326419,
          -15.089116,
          -14.43944,
          -14.579528,
          -14.097586,
          -14.175057,
          -14.040928,
          -13.56827,
          -13.482493,
          -13.331107,
          -13.087495,
          -13.133294,
          -12.923192,
          -12.307618,
          -12.528948,
          -12.218089,
          -11.935569,
          -11.867662,
          -11.503837,
          -11.701442,
          -11.453829,
          -10.921743,
          -11.109804,
          -10.53519,
          -10.5849,
          -10.342272,
          -10.096149,
          -9.71522,
          -9.792383,
          -9.653903,
          -9.401916,
          -9.091778,
          -8.930289,
          -8.43179,
          -8.589588,
          -8.494904,
          -8.056642,
          -7.8117394,
          -7.807183,
          -7.6648874,
          -7.0800357,
          -6.911515,
          -6.9315524,
          -6.7008924,
          -6.744135,
          -6.386255,
          -6.4241652,
          -6.1379185,
          -5.714765,
          -5.398773,
          -5.1094265,
          -5.251427,
          -5.163406,
          -5.2463903,
          -4.5988727,
          -3.9709818,
          -4.357098,
          -4.1260176,
          -3.7525861,
          -3.386029,
          -3.5020208,
          -3.0697734,
          -2.983199,
          -2.7240078,
          -2.77796,
          -2.095059,
          -2.1499372,
          -2.0830708,
          -1.6514287,
          -1.3193325,
          -1.5333384,
          -1.3309692,
          -1.1279702,
          -0.7727586,
          -0.4286319,
          -0.35774085,
          -0.04433,
          0.23134485,
          -0.17776737,
          0.5063874,
          0.47883266,
          0.56861925,
          1.0599487,
          1.3210672,
          1.2023172,
          1.6699154,
          1.5224732,
          2.0328455,
          2.1996806,
          2.7998323,
          2.9776874,
          2.95791,
          3.2512677,
          3.5272174,
          3.3645878,
          3.6826775,
          4.037944,
          3.9376304,
          4.2533646,
          4.3398542,
          4.6152987,
          5.030358,
          5.1120796,
          5.7549214,
          5.5787644,
          5.731815,
          5.626588,
          5.982117,
          6.2900453,
          6.6598616,
          7.2140837,
          7.2002435,
          7.0437136,
          7.3297896,
          7.684518,
          7.7274814,
          7.9367213,
          7.971391,
          8.076903,
          8.538348,
          8.522883,
          9.319338,
          8.941383,
          9.368098,
          10.285298,
          9.598198,
          10.123952,
          10.523861,
          10.600247,
          10.574234,
          11.149983,
          11.604805,
          11.191262,
          11.792345,
          11.657339,
          11.97231,
          11.770849,
          12.349828,
          12.967492,
          12.937489,
          13.409148,
          13.398207,
          13.620696,
          13.81873,
          13.746241,
          14.218847,
          14.404611,
          14.736036,
          14.704967,
          14.491914,
          15.141582,
          15.490278,
          15.635302,
          16.049795,
          16.307049,
          16.381681,
          16.573097,
          16.813395,
          16.609383,
          17.608631,
          17.220663,
          17.689875,
          17.484911,
          18.281591,
          18.08682,
          18.765556,
          18.663315,
          18.85419,
          18.881372,
          19.188828,
          19.34387,
          19.510267,
          19.785715,
          19.92544,
          20.48557,
          20.831427,
          20.683332,
          20.752447,
          21.186455,
          21.322432,
          21.613077,
          21.944534,
          22.478168,
          22.371456,
          22.521984,
          23.167427,
          23.02948,
          23.197342,
          23.445122,
          23.445572,
          24.003632,
          24.155012,
          24.042974,
          24.210028,
          24.894888,
          24.979675,
          25.220394,
          25.222515,
          25.951702,
          26.250431,
          26.036703,
          26.40138,
          26.631813,
          26.880875,
          27.210688,
          27.117052,
          27.171082,
          27.526508,
          28.191162,
          27.877966,
          28.089306,
          28.180214
         ],
         "type": "scatter3d"
        }
       ],
       "layout": {
        "template": {
         "data": {
          "histogram2dcontour": [
           {
            "type": "histogram2dcontour",
            "colorbar": {
             "outlinewidth": 0,
             "ticks": ""
            },
            "colorscale": [
             [
              0.0,
              "#0d0887"
             ],
             [
              0.1111111111111111,
              "#46039f"
             ],
             [
              0.2222222222222222,
              "#7201a8"
             ],
             [
              0.3333333333333333,
              "#9c179e"
             ],
             [
              0.4444444444444444,
              "#bd3786"
             ],
             [
              0.5555555555555556,
              "#d8576b"
             ],
             [
              0.6666666666666666,
              "#ed7953"
             ],
             [
              0.7777777777777778,
              "#fb9f3a"
             ],
             [
              0.8888888888888888,
              "#fdca26"
             ],
             [
              1.0,
              "#f0f921"
             ]
            ]
           }
          ],
          "choropleth": [
           {
            "type": "choropleth",
            "colorbar": {
             "outlinewidth": 0,
             "ticks": ""
            }
           }
          ],
          "histogram2d": [
           {
            "type": "histogram2d",
            "colorbar": {
             "outlinewidth": 0,
             "ticks": ""
            },
            "colorscale": [
             [
              0.0,
              "#0d0887"
             ],
             [
              0.1111111111111111,
              "#46039f"
             ],
             [
              0.2222222222222222,
              "#7201a8"
             ],
             [
              0.3333333333333333,
              "#9c179e"
             ],
             [
              0.4444444444444444,
              "#bd3786"
             ],
             [
              0.5555555555555556,
              "#d8576b"
             ],
             [
              0.6666666666666666,
              "#ed7953"
             ],
             [
              0.7777777777777778,
              "#fb9f3a"
             ],
             [
              0.8888888888888888,
              "#fdca26"
             ],
             [
              1.0,
              "#f0f921"
             ]
            ]
           }
          ],
          "heatmap": [
           {
            "type": "heatmap",
            "colorbar": {
             "outlinewidth": 0,
             "ticks": ""
            },
            "colorscale": [
             [
              0.0,
              "#0d0887"
             ],
             [
              0.1111111111111111,
              "#46039f"
             ],
             [
              0.2222222222222222,
              "#7201a8"
             ],
             [
              0.3333333333333333,
              "#9c179e"
             ],
             [
              0.4444444444444444,
              "#bd3786"
             ],
             [
              0.5555555555555556,
              "#d8576b"
             ],
             [
              0.6666666666666666,
              "#ed7953"
             ],
             [
              0.7777777777777778,
              "#fb9f3a"
             ],
             [
              0.8888888888888888,
              "#fdca26"
             ],
             [
              1.0,
              "#f0f921"
             ]
            ]
           }
          ],
          "heatmapgl": [
           {
            "type": "heatmapgl",
            "colorbar": {
             "outlinewidth": 0,
             "ticks": ""
            },
            "colorscale": [
             [
              0.0,
              "#0d0887"
             ],
             [
              0.1111111111111111,
              "#46039f"
             ],
             [
              0.2222222222222222,
              "#7201a8"
             ],
             [
              0.3333333333333333,
              "#9c179e"
             ],
             [
              0.4444444444444444,
              "#bd3786"
             ],
             [
              0.5555555555555556,
              "#d8576b"
             ],
             [
              0.6666666666666666,
              "#ed7953"
             ],
             [
              0.7777777777777778,
              "#fb9f3a"
             ],
             [
              0.8888888888888888,
              "#fdca26"
             ],
             [
              1.0,
              "#f0f921"
             ]
            ]
           }
          ],
          "contourcarpet": [
           {
            "type": "contourcarpet",
            "colorbar": {
             "outlinewidth": 0,
             "ticks": ""
            }
           }
          ],
          "contour": [
           {
            "type": "contour",
            "colorbar": {
             "outlinewidth": 0,
             "ticks": ""
            },
            "colorscale": [
             [
              0.0,
              "#0d0887"
             ],
             [
              0.1111111111111111,
              "#46039f"
             ],
             [
              0.2222222222222222,
              "#7201a8"
             ],
             [
              0.3333333333333333,
              "#9c179e"
             ],
             [
              0.4444444444444444,
              "#bd3786"
             ],
             [
              0.5555555555555556,
              "#d8576b"
             ],
             [
              0.6666666666666666,
              "#ed7953"
             ],
             [
              0.7777777777777778,
              "#fb9f3a"
             ],
             [
              0.8888888888888888,
              "#fdca26"
             ],
             [
              1.0,
              "#f0f921"
             ]
            ]
           }
          ],
          "surface": [
           {
            "type": "surface",
            "colorbar": {
             "outlinewidth": 0,
             "ticks": ""
            },
            "colorscale": [
             [
              0.0,
              "#0d0887"
             ],
             [
              0.1111111111111111,
              "#46039f"
             ],
             [
              0.2222222222222222,
              "#7201a8"
             ],
             [
              0.3333333333333333,
              "#9c179e"
             ],
             [
              0.4444444444444444,
              "#bd3786"
             ],
             [
              0.5555555555555556,
              "#d8576b"
             ],
             [
              0.6666666666666666,
              "#ed7953"
             ],
             [
              0.7777777777777778,
              "#fb9f3a"
             ],
             [
              0.8888888888888888,
              "#fdca26"
             ],
             [
              1.0,
              "#f0f921"
             ]
            ]
           }
          ],
          "mesh3d": [
           {
            "type": "mesh3d",
            "colorbar": {
             "outlinewidth": 0,
             "ticks": ""
            }
           }
          ],
          "scatter": [
           {
            "fillpattern": {
             "fillmode": "overlay",
             "size": 10,
             "solidity": 0.2
            },
            "type": "scatter"
           }
          ],
          "parcoords": [
           {
            "type": "parcoords",
            "line": {
             "colorbar": {
              "outlinewidth": 0,
              "ticks": ""
             }
            }
           }
          ],
          "scatterpolargl": [
           {
            "type": "scatterpolargl",
            "marker": {
             "colorbar": {
              "outlinewidth": 0,
              "ticks": ""
             }
            }
           }
          ],
          "bar": [
           {
            "error_x": {
             "color": "#2a3f5f"
            },
            "error_y": {
             "color": "#2a3f5f"
            },
            "marker": {
             "line": {
              "color": "#E5ECF6",
              "width": 0.5
             },
             "pattern": {
              "fillmode": "overlay",
              "size": 10,
              "solidity": 0.2
             }
            },
            "type": "bar"
           }
          ],
          "scattergeo": [
           {
            "type": "scattergeo",
            "marker": {
             "colorbar": {
              "outlinewidth": 0,
              "ticks": ""
             }
            }
           }
          ],
          "scatterpolar": [
           {
            "type": "scatterpolar",
            "marker": {
             "colorbar": {
              "outlinewidth": 0,
              "ticks": ""
             }
            }
           }
          ],
          "histogram": [
           {
            "marker": {
             "pattern": {
              "fillmode": "overlay",
              "size": 10,
              "solidity": 0.2
             }
            },
            "type": "histogram"
           }
          ],
          "scattergl": [
           {
            "type": "scattergl",
            "marker": {
             "colorbar": {
              "outlinewidth": 0,
              "ticks": ""
             }
            }
           }
          ],
          "scatter3d": [
           {
            "type": "scatter3d",
            "line": {
             "colorbar": {
              "outlinewidth": 0,
              "ticks": ""
             }
            },
            "marker": {
             "colorbar": {
              "outlinewidth": 0,
              "ticks": ""
             }
            }
           }
          ],
          "scattermapbox": [
           {
            "type": "scattermapbox",
            "marker": {
             "colorbar": {
              "outlinewidth": 0,
              "ticks": ""
             }
            }
           }
          ],
          "scatterternary": [
           {
            "type": "scatterternary",
            "marker": {
             "colorbar": {
              "outlinewidth": 0,
              "ticks": ""
             }
            }
           }
          ],
          "scattercarpet": [
           {
            "type": "scattercarpet",
            "marker": {
             "colorbar": {
              "outlinewidth": 0,
              "ticks": ""
             }
            }
           }
          ],
          "carpet": [
           {
            "aaxis": {
             "endlinecolor": "#2a3f5f",
             "gridcolor": "white",
             "linecolor": "white",
             "minorgridcolor": "white",
             "startlinecolor": "#2a3f5f"
            },
            "baxis": {
             "endlinecolor": "#2a3f5f",
             "gridcolor": "white",
             "linecolor": "white",
             "minorgridcolor": "white",
             "startlinecolor": "#2a3f5f"
            },
            "type": "carpet"
           }
          ],
          "table": [
           {
            "cells": {
             "fill": {
              "color": "#EBF0F8"
             },
             "line": {
              "color": "white"
             }
            },
            "header": {
             "fill": {
              "color": "#C8D4E3"
             },
             "line": {
              "color": "white"
             }
            },
            "type": "table"
           }
          ],
          "barpolar": [
           {
            "marker": {
             "line": {
              "color": "#E5ECF6",
              "width": 0.5
             },
             "pattern": {
              "fillmode": "overlay",
              "size": 10,
              "solidity": 0.2
             }
            },
            "type": "barpolar"
           }
          ],
          "pie": [
           {
            "automargin": true,
            "type": "pie"
           }
          ]
         },
         "layout": {
          "autotypenumbers": "strict",
          "colorway": [
           "#636efa",
           "#EF553B",
           "#00cc96",
           "#ab63fa",
           "#FFA15A",
           "#19d3f3",
           "#FF6692",
           "#B6E880",
           "#FF97FF",
           "#FECB52"
          ],
          "font": {
           "color": "#2a3f5f"
          },
          "hovermode": "closest",
          "hoverlabel": {
           "align": "left"
          },
          "paper_bgcolor": "white",
          "plot_bgcolor": "#E5ECF6",
          "polar": {
           "bgcolor": "#E5ECF6",
           "angularaxis": {
            "gridcolor": "white",
            "linecolor": "white",
            "ticks": ""
           },
           "radialaxis": {
            "gridcolor": "white",
            "linecolor": "white",
            "ticks": ""
           }
          },
          "ternary": {
           "bgcolor": "#E5ECF6",
           "aaxis": {
            "gridcolor": "white",
            "linecolor": "white",
            "ticks": ""
           },
           "baxis": {
            "gridcolor": "white",
            "linecolor": "white",
            "ticks": ""
           },
           "caxis": {
            "gridcolor": "white",
            "linecolor": "white",
            "ticks": ""
           }
          },
          "coloraxis": {
           "colorbar": {
            "outlinewidth": 0,
            "ticks": ""
           }
          },
          "colorscale": {
           "sequential": [
            [
             0.0,
             "#0d0887"
            ],
            [
             0.1111111111111111,
             "#46039f"
            ],
            [
             0.2222222222222222,
             "#7201a8"
            ],
            [
             0.3333333333333333,
             "#9c179e"
            ],
            [
             0.4444444444444444,
             "#bd3786"
            ],
            [
             0.5555555555555556,
             "#d8576b"
            ],
            [
             0.6666666666666666,
             "#ed7953"
            ],
            [
             0.7777777777777778,
             "#fb9f3a"
            ],
            [
             0.8888888888888888,
             "#fdca26"
            ],
            [
             1.0,
             "#f0f921"
            ]
           ],
           "sequentialminus": [
            [
             0.0,
             "#0d0887"
            ],
            [
             0.1111111111111111,
             "#46039f"
            ],
            [
             0.2222222222222222,
             "#7201a8"
            ],
            [
             0.3333333333333333,
             "#9c179e"
            ],
            [
             0.4444444444444444,
             "#bd3786"
            ],
            [
             0.5555555555555556,
             "#d8576b"
            ],
            [
             0.6666666666666666,
             "#ed7953"
            ],
            [
             0.7777777777777778,
             "#fb9f3a"
            ],
            [
             0.8888888888888888,
             "#fdca26"
            ],
            [
             1.0,
             "#f0f921"
            ]
           ],
           "diverging": [
            [
             0,
             "#8e0152"
            ],
            [
             0.1,
             "#c51b7d"
            ],
            [
             0.2,
             "#de77ae"
            ],
            [
             0.3,
             "#f1b6da"
            ],
            [
             0.4,
             "#fde0ef"
            ],
            [
             0.5,
             "#f7f7f7"
            ],
            [
             0.6,
             "#e6f5d0"
            ],
            [
             0.7,
             "#b8e186"
            ],
            [
             0.8,
             "#7fbc41"
            ],
            [
             0.9,
             "#4d9221"
            ],
            [
             1,
             "#276419"
            ]
           ]
          },
          "xaxis": {
           "gridcolor": "white",
           "linecolor": "white",
           "ticks": "",
           "title": {
            "standoff": 15
           },
           "zerolinecolor": "white",
           "automargin": true,
           "zerolinewidth": 2
          },
          "yaxis": {
           "gridcolor": "white",
           "linecolor": "white",
           "ticks": "",
           "title": {
            "standoff": 15
           },
           "zerolinecolor": "white",
           "automargin": true,
           "zerolinewidth": 2
          },
          "scene": {
           "xaxis": {
            "backgroundcolor": "#E5ECF6",
            "gridcolor": "white",
            "linecolor": "white",
            "showbackground": true,
            "ticks": "",
            "zerolinecolor": "white",
            "gridwidth": 2
           },
           "yaxis": {
            "backgroundcolor": "#E5ECF6",
            "gridcolor": "white",
            "linecolor": "white",
            "showbackground": true,
            "ticks": "",
            "zerolinecolor": "white",
            "gridwidth": 2
           },
           "zaxis": {
            "backgroundcolor": "#E5ECF6",
            "gridcolor": "white",
            "linecolor": "white",
            "showbackground": true,
            "ticks": "",
            "zerolinecolor": "white",
            "gridwidth": 2
           }
          },
          "shapedefaults": {
           "line": {
            "color": "#2a3f5f"
           }
          },
          "annotationdefaults": {
           "arrowcolor": "#2a3f5f",
           "arrowhead": 0,
           "arrowwidth": 1
          },
          "geo": {
           "bgcolor": "white",
           "landcolor": "#E5ECF6",
           "subunitcolor": "white",
           "showland": true,
           "showlakes": true,
           "lakecolor": "white"
          },
          "title": {
           "x": 0.05
          },
          "mapbox": {
           "style": "light"
          }
         }
        },
        "scene": {
         "domain": {
          "x": [
           0.0,
           1.0
          ],
          "y": [
           0.0,
           1.0
          ]
         },
         "xaxis": {
          "title": {
           "text": "x"
          }
         },
         "yaxis": {
          "title": {
           "text": "y"
          }
         },
         "zaxis": {
          "title": {
           "text": "z"
          }
         }
        },
        "legend": {
         "tracegroupgap": 0
        },
        "margin": {
         "t": 60
        }
       },
       "config": {
        "plotlyServerURL": "https://plot.ly"
       }
      },
      "text/html": [
       "<div>                            <div id=\"5ffc28fe-12b3-4dae-89fd-61575b18bb05\" class=\"plotly-graph-div\" style=\"height:525px; width:100%;\"></div>            <script type=\"text/javascript\">                require([\"plotly\"], function(Plotly) {                    window.PLOTLYENV=window.PLOTLYENV || {};                                    if (document.getElementById(\"5ffc28fe-12b3-4dae-89fd-61575b18bb05\")) {                    Plotly.newPlot(                        \"5ffc28fe-12b3-4dae-89fd-61575b18bb05\",                        [{\"hovertemplate\":\"x=%{x}\\u003cbr\\u003ey=%{y}\\u003cbr\\u003ez=%{z}\\u003cextra\\u003e\\u003c\\u002fextra\\u003e\",\"legendgroup\":\"\",\"marker\":{\"color\":\"#636efa\",\"symbol\":\"circle\"},\"mode\":\"markers\",\"name\":\"\",\"scene\":\"scene\",\"showlegend\":false,\"x\":[-15.0,-14.9,-14.8,-14.7,-14.6,-14.5,-14.4,-14.3,-14.2,-14.099999,-14.0,-13.9,-13.8,-13.7,-13.599999,-13.5,-13.4,-13.299999,-13.2,-13.099999,-13.0,-12.9,-12.799999,-12.7,-12.6,-12.5,-12.400001,-12.3,-12.200001,-12.1,-12.0,-11.900001,-11.8,-11.7,-11.6,-11.5,-11.400001,-11.3,-11.2,-11.1,-11.0,-10.9,-10.8,-10.7,-10.6,-10.5,-10.4,-10.3,-10.2,-10.099999,-10.0,-9.9,-9.8,-9.7,-9.599999,-9.5,-9.4,-9.299999,-9.2,-9.099999,-9.0,-8.9,-8.799999,-8.7,-8.6,-8.5,-8.400001,-8.3,-8.200001,-8.1,-8.0,-7.9000006,-7.8,-7.7000003,-7.6000004,-7.5,-7.4,-7.3,-7.2000003,-7.1000004,-7.0,-6.9,-6.8,-6.7,-6.6,-6.5,-6.4,-6.3,-6.2,-6.1,-6.0,-5.8999996,-5.7999997,-5.7,-5.6,-5.5,-5.4,-5.3,-5.2000003,-5.1,-5.0,-4.9,-4.8,-4.7000003,-4.6,-4.5,-4.4,-4.2999997,-4.2,-4.1,-4.0,-3.8999999,-3.8,-3.7,-3.6,-3.5,-3.3999999,-3.3,-3.2,-3.1,-3.0,-2.9,-2.8,-2.7,-2.6,-2.5,-2.4,-2.3,-2.2,-2.1000001,-2.0,-1.9000001,-1.8000001,-1.7,-1.6,-1.5,-1.4,-1.3,-1.1999999,-1.1,-1.0,-0.9,-0.79999995,-0.7,-0.6,-0.5,-0.40000004,-0.3,-0.20000002,-0.100000024,-2.3841858e-8,0.09999998,0.2,0.3,0.4,0.5,0.6,0.7,0.8,0.9,1.0,1.1,1.2,1.3,1.4,1.5,1.6,1.7,1.8,1.9,2.0,2.1,2.2,2.3,2.3999999,2.5,2.6,2.6999998,2.8,2.8999999,3.0,3.1,3.1999998,3.3,3.4,3.5,3.6000001,3.7,3.8000002,3.9,4.0,4.1,4.2,4.2999997,4.3999996,4.5,4.6,4.7,4.7999997,4.8999996,5.0,5.1,5.2,5.3,5.4,5.5,5.6,5.7,5.8,5.9,6.0,6.1000004,6.2000003,6.3,6.4,6.5,6.6,6.7,6.7999997,6.9,7.0,7.1,7.2,7.2999997,7.4,7.5,7.6,7.7000003,7.8,7.9,8.0,8.1,8.2,8.3,8.4,8.5,8.599999,8.7,8.8,8.9,9.0,9.1,9.2,9.3,9.4,9.5,9.6,9.7,9.8,9.900001,10.0,10.1,10.2,10.3,10.400001,10.5,10.6,10.700001,10.8,10.900001,11.0,11.1,11.200001,11.3,11.4,11.5,11.599999,11.7,11.799999,11.9,12.0,12.099999,12.2,12.3,12.4,12.5,12.599999,12.7,12.8,12.9,13.0,13.1,13.2,13.3,13.4,13.5,13.6,13.7,13.8,13.9,14.0,14.1,14.2,14.3,14.4,14.5,14.6,14.7,14.8,14.9],\"y\":[-3.0,-2.98,-2.96,-2.94,-2.92,-2.9,-2.8799999,-2.8600001,-2.84,-2.82,-2.8,-2.78,-2.76,-2.74,-2.7199998,-2.7,-2.6799998,-2.6599998,-2.6399999,-2.62,-2.6,-2.58,-2.56,-2.54,-2.52,-2.5,-2.48,-2.46,-2.44,-2.42,-2.4,-2.38,-2.3600001,-2.34,-2.3200002,-2.3,-2.2800002,-2.26,-2.24,-2.22,-2.2,-2.1799998,-2.16,-2.1399999,-2.1200001,-2.1,-2.08,-2.06,-2.04,-2.02,-2.0,-1.9799999,-1.96,-1.9399999,-1.9199998,-1.9,-1.8799999,-1.8599999,-1.8399999,-1.8199999,-1.8,-1.78,-1.7599999,-1.74,-1.72,-1.7,-1.6800001,-1.6600001,-1.6400001,-1.6200001,-1.6,-1.5800002,-1.5600001,-1.5400001,-1.5200001,-1.5,-1.48,-1.46,-1.44,-1.4200001,-1.4,-1.38,-1.36,-1.3399999,-1.3199999,-1.3,-1.28,-1.26,-1.24,-1.22,-1.2,-1.18,-1.16,-1.14,-1.12,-1.1,-1.08,-1.0600001,-1.0400001,-1.02,-1.0,-0.98,-0.96000004,-0.94000006,-0.91999996,-0.9,-0.88,-0.85999995,-0.84,-0.82,-0.8,-0.78,-0.76,-0.74,-0.71999997,-0.7,-0.67999995,-0.65999997,-0.64,-0.62,-0.6,-0.58000004,-0.56,-0.54,-0.52,-0.5,-0.48000002,-0.45999998,-0.44,-0.42000002,-0.4,-0.38000003,-0.36,-0.34,-0.32,-0.3,-0.28,-0.26,-0.23999998,-0.22,-0.2,-0.17999999,-0.16,-0.14,-0.120000005,-0.1,-0.080000006,-0.060000002,-0.040000003,-0.020000005,-4.7683715e-9,0.019999996,0.04,0.060000002,0.08,0.1,0.120000005,0.14,0.16,0.17999999,0.2,0.22,0.24000001,0.26,0.28,0.3,0.32,0.34,0.35999998,0.38,0.4,0.42,0.44,0.45999998,0.47999996,0.5,0.52,0.53999996,0.56,0.58,0.6,0.62,0.64,0.65999997,0.68,0.7,0.72,0.74,0.76000005,0.78000003,0.8,0.82,0.84,0.85999995,0.87999994,0.9,0.91999996,0.93999994,0.9599999,0.9799999,1.0,1.02,1.04,1.0600001,1.08,1.1,1.12,1.14,1.1600001,1.1800001,1.2,1.22,1.24,1.26,1.28,1.3,1.3199999,1.3399999,1.3599999,1.38,1.4,1.42,1.4399999,1.4599999,1.48,1.5,1.52,1.5400001,1.5600001,1.58,1.6,1.6200001,1.64,1.6600001,1.68,1.7,1.7199999,1.74,1.76,1.78,1.8,1.82,1.8399999,1.86,1.8799999,1.9,1.9200001,1.9399999,1.96,1.9800001,2.0,2.02,2.04,2.06,2.0800002,2.1,2.1200001,2.14,2.16,2.18,2.2,2.22,2.2400002,2.26,2.28,2.3,2.32,2.34,2.36,2.3799999,2.4,2.4199998,2.44,2.46,2.48,2.5,2.52,2.54,2.56,2.58,2.6,2.6200001,2.6399999,2.66,2.6799998,2.7,2.72,2.74,2.76,2.78,2.8,2.8200002,2.84,2.8600001,2.8799999,2.9,2.92,2.94,2.96,2.98],\"z\":[-31.059198,-30.99104,-30.71821,-30.323523,-30.350267,-30.495249,-30.073734,-30.059439,-29.97906,-30.123363,-29.734015,-29.107157,-28.853415,-28.962147,-28.243412,-29.06144,-27.849426,-28.091331,-27.797829,-27.863924,-27.704897,-27.02977,-27.475243,-27.120512,-26.694199,-26.745481,-26.163954,-26.351652,-26.16427,-26.13703,-26.198254,-25.829733,-25.628828,-25.155104,-24.708244,-25.011189,-24.76037,-24.460672,-24.357185,-24.122625,-24.074142,-23.766542,-23.63541,-23.846256,-23.105305,-23.373367,-23.0507,-22.743488,-22.55068,-22.405113,-22.238153,-21.868965,-21.742935,-21.750093,-21.654613,-21.30697,-21.076008,-21.172703,-20.779913,-20.318146,-20.204868,-20.262667,-19.891014,-19.877628,-19.485136,-19.191921,-18.909723,-18.83755,-18.77538,-18.83157,-18.366037,-18.31773,-17.952002,-17.950645,-17.882103,-17.382458,-17.25727,-17.36182,-16.524399,-16.682457,-16.582035,-16.727812,-16.141678,-16.375034,-15.7252245,-16.118965,-15.563783,-15.099232,-15.326419,-15.089116,-14.43944,-14.579528,-14.097586,-14.175057,-14.040928,-13.56827,-13.482493,-13.331107,-13.087495,-13.133294,-12.923192,-12.307618,-12.528948,-12.218089,-11.935569,-11.867662,-11.503837,-11.701442,-11.453829,-10.921743,-11.109804,-10.53519,-10.5849,-10.342272,-10.096149,-9.71522,-9.792383,-9.653903,-9.401916,-9.091778,-8.930289,-8.43179,-8.589588,-8.494904,-8.056642,-7.8117394,-7.807183,-7.6648874,-7.0800357,-6.911515,-6.9315524,-6.7008924,-6.744135,-6.386255,-6.4241652,-6.1379185,-5.714765,-5.398773,-5.1094265,-5.251427,-5.163406,-5.2463903,-4.5988727,-3.9709818,-4.357098,-4.1260176,-3.7525861,-3.386029,-3.5020208,-3.0697734,-2.983199,-2.7240078,-2.77796,-2.095059,-2.1499372,-2.0830708,-1.6514287,-1.3193325,-1.5333384,-1.3309692,-1.1279702,-0.7727586,-0.4286319,-0.35774085,-0.04433,0.23134485,-0.17776737,0.5063874,0.47883266,0.56861925,1.0599487,1.3210672,1.2023172,1.6699154,1.5224732,2.0328455,2.1996806,2.7998323,2.9776874,2.95791,3.2512677,3.5272174,3.3645878,3.6826775,4.037944,3.9376304,4.2533646,4.3398542,4.6152987,5.030358,5.1120796,5.7549214,5.5787644,5.731815,5.626588,5.982117,6.2900453,6.6598616,7.2140837,7.2002435,7.0437136,7.3297896,7.684518,7.7274814,7.9367213,7.971391,8.076903,8.538348,8.522883,9.319338,8.941383,9.368098,10.285298,9.598198,10.123952,10.523861,10.600247,10.574234,11.149983,11.604805,11.191262,11.792345,11.657339,11.97231,11.770849,12.349828,12.967492,12.937489,13.409148,13.398207,13.620696,13.81873,13.746241,14.218847,14.404611,14.736036,14.704967,14.491914,15.141582,15.490278,15.635302,16.049795,16.307049,16.381681,16.573097,16.813395,16.609383,17.608631,17.220663,17.689875,17.484911,18.281591,18.08682,18.765556,18.663315,18.85419,18.881372,19.188828,19.34387,19.510267,19.785715,19.92544,20.48557,20.831427,20.683332,20.752447,21.186455,21.322432,21.613077,21.944534,22.478168,22.371456,22.521984,23.167427,23.02948,23.197342,23.445122,23.445572,24.003632,24.155012,24.042974,24.210028,24.894888,24.979675,25.220394,25.222515,25.951702,26.250431,26.036703,26.40138,26.631813,26.880875,27.210688,27.117052,27.171082,27.526508,28.191162,27.877966,28.089306,28.180214],\"type\":\"scatter3d\"}],                        {\"template\":{\"data\":{\"histogram2dcontour\":[{\"type\":\"histogram2dcontour\",\"colorbar\":{\"outlinewidth\":0,\"ticks\":\"\"},\"colorscale\":[[0.0,\"#0d0887\"],[0.1111111111111111,\"#46039f\"],[0.2222222222222222,\"#7201a8\"],[0.3333333333333333,\"#9c179e\"],[0.4444444444444444,\"#bd3786\"],[0.5555555555555556,\"#d8576b\"],[0.6666666666666666,\"#ed7953\"],[0.7777777777777778,\"#fb9f3a\"],[0.8888888888888888,\"#fdca26\"],[1.0,\"#f0f921\"]]}],\"choropleth\":[{\"type\":\"choropleth\",\"colorbar\":{\"outlinewidth\":0,\"ticks\":\"\"}}],\"histogram2d\":[{\"type\":\"histogram2d\",\"colorbar\":{\"outlinewidth\":0,\"ticks\":\"\"},\"colorscale\":[[0.0,\"#0d0887\"],[0.1111111111111111,\"#46039f\"],[0.2222222222222222,\"#7201a8\"],[0.3333333333333333,\"#9c179e\"],[0.4444444444444444,\"#bd3786\"],[0.5555555555555556,\"#d8576b\"],[0.6666666666666666,\"#ed7953\"],[0.7777777777777778,\"#fb9f3a\"],[0.8888888888888888,\"#fdca26\"],[1.0,\"#f0f921\"]]}],\"heatmap\":[{\"type\":\"heatmap\",\"colorbar\":{\"outlinewidth\":0,\"ticks\":\"\"},\"colorscale\":[[0.0,\"#0d0887\"],[0.1111111111111111,\"#46039f\"],[0.2222222222222222,\"#7201a8\"],[0.3333333333333333,\"#9c179e\"],[0.4444444444444444,\"#bd3786\"],[0.5555555555555556,\"#d8576b\"],[0.6666666666666666,\"#ed7953\"],[0.7777777777777778,\"#fb9f3a\"],[0.8888888888888888,\"#fdca26\"],[1.0,\"#f0f921\"]]}],\"heatmapgl\":[{\"type\":\"heatmapgl\",\"colorbar\":{\"outlinewidth\":0,\"ticks\":\"\"},\"colorscale\":[[0.0,\"#0d0887\"],[0.1111111111111111,\"#46039f\"],[0.2222222222222222,\"#7201a8\"],[0.3333333333333333,\"#9c179e\"],[0.4444444444444444,\"#bd3786\"],[0.5555555555555556,\"#d8576b\"],[0.6666666666666666,\"#ed7953\"],[0.7777777777777778,\"#fb9f3a\"],[0.8888888888888888,\"#fdca26\"],[1.0,\"#f0f921\"]]}],\"contourcarpet\":[{\"type\":\"contourcarpet\",\"colorbar\":{\"outlinewidth\":0,\"ticks\":\"\"}}],\"contour\":[{\"type\":\"contour\",\"colorbar\":{\"outlinewidth\":0,\"ticks\":\"\"},\"colorscale\":[[0.0,\"#0d0887\"],[0.1111111111111111,\"#46039f\"],[0.2222222222222222,\"#7201a8\"],[0.3333333333333333,\"#9c179e\"],[0.4444444444444444,\"#bd3786\"],[0.5555555555555556,\"#d8576b\"],[0.6666666666666666,\"#ed7953\"],[0.7777777777777778,\"#fb9f3a\"],[0.8888888888888888,\"#fdca26\"],[1.0,\"#f0f921\"]]}],\"surface\":[{\"type\":\"surface\",\"colorbar\":{\"outlinewidth\":0,\"ticks\":\"\"},\"colorscale\":[[0.0,\"#0d0887\"],[0.1111111111111111,\"#46039f\"],[0.2222222222222222,\"#7201a8\"],[0.3333333333333333,\"#9c179e\"],[0.4444444444444444,\"#bd3786\"],[0.5555555555555556,\"#d8576b\"],[0.6666666666666666,\"#ed7953\"],[0.7777777777777778,\"#fb9f3a\"],[0.8888888888888888,\"#fdca26\"],[1.0,\"#f0f921\"]]}],\"mesh3d\":[{\"type\":\"mesh3d\",\"colorbar\":{\"outlinewidth\":0,\"ticks\":\"\"}}],\"scatter\":[{\"fillpattern\":{\"fillmode\":\"overlay\",\"size\":10,\"solidity\":0.2},\"type\":\"scatter\"}],\"parcoords\":[{\"type\":\"parcoords\",\"line\":{\"colorbar\":{\"outlinewidth\":0,\"ticks\":\"\"}}}],\"scatterpolargl\":[{\"type\":\"scatterpolargl\",\"marker\":{\"colorbar\":{\"outlinewidth\":0,\"ticks\":\"\"}}}],\"bar\":[{\"error_x\":{\"color\":\"#2a3f5f\"},\"error_y\":{\"color\":\"#2a3f5f\"},\"marker\":{\"line\":{\"color\":\"#E5ECF6\",\"width\":0.5},\"pattern\":{\"fillmode\":\"overlay\",\"size\":10,\"solidity\":0.2}},\"type\":\"bar\"}],\"scattergeo\":[{\"type\":\"scattergeo\",\"marker\":{\"colorbar\":{\"outlinewidth\":0,\"ticks\":\"\"}}}],\"scatterpolar\":[{\"type\":\"scatterpolar\",\"marker\":{\"colorbar\":{\"outlinewidth\":0,\"ticks\":\"\"}}}],\"histogram\":[{\"marker\":{\"pattern\":{\"fillmode\":\"overlay\",\"size\":10,\"solidity\":0.2}},\"type\":\"histogram\"}],\"scattergl\":[{\"type\":\"scattergl\",\"marker\":{\"colorbar\":{\"outlinewidth\":0,\"ticks\":\"\"}}}],\"scatter3d\":[{\"type\":\"scatter3d\",\"line\":{\"colorbar\":{\"outlinewidth\":0,\"ticks\":\"\"}},\"marker\":{\"colorbar\":{\"outlinewidth\":0,\"ticks\":\"\"}}}],\"scattermapbox\":[{\"type\":\"scattermapbox\",\"marker\":{\"colorbar\":{\"outlinewidth\":0,\"ticks\":\"\"}}}],\"scatterternary\":[{\"type\":\"scatterternary\",\"marker\":{\"colorbar\":{\"outlinewidth\":0,\"ticks\":\"\"}}}],\"scattercarpet\":[{\"type\":\"scattercarpet\",\"marker\":{\"colorbar\":{\"outlinewidth\":0,\"ticks\":\"\"}}}],\"carpet\":[{\"aaxis\":{\"endlinecolor\":\"#2a3f5f\",\"gridcolor\":\"white\",\"linecolor\":\"white\",\"minorgridcolor\":\"white\",\"startlinecolor\":\"#2a3f5f\"},\"baxis\":{\"endlinecolor\":\"#2a3f5f\",\"gridcolor\":\"white\",\"linecolor\":\"white\",\"minorgridcolor\":\"white\",\"startlinecolor\":\"#2a3f5f\"},\"type\":\"carpet\"}],\"table\":[{\"cells\":{\"fill\":{\"color\":\"#EBF0F8\"},\"line\":{\"color\":\"white\"}},\"header\":{\"fill\":{\"color\":\"#C8D4E3\"},\"line\":{\"color\":\"white\"}},\"type\":\"table\"}],\"barpolar\":[{\"marker\":{\"line\":{\"color\":\"#E5ECF6\",\"width\":0.5},\"pattern\":{\"fillmode\":\"overlay\",\"size\":10,\"solidity\":0.2}},\"type\":\"barpolar\"}],\"pie\":[{\"automargin\":true,\"type\":\"pie\"}]},\"layout\":{\"autotypenumbers\":\"strict\",\"colorway\":[\"#636efa\",\"#EF553B\",\"#00cc96\",\"#ab63fa\",\"#FFA15A\",\"#19d3f3\",\"#FF6692\",\"#B6E880\",\"#FF97FF\",\"#FECB52\"],\"font\":{\"color\":\"#2a3f5f\"},\"hovermode\":\"closest\",\"hoverlabel\":{\"align\":\"left\"},\"paper_bgcolor\":\"white\",\"plot_bgcolor\":\"#E5ECF6\",\"polar\":{\"bgcolor\":\"#E5ECF6\",\"angularaxis\":{\"gridcolor\":\"white\",\"linecolor\":\"white\",\"ticks\":\"\"},\"radialaxis\":{\"gridcolor\":\"white\",\"linecolor\":\"white\",\"ticks\":\"\"}},\"ternary\":{\"bgcolor\":\"#E5ECF6\",\"aaxis\":{\"gridcolor\":\"white\",\"linecolor\":\"white\",\"ticks\":\"\"},\"baxis\":{\"gridcolor\":\"white\",\"linecolor\":\"white\",\"ticks\":\"\"},\"caxis\":{\"gridcolor\":\"white\",\"linecolor\":\"white\",\"ticks\":\"\"}},\"coloraxis\":{\"colorbar\":{\"outlinewidth\":0,\"ticks\":\"\"}},\"colorscale\":{\"sequential\":[[0.0,\"#0d0887\"],[0.1111111111111111,\"#46039f\"],[0.2222222222222222,\"#7201a8\"],[0.3333333333333333,\"#9c179e\"],[0.4444444444444444,\"#bd3786\"],[0.5555555555555556,\"#d8576b\"],[0.6666666666666666,\"#ed7953\"],[0.7777777777777778,\"#fb9f3a\"],[0.8888888888888888,\"#fdca26\"],[1.0,\"#f0f921\"]],\"sequentialminus\":[[0.0,\"#0d0887\"],[0.1111111111111111,\"#46039f\"],[0.2222222222222222,\"#7201a8\"],[0.3333333333333333,\"#9c179e\"],[0.4444444444444444,\"#bd3786\"],[0.5555555555555556,\"#d8576b\"],[0.6666666666666666,\"#ed7953\"],[0.7777777777777778,\"#fb9f3a\"],[0.8888888888888888,\"#fdca26\"],[1.0,\"#f0f921\"]],\"diverging\":[[0,\"#8e0152\"],[0.1,\"#c51b7d\"],[0.2,\"#de77ae\"],[0.3,\"#f1b6da\"],[0.4,\"#fde0ef\"],[0.5,\"#f7f7f7\"],[0.6,\"#e6f5d0\"],[0.7,\"#b8e186\"],[0.8,\"#7fbc41\"],[0.9,\"#4d9221\"],[1,\"#276419\"]]},\"xaxis\":{\"gridcolor\":\"white\",\"linecolor\":\"white\",\"ticks\":\"\",\"title\":{\"standoff\":15},\"zerolinecolor\":\"white\",\"automargin\":true,\"zerolinewidth\":2},\"yaxis\":{\"gridcolor\":\"white\",\"linecolor\":\"white\",\"ticks\":\"\",\"title\":{\"standoff\":15},\"zerolinecolor\":\"white\",\"automargin\":true,\"zerolinewidth\":2},\"scene\":{\"xaxis\":{\"backgroundcolor\":\"#E5ECF6\",\"gridcolor\":\"white\",\"linecolor\":\"white\",\"showbackground\":true,\"ticks\":\"\",\"zerolinecolor\":\"white\",\"gridwidth\":2},\"yaxis\":{\"backgroundcolor\":\"#E5ECF6\",\"gridcolor\":\"white\",\"linecolor\":\"white\",\"showbackground\":true,\"ticks\":\"\",\"zerolinecolor\":\"white\",\"gridwidth\":2},\"zaxis\":{\"backgroundcolor\":\"#E5ECF6\",\"gridcolor\":\"white\",\"linecolor\":\"white\",\"showbackground\":true,\"ticks\":\"\",\"zerolinecolor\":\"white\",\"gridwidth\":2}},\"shapedefaults\":{\"line\":{\"color\":\"#2a3f5f\"}},\"annotationdefaults\":{\"arrowcolor\":\"#2a3f5f\",\"arrowhead\":0,\"arrowwidth\":1},\"geo\":{\"bgcolor\":\"white\",\"landcolor\":\"#E5ECF6\",\"subunitcolor\":\"white\",\"showland\":true,\"showlakes\":true,\"lakecolor\":\"white\"},\"title\":{\"x\":0.05},\"mapbox\":{\"style\":\"light\"}}},\"scene\":{\"domain\":{\"x\":[0.0,1.0],\"y\":[0.0,1.0]},\"xaxis\":{\"title\":{\"text\":\"x\"}},\"yaxis\":{\"title\":{\"text\":\"y\"}},\"zaxis\":{\"title\":{\"text\":\"z\"}}},\"legend\":{\"tracegroupgap\":0},\"margin\":{\"t\":60}},                        {\"responsive\": true}                    ).then(function(){\n",
       "                            \n",
       "var gd = document.getElementById('5ffc28fe-12b3-4dae-89fd-61575b18bb05');\n",
       "var x = new MutationObserver(function (mutations, observer) {{\n",
       "        var display = window.getComputedStyle(gd).display;\n",
       "        if (!display || display === 'none') {{\n",
       "            console.log([gd, 'removed!']);\n",
       "            Plotly.purge(gd);\n",
       "            observer.disconnect();\n",
       "        }}\n",
       "}});\n",
       "\n",
       "// Listen for the removal of the full notebook cells\n",
       "var notebookContainer = gd.closest('#notebook-container');\n",
       "if (notebookContainer) {{\n",
       "    x.observe(notebookContainer, {childList: true});\n",
       "}}\n",
       "\n",
       "// Listen for the clearing of the current output cell\n",
       "var outputEl = gd.closest('.output');\n",
       "if (outputEl) {{\n",
       "    x.observe(outputEl, {childList: true});\n",
       "}}\n",
       "\n",
       "                        })                };                });            </script>        </div>"
      ]
     },
     "metadata": {},
     "output_type": "display_data"
    }
   ],
   "execution_count": 67
  },
  {
   "cell_type": "markdown",
   "source": [
    "В PyTorch при создании тензора можно указать, нужно ли считать по нему градиент или нет, с помощью параметра requires_grad.\n",
    "Если requires_grad=False, то это просто массив с числами, посчитать dx/dy не выйдет.\n",
    "Если же requires_grad=True, то фреймворк будит учитывать этот тензор при построении графа вычислений производной.\n",
    "Например, станет возможно посчитать d(sin(log(x**2) - 3x))/dx.\n",
    "\n",
    "Как происходит отслеживание градиента? Ответ достаточно простой: у каждого тензора на ссамом деле есть параметр .grad, который и хранит градиенты. У тех тензоров, к которым градиент неприменим, grad=None.\n",
    "\n",
    "Что еще интереснее - у тех тензоров, через которые проходят вычисления, появляется параметр grad_fn. Например, у резултата a + b grad_fn будет AddBackward."
   ],
   "metadata": {
    "collapsed": false
   },
   "id": "7c329d8fcb255d60"
  },
  {
   "cell_type": "code",
   "source": [
    "a = torch.rand(5,2, requires_grad=True)\n",
    "b = torch.rand(2, 1, requires_grad=True)"
   ],
   "metadata": {
    "collapsed": false,
    "ExecuteTime": {
     "end_time": "2024-09-23T13:03:48.537613Z",
     "start_time": "2024-09-23T13:03:48.531899Z"
    }
   },
   "id": "9816f92b64f7b65d",
   "outputs": [],
   "execution_count": 68
  },
  {
   "cell_type": "code",
   "source": [
    "res = (a @ b).sum()\n",
    "res"
   ],
   "metadata": {
    "collapsed": false,
    "ExecuteTime": {
     "end_time": "2024-09-23T13:04:33.898139Z",
     "start_time": "2024-09-23T13:04:33.890574Z"
    }
   },
   "id": "a7b829dae50adef4",
   "outputs": [
    {
     "data": {
      "text/plain": [
       "tensor(1.5334, grad_fn=<SumBackward0>)"
      ]
     },
     "execution_count": 71,
     "metadata": {},
     "output_type": "execute_result"
    }
   ],
   "execution_count": 71
  },
  {
   "cell_type": "code",
   "source": [
    "print(a.grad)"
   ],
   "metadata": {
    "collapsed": false,
    "ExecuteTime": {
     "end_time": "2024-09-23T13:04:36.830968Z",
     "start_time": "2024-09-23T13:04:36.825721Z"
    }
   },
   "id": "3c8844fa2f9b86ee",
   "outputs": [
    {
     "name": "stdout",
     "output_type": "stream",
     "text": [
      "None\n"
     ]
    }
   ],
   "execution_count": 72
  },
  {
   "cell_type": "markdown",
   "source": [
    "А как же получить значения градиентов? Тензоры что-то содержат, операции все известны."
   ],
   "metadata": {
    "collapsed": false
   },
   "id": "aff63726b00eced2"
  },
  {
   "cell_type": "code",
   "source": [
    "res.backward()"
   ],
   "metadata": {
    "collapsed": false,
    "ExecuteTime": {
     "end_time": "2024-09-23T13:04:44.703615Z",
     "start_time": "2024-09-23T13:04:44.568119Z"
    }
   },
   "id": "3961bd9da405e7dc",
   "outputs": [],
   "execution_count": 73
  },
  {
   "cell_type": "code",
   "source": [
    "b.grad.data"
   ],
   "metadata": {
    "collapsed": false,
    "ExecuteTime": {
     "end_time": "2024-09-23T13:04:51.147346Z",
     "start_time": "2024-09-23T13:04:51.140554Z"
    }
   },
   "id": "5994b0b82475c7f3",
   "outputs": [
    {
     "data": {
      "text/plain": [
       "tensor([[2.0346],\n",
       "        [1.9147]])"
      ]
     },
     "execution_count": 74,
     "metadata": {},
     "output_type": "execute_result"
    }
   ],
   "execution_count": 74
  },
  {
   "cell_type": "markdown",
   "source": [
    "Перейдем к нашим данным. Попробуем обучить простую линейную модель с помощью градиентного спуска."
   ],
   "metadata": {
    "collapsed": false
   },
   "id": "2e2859f3c4d6d747"
  },
  {
   "cell_type": "code",
   "source": [
    "w = torch.rand(1, 2, requires_grad=True)\n",
    "b = torch.rand(1, requires_grad=True)\n",
    "y_pred = w @ x.T + b\n",
    "loss = torch.mean((y_pred - y) ** 2)\n",
    "loss.backward()"
   ],
   "metadata": {
    "collapsed": false,
    "ExecuteTime": {
     "end_time": "2024-09-23T13:51:07.863122Z",
     "start_time": "2024-09-23T13:51:07.857250Z"
    }
   },
   "id": "13ae627444c3557a",
   "outputs": [],
   "execution_count": 203
  },
  {
   "cell_type": "code",
   "source": [
    "plt.scatter(x[:, 0], y)\n",
    "plt.scatter(x[:, 0], y_pred.detach().numpy())"
   ],
   "metadata": {
    "collapsed": false,
    "ExecuteTime": {
     "end_time": "2024-09-23T13:51:08.400543Z",
     "start_time": "2024-09-23T13:51:08.227064Z"
    }
   },
   "id": "8df29a30db7c4b5",
   "outputs": [
    {
     "data": {
      "text/plain": [
       "<matplotlib.collections.PathCollection at 0x2cc87741cd0>"
      ]
     },
     "execution_count": 204,
     "metadata": {},
     "output_type": "execute_result"
    },
    {
     "data": {
      "text/plain": [
       "<Figure size 640x480 with 1 Axes>"
      ],
      "image/png": "[encoded data removed]"
     },
     "metadata": {},
     "output_type": "display_data"
    }
   ],
   "execution_count": 204
  },
  {
   "cell_type": "markdown",
   "source": [
    "Пока не слишком похоже на то, что мы хотим. Для того, чтобы изменения применились, нужно сделать шаг градиентного спуска."
   ],
   "metadata": {
    "collapsed": false
   },
   "id": "94ce06cbc40d47f8"
  },
  {
   "cell_type": "markdown",
   "source": [
    "**Задание**. Проведите 100 итераций градиентного спуска для данного набора.\n",
    "Для этого надо вспомнить, как выглядит этот алгоритм для линейной регрессии"
   ],
   "metadata": {
    "collapsed": false
   },
   "id": "f946c21edf9ae511"
  },
  {
   "cell_type": "code",
   "source": [
    "for i in range(100):\n",
    "    y_pred = w @ x.T + b\n",
    "    loss = torch.mean((y_pred - y) ** 2)\n",
    "    loss.retain_grad()\n",
    "    w.retain_grad()\n",
    "    b.retain_grad()\n",
    "    loss.backward()\n",
    "    w = w - 0.01 * w.grad.data\n",
    "    b = b - 0.01 * b.grad.data\n",
    "    loss.grad.data.zero_()\n",
    "    # your code: adjust w and b using gradient descent\n",
    "    # Every iteration you need to set gradients to zero (or you will get unexpected results).\n",
    "    # This is done by .grad.data.zero_()\n",
    "plt.scatter(x[:, 0], y)\n",
    "plt.scatter(x[:, 0], y_pred.detach().numpy())"
   ],
   "metadata": {
    "collapsed": false,
    "ExecuteTime": {
     "end_time": "2024-09-23T13:51:14.989931Z",
     "start_time": "2024-09-23T13:51:14.726038Z"
    }
   },
   "id": "49f2e7759abe6247",
   "outputs": [
    {
     "data": {
      "text/plain": [
       "<matplotlib.collections.PathCollection at 0x2cc874bbf90>"
      ]
     },
     "execution_count": 205,
     "metadata": {},
     "output_type": "execute_result"
    },
    {
     "data": {
      "text/plain": [
       "<Figure size 640x480 with 1 Axes>"
      ],
      "image/png": "[encoded data removed]"
     },
     "metadata": {},
     "output_type": "display_data"
    }
   ],
   "execution_count": 205
  },
  {
   "cell_type": "markdown",
   "id": "7302150d",
   "metadata": {},
   "source": [
    "# Пайплайн обучения\n",
    "Импортируем torch.nn - тут находятся классы, реализующие слои, лоссы, функции ошибок и тд. \n",
    "Для примера я использую стандартный датасет для компьютерного зрения - MNIST - содержащий цифры от 0 до 9 в разном написании. Поэтому импортируются некоторые подмодули torchvision\n"
   ]
  },
  {
   "cell_type": "code",
   "id": "bf7c9b27",
   "metadata": {
    "ExecuteTime": {
     "end_time": "2024-09-23T13:52:44.464361Z",
     "start_time": "2024-09-23T13:52:42.609948Z"
    }
   },
   "source": [
    "import torch\n",
    "from torch import nn\n",
    "from torch.utils.data import DataLoader, Dataset\n",
    "from torchvision import datasets\n",
    "from torchvision.transforms import ToTensor\n",
    "from matplotlib import pyplot as plt"
   ],
   "outputs": [],
   "execution_count": 209
  },
  {
   "cell_type": "code",
   "id": "45ad1ada",
   "metadata": {
    "ExecuteTime": {
     "end_time": "2024-09-23T13:52:44.475582Z",
     "start_time": "2024-09-23T13:52:44.470682Z"
    }
   },
   "source": [
    "import os\n",
    "import pandas as pd\n",
    "from torchvision.io import read_image\n"
   ],
   "outputs": [],
   "execution_count": 210
  },
  {
   "cell_type": "markdown",
   "id": "54aebe5f",
   "metadata": {},
   "source": [
    "# Создание датасета"
   ]
  },
  {
   "cell_type": "markdown",
   "id": "71d937ef",
   "metadata": {},
   "source": [
    "Pytorch позволяет использовать открытые датасеты с хаба. Они все являются подклассами `torch.utils.data.Dataset` и имплементируют методы, специфичные для этого класса данных. Обычно они используются для прототипирования и бенчмаркинга и могут быть загружены по необходимости. Однако если для задачи необxодимо что-то кроме предполагаемой разработчиками функциональности, нужно либо отнаследовать один из них, либо напрямую `torch.utils.data.Dataset`.\n",
    "\n",
    "Давайте загрузим FashionMNIST (https://github.com/zalandoresearch/fashion-mnist) - один из таких простых бенчмарк-датасетов для компьютерного зрения. Каждый семпл - это черно-белое изображение размером 28х28 с каким-то предметом одежды и ассоциированным классом. Всего набор содержит 60000 + 10000 изображений и 10 классов.\n"
   ]
  },
  {
   "cell_type": "code",
   "id": "84744d19",
   "metadata": {
    "ExecuteTime": {
     "end_time": "2024-09-23T13:53:12.332934Z",
     "start_time": "2024-09-23T13:52:49.613103Z"
    }
   },
   "source": [
    "train_data = datasets.FashionMNIST(\n",
    "    root=\"data\",\n",
    "    train=True,\n",
    "    download=True,\n",
    "    transform=ToTensor(),\n",
    ")\n",
    "\n",
    "# Download test data from open datasets.\n",
    "test_data = datasets.FashionMNIST(\n",
    "    root=\"data\",\n",
    "    train=False,\n",
    "    download=True,\n",
    "    transform=ToTensor(),\n",
    ")"
   ],
   "outputs": [
    {
     "name": "stdout",
     "output_type": "stream",
     "text": [
      "Downloading http://fashion-mnist.s3-website.eu-central-1.amazonaws.com/train-images-idx3-ubyte.gz\n",
      "Downloading http://fashion-mnist.s3-website.eu-central-1.amazonaws.com/train-images-idx3-ubyte.gz to data\\FashionMNIST\\raw\\train-images-idx3-ubyte.gz\n"
     ]
    },
    {
     "name": "stderr",
     "output_type": "stream",
     "text": [
      "100%|██████████| 26421880/26421880 [00:17<00:00, 1483080.52it/s]\n"
     ]
    },
    {
     "name": "stdout",
     "output_type": "stream",
     "text": [
      "Extracting data\\FashionMNIST\\raw\\train-images-idx3-ubyte.gz to data\\FashionMNIST\\raw\n",
      "\n",
      "Downloading http://fashion-mnist.s3-website.eu-central-1.amazonaws.com/train-labels-idx1-ubyte.gz\n",
      "Downloading http://fashion-mnist.s3-website.eu-central-1.amazonaws.com/train-labels-idx1-ubyte.gz to data\\FashionMNIST\\raw\\train-labels-idx1-ubyte.gz\n"
     ]
    },
    {
     "name": "stderr",
     "output_type": "stream",
     "text": [
      "100%|██████████| 29515/29515 [00:00<00:00, 719917.67it/s]\n"
     ]
    },
    {
     "name": "stdout",
     "output_type": "stream",
     "text": [
      "Extracting data\\FashionMNIST\\raw\\train-labels-idx1-ubyte.gz to data\\FashionMNIST\\raw\n",
      "\n",
      "Downloading http://fashion-mnist.s3-website.eu-central-1.amazonaws.com/t10k-images-idx3-ubyte.gz\n",
      "Downloading http://fashion-mnist.s3-website.eu-central-1.amazonaws.com/t10k-images-idx3-ubyte.gz to data\\FashionMNIST\\raw\\t10k-images-idx3-ubyte.gz\n"
     ]
    },
    {
     "name": "stderr",
     "output_type": "stream",
     "text": [
      "100%|██████████| 4422102/4422102 [00:02<00:00, 1498682.33it/s]\n"
     ]
    },
    {
     "name": "stdout",
     "output_type": "stream",
     "text": [
      "Extracting data\\FashionMNIST\\raw\\t10k-images-idx3-ubyte.gz to data\\FashionMNIST\\raw\n",
      "\n",
      "Downloading http://fashion-mnist.s3-website.eu-central-1.amazonaws.com/t10k-labels-idx1-ubyte.gz\n",
      "Downloading http://fashion-mnist.s3-website.eu-central-1.amazonaws.com/t10k-labels-idx1-ubyte.gz to data\\FashionMNIST\\raw\\t10k-labels-idx1-ubyte.gz\n"
     ]
    },
    {
     "name": "stderr",
     "output_type": "stream",
     "text": [
      "100%|██████████| 5148/5148 [00:00<?, ?it/s]"
     ]
    },
    {
     "name": "stdout",
     "output_type": "stream",
     "text": [
      "Extracting data\\FashionMNIST\\raw\\t10k-labels-idx1-ubyte.gz to data\\FashionMNIST\\raw\n",
      "\n"
     ]
    },
    {
     "name": "stderr",
     "output_type": "stream",
     "text": [
      "\n"
     ]
    }
   ],
   "execution_count": 211
  },
  {
   "cell_type": "code",
   "id": "cdfc853a",
   "metadata": {
    "ExecuteTime": {
     "end_time": "2024-09-23T13:53:43.777657Z",
     "start_time": "2024-09-23T13:53:43.773243Z"
    }
   },
   "source": [
    "labels_map = {\n",
    "    0: \"T-Shirt\",\n",
    "    1: \"Trouser\",\n",
    "    2: \"Pullover\",\n",
    "    3: \"Dress\",\n",
    "    4: \"Coat\",\n",
    "    5: \"Sandal\",\n",
    "    6: \"Shirt\",\n",
    "    7: \"Sneaker\",\n",
    "    8: \"Bag\",\n",
    "    9: \"Ankle Boot\",\n",
    "}"
   ],
   "outputs": [],
   "execution_count": 212
  },
  {
   "cell_type": "code",
   "id": "dc9d3d8f",
   "metadata": {
    "ExecuteTime": {
     "end_time": "2024-09-23T13:53:45.389601Z",
     "start_time": "2024-09-23T13:53:45.383097Z"
    }
   },
   "source": [
    "def plot_samples(data, labels_map, cols=3, rows=3):\n",
    "    figure = plt.figure(figsize=(8, 8))\n",
    "    for i in range(1, cols * rows + 1):\n",
    "        sample_idx = torch.randint(len(data), size=(1,)).item()\n",
    "        img, label = data[sample_idx]\n",
    "        figure.add_subplot(rows, cols, i)\n",
    "        if type(label) == torch.Tensor:\n",
    "            plt.title(labels_map[label.item()])\n",
    "        else:\n",
    "            plt.title(labels_map[label])\n",
    "        plt.axis(\"off\")\n",
    "        plt.imshow(img.squeeze(), cmap=\"gray\")\n",
    "    plt.show()"
   ],
   "outputs": [],
   "execution_count": 213
  },
  {
   "cell_type": "code",
   "id": "6f1c8745",
   "metadata": {
    "ExecuteTime": {
     "end_time": "2024-09-23T13:53:47.268202Z",
     "start_time": "2024-09-23T13:53:46.781759Z"
    }
   },
   "source": [
    "plot_samples(train_data, labels_map, cols=3, rows=3)"
   ],
   "outputs": [
    {
     "data": {
      "text/plain": [
       "<Figure size 800x800 with 9 Axes>"
      ],
      "image/png": "[encoded data removed]"
     },
     "metadata": {},
     "output_type": "display_data"
    }
   ],
   "execution_count": 214
  },
  {
   "cell_type": "markdown",
   "id": "9a33dc57",
   "metadata": {},
   "source": [
    "Каждый датасет в Pytorch должен наследоваться от класса Dataset и обязательно имплементировать методы `__init__, __len__, __getitem__`. В `__init__` обычно кроме прочего определяются трансформации, которые будут применяться к данным. Это может быть преобразование PIL.Image в тензоры, добавление шума, сдвиги и т.д. \n",
    "Pytorch предоставляет большое количество трансформаций, но наиболее популярная и удобная библиотека, реализующая трансформации для изображений - *albumentations*. \n",
    "\n",
    "`__len__` - должна возвращать размер датасета (например, чисо строк в файле с аннотациями)\n",
    "\n",
    "`__getitem__` - должен возвращать семпл данных, например, вектор признаков и y. Однако он может возвращать еще и дополнительную информацию, например, y может состоять из набора bboxoв и  сегментационных масок для детекции, класса изображения итп. Обычно возвращается tuple. В целом, возвращаться может любая структура, которую можно представить как набор тензоров, соответствующих одному семплу и входу модели.\n",
    "Внутри этого метода может происходить загрузка семпла, его трансформации и другие необходимые манипуляции. Очевидно, что он может возвращать не только изображение, но и любые другие данные, и временные ряды, и табличные данные, и облака точек, и другое. \n"
   ]
  },
  {
   "cell_type": "markdown",
   "id": "d59d78bb",
   "metadata": {},
   "source": [
    "Давайте реализуем такой датасет для FashionMNIST. Конечно, можно было бы спокойно использовать встроенный, но так не интересно )"
   ]
  },
  {
   "cell_type": "code",
   "id": "9022c5a5",
   "metadata": {
    "ExecuteTime": {
     "end_time": "2024-09-23T13:53:55.711288Z",
     "start_time": "2024-09-23T13:53:55.706494Z"
    }
   },
   "source": [
    "from torchvision.datasets.mnist import read_image_file, read_label_file"
   ],
   "outputs": [],
   "execution_count": 215
  },
  {
   "cell_type": "code",
   "id": "5df545a3",
   "metadata": {
    "ExecuteTime": {
     "end_time": "2024-09-23T13:53:56.429933Z",
     "start_time": "2024-09-23T13:53:56.422483Z"
    }
   },
   "source": [
    "class FashionMNISTDataset(Dataset):\n",
    "    def __init__(self, file_dir, train=True, transform=None, target_transform=None):\n",
    "        self.transform = transform\n",
    "        self.target_transform = target_transform\n",
    "        self.train = train\n",
    "        image_file = f\"{'train' if self.train else 't10k'}-images-idx3-ubyte\"\n",
    "        self.data = read_image_file(os.path.join(file_dir, image_file))\n",
    "\n",
    "        label_file = f\"{'train' if self.train else 't10k'}-labels-idx1-ubyte\"\n",
    "        self.targets = read_label_file(os.path.join(file_dir, label_file))\n",
    "\n",
    "    def __len__(self):\n",
    "        return len(self.data)\n",
    "\n",
    "    def __getitem__(self, idx):\n",
    "        image = self.data[idx]\n",
    "        label = self.targets[idx]\n",
    "        \n",
    "        if self.transform:\n",
    "            image = self.transform(image)\n",
    "        if self.target_transform:\n",
    "            label = self.target_transform(label)\n",
    "        return image, label"
   ],
   "outputs": [],
   "execution_count": 216
  },
  {
   "cell_type": "markdown",
   "source": [
    "Проинициализируйте ваш новый датасет так же, как и ранее встроенный."
   ],
   "metadata": {
    "collapsed": false
   },
   "id": "6c45b760e86f2f35"
  },
  {
   "cell_type": "code",
   "id": "3d648b9e",
   "metadata": {
    "ExecuteTime": {
     "end_time": "2024-09-24T13:51:06.816682Z",
     "start_time": "2024-09-24T13:51:06.758788Z"
    }
   },
   "source": [
    "train_data =  FashionMNISTDataset(file_dir=\"data/FashionMNIST/raw\", train=True)\n",
    "test_data = FashionMNISTDataset(file_dir=\"data/FashionMNIST/raw\", train=False)"
   ],
   "outputs": [],
   "execution_count": 414
  },
  {
   "cell_type": "code",
   "id": "9d8e5055",
   "metadata": {
    "ExecuteTime": {
     "end_time": "2024-09-23T13:58:29.953478Z",
     "start_time": "2024-09-23T13:58:29.472122Z"
    }
   },
   "source": [
    "plot_samples(train_data, labels_map, cols=3, rows=3)"
   ],
   "outputs": [
    {
     "data": {
      "text/plain": [
       "<Figure size 800x800 with 9 Axes>"
      ],
      "image/png": "[encoded data removed]"
     },
     "metadata": {},
     "output_type": "display_data"
    }
   ],
   "execution_count": 223
  },
  {
   "cell_type": "markdown",
   "id": "f7354c09",
   "metadata": {},
   "source": [
    "Датасет возвращает один семпл за раз, однако часто наши мощности позволяют обрабатывать больше данных. При работе с таблицами обыно модель получает на вход вообще весь набор сразу или достаточно большими порциями. Когда речь заходит о тензорах и наборах с сотнями тысяч и даже миллионами семплов, это невозможно. На помощь приходит батчевая обработка, когда из датасета берутся небольшие порции данных за раз (используя индекс). За соединение семплов во вход модели отвечает класс DataLoader. Каждую эпоху данные шаффлятся, чтобы уменьшить переобучение. "
   ]
  },
  {
   "cell_type": "code",
   "id": "6920b94f",
   "metadata": {
    "ExecuteTime": {
     "end_time": "2024-09-24T11:13:40.836899Z",
     "start_time": "2024-09-24T11:13:40.831240Z"
    }
   },
   "source": [
    "train_dataloader = DataLoader(train_data, batch_size=64, shuffle=True)\n",
    "test_dataloader = DataLoader(test_data, batch_size=64, shuffle=True)"
   ],
   "outputs": [],
   "execution_count": 324
  },
  {
   "cell_type": "code",
   "id": "15214288",
   "metadata": {
    "ExecuteTime": {
     "end_time": "2024-09-24T11:13:41.386842Z",
     "start_time": "2024-09-24T11:13:41.206315Z"
    }
   },
   "source": [
    "train_features, train_labels = next(iter(train_dataloader))\n",
    "print(f\"Feature batch shape: {train_features.size()}\")\n",
    "print(f\"Labels batch shape: {train_labels.size()}\")\n",
    "img = train_features[0].squeeze().reshape(28,28)\n",
    "label = train_labels[0]\n",
    "plt.imshow(img, cmap=\"gray\")\n",
    "plt.show()\n",
    "print(f\"Label: {label}\")"
   ],
   "outputs": [
    {
     "name": "stdout",
     "output_type": "stream",
     "text": [
      "Feature batch shape: torch.Size([64, 28, 28])\n",
      "Labels batch shape: torch.Size([64])\n"
     ]
    },
    {
     "data": {
      "text/plain": [
       "<Figure size 640x480 with 1 Axes>"
      ],
      "image/png": "[encoded data removed]"
     },
     "metadata": {},
     "output_type": "display_data"
    },
    {
     "name": "stdout",
     "output_type": "stream",
     "text": [
      "Label: 8\n"
     ]
    }
   ],
   "execution_count": 325
  },
  {
   "cell_type": "markdown",
   "id": "fcf84e10",
   "metadata": {},
   "source": [
    "Глубокое обучение чаще всего связывают с GPU, и не зря. Имея дело с тензорами и тензорными вычислениями, мы производим огромное количество элементарных операций. Каждое ядро CPU способно произвести только одно вычисление за такт. GPU был создан для обработки графики, где требуется также большое количество простых вычислений, и поэтому может ускорить обработку данных в тысячи раз. Это все должно быть хорошо Вам известно из других курсов)\n",
    "\n",
    "К сожалению, часто компьютер не поддерживает вычисления на GPU, например, у него просто нет дискретной видеокарты. Pytorch позволяет проводить все операции на CPU, так что его можно использовать где угодно.\n",
    "\n"
   ]
  },
  {
   "cell_type": "code",
   "id": "188d5e11",
   "metadata": {
    "ExecuteTime": {
     "end_time": "2024-09-24T11:13:42.425903Z",
     "start_time": "2024-09-24T11:13:42.420428Z"
    }
   },
   "source": [
    "device = \"cuda\" if torch.cuda.is_available() else \"cpu\"\n",
    "print(f\"Using {device} device\")"
   ],
   "outputs": [
    {
     "name": "stdout",
     "output_type": "stream",
     "text": [
      "Using cuda device\n"
     ]
    }
   ],
   "execution_count": 326
  },
  {
   "cell_type": "markdown",
   "id": "1c77c6be",
   "metadata": {},
   "source": [
    "*Дополнительное задание: адаптируйте весь код для `accelerate`. Это очень удобная библиотека для адаптации PyTorch кода для любой распределенной конфигурации. Кроме того, она позволяет упростить работу, даже если нам нужно перенести вычисления на GPU или CPU, автоматизируя этот процесс (иначе нам нужно постоянно вызывать `.to(device)`)*\n",
    "*Для этого импортируйте нужный Accelerator из accelerate. Далее достаточно вызвать accelerator.prepare(elements)*"
   ]
  },
  {
   "cell_type": "markdown",
   "id": "c2f9aa77",
   "metadata": {},
   "source": [
    "Теперь создадим класс модели и интстанциируем её. В данном случае это простой перцептрон с тремя слоями. Однако модель может быть сколько угодно сложной. Главное, чтобы она наследовала класс `nn.Module`. Более того, можно написать любой слой собственноручно, также отнаследовав этот класс.\n",
    "Каждая модель должна имплементировать два метода - `__init__` и `forward(self, *args, **kwargs)`. В первом обычно задается ее структура и другие параметры. Модель  может даже содержать другие модели!\n",
    "\n",
    "`forward` получает на вход Х, но он может получать несколько разных входов, маски и тд. Обычно возвращаются либо выходы с последнего слоя (один или несколько). Но, например, стандартные модели детекции возвращают в режиме обучения значение лосса, а непосредственные предсказания только в режиме тестирования.\n",
    "\n",
    "Вызывая `model(data)`, на самом деле мы вызываем именно метод `forward`"
   ]
  },
  {
   "cell_type": "markdown",
   "id": "bc1e538f",
   "metadata": {},
   "source": [
    "Для того, чтобы понять, как устроен слой в Pytorch, создадим простой слой для превращения изображения в вектор.\n",
    "Пусть это будет класс MyFlatten. Изображения (и, что более актуально, промежуточные представления или, иными словами, карты, внутри модели) изначально имеют размер N x C x H x W, где:\n",
    "\n",
    "N - число семплов в батче\n",
    "C - число каналов на входе в конкретный слой. Если вход с 3 каналами, это 3, но в середине модели это может быть любое число, например, 128.\n",
    "H - высота карты\n",
    "W - ширина карты\n",
    "\n",
    "Когда мы делаем что-то вроде двумерной свертки, это стандартное представление данных, которое позволяет восстановить пространственные зависимости между элементами карты. Однако, когда мы используем полносвязные модели, каждый семпл представлен единым вектором. В простом случае больше не нужно разделять разные каналы, строки и столбцы данных. Таким образом, мы используем операцию \"вытянуть в вектор\", чтобы превратить значения C x H x W в представление C * H * W. "
   ]
  },
  {
   "cell_type": "markdown",
   "id": "73d4040a",
   "metadata": {},
   "source": [
    "**Задание**: допишите класс MyFlatten. Этот слой при вызове должен принимать на вход тензор размера B x C x H x W и возвращать тензор размера B x [C * H * W]. Пример: батч картинок 2 x 3(rgb) x 16(h) x 16(w)] -> 2 x 768"
   ]
  },
  {
   "cell_type": "code",
   "id": "6874d66c",
   "metadata": {
    "ExecuteTime": {
     "end_time": "2024-09-24T11:13:45.311093Z",
     "start_time": "2024-09-24T11:13:45.304752Z"
    }
   },
   "source": [
    "class MyFlatten(nn.Module):\n",
    "    def __init__(self, *args, **kwargs):\n",
    "        super().__init__(*args, **kwargs)\n",
    "    def __call__(self, tensor: torch.Tensor, *args, **kwargs):\n",
    "        return tensor.view(tensor.size(0), -1)"
   ],
   "outputs": [],
   "execution_count": 327
  },
  {
   "cell_type": "code",
   "id": "276275b8",
   "metadata": {
    "ExecuteTime": {
     "end_time": "2024-09-24T13:25:20.047233Z",
     "start_time": "2024-09-24T13:25:19.869076Z"
    }
   },
   "source": [
    "class NeuralNetwork(nn.Module):\n",
    "    def __init__(self, softmax=False):\n",
    "        super().__init__()\n",
    "        self.softmax = softmax\n",
    "        self.flatten = MyFlatten()\n",
    "        self.fc = nn.Sequential(\n",
    "            nn.Linear(28*28, 512),\n",
    "            nn.ReLU(),\n",
    "            nn.Linear(512, 512),\n",
    "            nn.ReLU(),\n",
    "            nn.Linear(512, 10)\n",
    "        )\n",
    "\n",
    "    def forward(self, x):\n",
    "        x = self.flatten(x)\n",
    "        logits = self.fc(x)\n",
    "        if self.softmax:\n",
    "            return torch.log_softmax(logits, dim=1)\n",
    "        else:\n",
    "            return logits\n",
    "\n",
    "model = NeuralNetwork().to(device)\n",
    "print(model)"
   ],
   "outputs": [
    {
     "name": "stdout",
     "output_type": "stream",
     "text": [
      "NeuralNetwork(\n",
      "  (flatten): MyFlatten()\n",
      "  (fc): Sequential(\n",
      "    (0): Linear(in_features=784, out_features=512, bias=True)\n",
      "    (1): ReLU()\n",
      "    (2): Linear(in_features=512, out_features=512, bias=True)\n",
      "    (3): ReLU()\n",
      "    (4): Linear(in_features=512, out_features=10, bias=True)\n",
      "  )\n",
      ")\n"
     ]
    }
   ],
   "execution_count": 397
  },
  {
   "cell_type": "markdown",
   "id": "2e4083c3",
   "metadata": {},
   "source": [
    "Слои: http://pytorch.org/docs/nn.html\n",
    "\n",
    "Активации: http://pytorch.org/docs/nn.html#non-linear-activations"
   ]
  },
  {
   "cell_type": "markdown",
   "id": "1eba191e",
   "metadata": {},
   "source": [
    "Зададим функцию ошибки и оптимизатор. Функция ошибки также наследуется от torch.nn.Module и может быть стандартной, состоять как из нескольких стандартных функций или их модификаций. Большое количество функций ошибки уже реализовано в Pytorch.\n",
    "\n",
    "Внутри каждой итерации обучения оптимизация происходит в три этапа:\n",
    "Вызов optimizer.zero_grad() для обнуления градиентов параметров модели. Градиенты по умолчанию складываются; чтобы избежать двойного подсчета, мы явно обнуляем их на каждой итерации.\n",
    "\n",
    "Получение градиентов для каждого веса с помощью loss.backward().\n",
    "Как только мы получили наши градиенты, остается вызвать optimizer.step(), чтобы изменить параметры в соответствии с нашим алгоритмом оптимизации. "
   ]
  },
  {
   "cell_type": "code",
   "id": "eec223a3",
   "metadata": {
    "ExecuteTime": {
     "end_time": "2024-09-24T11:16:25.089255Z",
     "start_time": "2024-09-24T11:16:25.083828Z"
    }
   },
   "source": [
    "loss_fn = nn.CrossEntropyLoss()\n",
    "optimizer = torch.optim.SGD(model.parameters(), lr=1e-3)"
   ],
   "outputs": [],
   "execution_count": 346
  },
  {
   "cell_type": "markdown",
   "id": "51ae01c0",
   "metadata": {},
   "source": [
    "Задание: \n",
    "1) Выберите как минимум еще 2 разные функции ошибки из https://pytorch.org/docs/stable/nn.html#loss-functions и обучите модель с ними\n",
    "2) Выберите как минимум еще 1 оптимизатор из https://pytorch.org/docs/stable/optim.html и обучите каждую из моделей с ним\n",
    "\n",
    "В результате у вас должна получиться таблица с лучшими значениями лосса для каждого случая для обучения и теста. В идеале оформите их в виде pandas.DataFrame или другой таблицы с удобным выводом."
   ]
  },
  {
   "cell_type": "markdown",
   "id": "075289cb",
   "metadata": {},
   "source": [
    "Обучим модель. Для этого нужно описать цикл обучения и проверки модели. В наивном случае создается две функции train и validate (test), которые вызываются в цикле по эпохам. В дальнейшем, при усложнении прохода по эпохе, может появиться метод train, целый класс Trainer и т.д. Пока что реализуем наивный вариант."
   ]
  },
  {
   "cell_type": "code",
   "id": "8931bac2",
   "metadata": {
    "ExecuteTime": {
     "end_time": "2024-09-24T11:16:26.040856Z",
     "start_time": "2024-09-24T11:16:26.033357Z"
    }
   },
   "source": [
    "def train(dataloader, model, loss_fn, optimizer):\n",
    "    size = len(dataloader.dataset)\n",
    "    model.train()\n",
    "    min_loss = float(\"inf\")\n",
    "    for batch_idx, (inputs, targets) in enumerate(dataloader):\n",
    "        inputs, targets = inputs.to(device), targets.to(device)\n",
    "\n",
    "        # Compute prediction error\n",
    "        preds = model(inputs.float())\n",
    "        loss = loss_fn(preds, targets)\n",
    "        if loss < min_loss:\n",
    "            min_loss = loss\n",
    "        \n",
    "        # Backpropagation\n",
    "        optimizer.zero_grad()\n",
    "        loss.backward()\n",
    "        optimizer.step()\n",
    "\n",
    "        if batch_idx % 100 == 0:\n",
    "            loss, current = loss.item(), (batch_idx + 1) * len(preds)\n",
    "            print(f\"loss: {loss:>7f}  [{current:>5d}/{size:>5d}]\")\n",
    "            \n",
    "        ''' Чтобы сделать задание со сравнением лоссов, не забудьте \n",
    "            реализовать трекинг минимального лосса  '''\n",
    "    print(f'Min loss: {min_loss:>5f}')\n",
    "    return min_loss"
   ],
   "outputs": [],
   "execution_count": 347
  },
  {
   "cell_type": "code",
   "id": "289e5cbe",
   "metadata": {
    "ExecuteTime": {
     "end_time": "2024-09-24T12:40:27.770455Z",
     "start_time": "2024-09-24T12:40:27.760739Z"
    }
   },
   "source": [
    "from sklearn.metrics import precision_score, recall_score\n",
    "\n",
    "def test(dataloader, model, loss_fn):\n",
    "    size = len(dataloader.dataset)\n",
    "    num_batches = len(dataloader)\n",
    "    model.eval()\n",
    "    test_loss, num_correct = 0, 0\n",
    "    all_preds = []\n",
    "    all_targets = []\n",
    "    \n",
    "    with torch.no_grad():\n",
    "        for inputs, targets in dataloader:\n",
    "            inputs, targets = inputs.to(device), targets.to(device)\n",
    "            preds = model(inputs.float())\n",
    "            num_correct += (preds.argmax(1) == targets).type(torch.float).sum().item()\n",
    "            test_loss += loss_fn(preds, targets).item()\n",
    "            \n",
    "            # Store predictions and targets for metrics computation\n",
    "            all_preds.extend(preds.argmax(1).cpu().numpy())\n",
    "            all_targets.extend(targets.cpu().numpy())\n",
    "    \n",
    "    test_loss /= num_batches\n",
    "    num_correct /= size\n",
    "    \n",
    "    # Compute precision and recall\n",
    "    precision = precision_score(all_targets, all_preds, average='weighted', zero_division=np.nan)\n",
    "    recall = recall_score(all_targets, all_preds, average='weighted', zero_division=np.nan)\n",
    "\n",
    "    print(f\"Test Error: \\n Accuracy: {(100*num_correct):>0.1f}%, Avg loss: {test_loss:>8f}\")\n",
    "    print(f\"Precision: {100*precision:>0.1f}%, Recall: {100*recall:>0.1f}% \\n\")\n",
    "    return test_loss\n"
   ],
   "outputs": [],
   "execution_count": 376
  },
  {
   "cell_type": "markdown",
   "id": "873bd8ea",
   "metadata": {},
   "source": [
    "Задание: Добавьте метрики precision и recall для проверки"
   ]
  },
  {
   "cell_type": "code",
   "id": "dc99a7ef",
   "metadata": {
    "ExecuteTime": {
     "end_time": "2024-09-24T11:17:16.259663Z",
     "start_time": "2024-09-24T11:16:27.300429Z"
    }
   },
   "source": [
    "epochs = 10\n",
    "for t in range(epochs):\n",
    "    print(f\"Epoch {t+1}\\n-------------------------------\")\n",
    "    train(train_dataloader, model, loss_fn, optimizer)\n",
    "    test(test_dataloader, model, loss_fn)\n",
    "    # ваш код"
   ],
   "outputs": [
    {
     "name": "stdout",
     "output_type": "stream",
     "text": [
      "Epoch 1\n",
      "-------------------------------\n",
      "loss: 16.231457  [   64/60000]\n",
      "loss: 0.393282  [ 6464/60000]\n",
      "loss: 0.577524  [12864/60000]\n",
      "loss: 0.766597  [19264/60000]\n",
      "loss: 0.539279  [25664/60000]\n",
      "loss: 0.341917  [32064/60000]\n",
      "loss: 0.492978  [38464/60000]\n",
      "loss: 0.504251  [44864/60000]\n",
      "loss: 0.596167  [51264/60000]\n",
      "loss: 0.385734  [57664/60000]\n",
      "Min loss: 0.216009\n",
      "Test Error: \n",
      " Accuracy: 81.0%, Avg loss: 0.550746\n",
      "Precision: 82.1%, Recall: 81.0% \n",
      "\n",
      "Epoch 2\n",
      "-------------------------------\n",
      "loss: 0.366182  [   64/60000]\n",
      "loss: 0.365171  [ 6464/60000]\n",
      "loss: 0.365133  [12864/60000]\n",
      "loss: 0.322815  [19264/60000]\n",
      "loss: 0.408649  [25664/60000]\n",
      "loss: 0.459448  [32064/60000]\n",
      "loss: 0.530426  [38464/60000]\n",
      "loss: 0.529856  [44864/60000]\n",
      "loss: 0.509409  [51264/60000]\n",
      "loss: 0.381397  [57664/60000]\n",
      "Min loss: 0.155116\n",
      "Test Error: \n",
      " Accuracy: 84.8%, Avg loss: 0.434377\n",
      "Precision: 84.9%, Recall: 84.8% \n",
      "\n",
      "Epoch 3\n",
      "-------------------------------\n",
      "loss: 0.433956  [   64/60000]\n",
      "loss: 0.279384  [ 6464/60000]\n",
      "loss: 0.507171  [12864/60000]\n",
      "loss: 0.224353  [19264/60000]\n",
      "loss: 0.525019  [25664/60000]\n",
      "loss: 0.378177  [32064/60000]\n",
      "loss: 0.408432  [38464/60000]\n",
      "loss: 0.351345  [44864/60000]\n",
      "loss: 0.187206  [51264/60000]\n",
      "loss: 0.272136  [57664/60000]\n",
      "Min loss: 0.102548\n",
      "Test Error: \n",
      " Accuracy: 85.5%, Avg loss: 0.407364\n",
      "Precision: 85.7%, Recall: 85.5% \n",
      "\n",
      "Epoch 4\n",
      "-------------------------------\n",
      "loss: 0.271760  [   64/60000]\n",
      "loss: 0.203386  [ 6464/60000]\n",
      "loss: 0.340021  [12864/60000]\n",
      "loss: 0.333703  [19264/60000]\n",
      "loss: 0.282927  [25664/60000]\n",
      "loss: 0.269146  [32064/60000]\n",
      "loss: 0.211301  [38464/60000]\n",
      "loss: 0.303193  [44864/60000]\n",
      "loss: 0.431021  [51264/60000]\n",
      "loss: 0.460472  [57664/60000]\n",
      "Min loss: 0.125546\n",
      "Test Error: \n",
      " Accuracy: 86.1%, Avg loss: 0.386491\n",
      "Precision: 86.2%, Recall: 86.1% \n",
      "\n",
      "Epoch 5\n",
      "-------------------------------\n",
      "loss: 0.430532  [   64/60000]\n",
      "loss: 0.287554  [ 6464/60000]\n",
      "loss: 0.298916  [12864/60000]\n",
      "loss: 0.271940  [19264/60000]\n",
      "loss: 0.217181  [25664/60000]\n",
      "loss: 0.242665  [32064/60000]\n",
      "loss: 0.226712  [38464/60000]\n",
      "loss: 0.464962  [44864/60000]\n",
      "loss: 0.282956  [51264/60000]\n",
      "loss: 0.353555  [57664/60000]\n",
      "Min loss: 0.074193\n",
      "Test Error: \n",
      " Accuracy: 83.8%, Avg loss: 0.435692\n",
      "Precision: 86.3%, Recall: 83.8% \n",
      "\n",
      "Epoch 6\n",
      "-------------------------------\n",
      "loss: 0.268751  [   64/60000]\n",
      "loss: 0.236405  [ 6464/60000]\n",
      "loss: 0.330790  [12864/60000]\n",
      "loss: 0.366201  [19264/60000]\n",
      "loss: 0.181195  [25664/60000]\n",
      "loss: 0.315240  [32064/60000]\n",
      "loss: 0.152369  [38464/60000]\n",
      "loss: 0.336382  [44864/60000]\n",
      "loss: 0.220874  [51264/60000]\n",
      "loss: 0.165668  [57664/60000]\n",
      "Min loss: 0.087549\n",
      "Test Error: \n",
      " Accuracy: 85.8%, Avg loss: 0.401748\n",
      "Precision: 86.4%, Recall: 85.8% \n",
      "\n",
      "Epoch 7\n",
      "-------------------------------\n",
      "loss: 0.181442  [   64/60000]\n",
      "loss: 0.314602  [ 6464/60000]\n",
      "loss: 0.539747  [12864/60000]\n",
      "loss: 0.156429  [19264/60000]\n",
      "loss: 0.225725  [25664/60000]\n",
      "loss: 0.154022  [32064/60000]\n",
      "loss: 0.279326  [38464/60000]\n",
      "loss: 0.429143  [44864/60000]\n",
      "loss: 0.109458  [51264/60000]\n",
      "loss: 0.220131  [57664/60000]\n",
      "Min loss: 0.071892\n",
      "Test Error: \n",
      " Accuracy: 86.5%, Avg loss: 0.377141\n",
      "Precision: 87.0%, Recall: 86.5% \n",
      "\n",
      "Epoch 8\n",
      "-------------------------------\n",
      "loss: 0.202855  [   64/60000]\n",
      "loss: 0.267205  [ 6464/60000]\n",
      "loss: 0.172351  [12864/60000]\n",
      "loss: 0.128277  [19264/60000]\n",
      "loss: 0.207488  [25664/60000]\n",
      "loss: 0.103976  [32064/60000]\n",
      "loss: 0.188041  [38464/60000]\n",
      "loss: 0.131108  [44864/60000]\n",
      "loss: 0.183581  [51264/60000]\n",
      "loss: 0.218158  [57664/60000]\n",
      "Min loss: 0.049702\n",
      "Test Error: \n",
      " Accuracy: 86.4%, Avg loss: 0.375281\n",
      "Precision: 87.2%, Recall: 86.4% \n",
      "\n",
      "Epoch 9\n",
      "-------------------------------\n",
      "loss: 0.406069  [   64/60000]\n",
      "loss: 0.245303  [ 6464/60000]\n",
      "loss: 0.157529  [12864/60000]\n",
      "loss: 0.300616  [19264/60000]\n",
      "loss: 0.239990  [25664/60000]\n",
      "loss: 0.153998  [32064/60000]\n",
      "loss: 0.184654  [38464/60000]\n",
      "loss: 0.155295  [44864/60000]\n",
      "loss: 0.221123  [51264/60000]\n",
      "loss: 0.249583  [57664/60000]\n",
      "Min loss: 0.063431\n",
      "Test Error: \n",
      " Accuracy: 86.8%, Avg loss: 0.383490\n",
      "Precision: 87.1%, Recall: 86.8% \n",
      "\n",
      "Epoch 10\n",
      "-------------------------------\n",
      "loss: 0.385434  [   64/60000]\n",
      "loss: 0.189959  [ 6464/60000]\n",
      "loss: 0.344564  [12864/60000]\n",
      "loss: 0.168802  [19264/60000]\n",
      "loss: 0.127625  [25664/60000]\n",
      "loss: 0.218710  [32064/60000]\n",
      "loss: 0.303139  [38464/60000]\n",
      "loss: 0.196448  [44864/60000]\n",
      "loss: 0.211092  [51264/60000]\n",
      "loss: 0.105294  [57664/60000]\n",
      "Min loss: 0.065716\n",
      "Test Error: \n",
      " Accuracy: 87.2%, Avg loss: 0.369679\n",
      "Precision: 87.2%, Recall: 87.2% \n",
      "\n"
     ]
    }
   ],
   "execution_count": 349
  },
  {
   "cell_type": "markdown",
   "id": "f45a2f7c",
   "metadata": {},
   "source": [
    "Осталось сохранить модель для дальнейшего использования. "
   ]
  },
  {
   "cell_type": "code",
   "id": "1ec53cf5",
   "metadata": {
    "ExecuteTime": {
     "end_time": "2024-09-24T10:54:07.357217Z",
     "start_time": "2024-09-24T10:54:07.336231Z"
    }
   },
   "source": [
    "torch.save(model.state_dict(), \"best_model.pth\")"
   ],
   "outputs": [],
   "execution_count": 313
  },
  {
   "cell_type": "markdown",
   "id": "f674ae5e",
   "metadata": {},
   "source": [
    "Какая точность получилась? "
   ]
  },
  {
   "metadata": {},
   "cell_type": "markdown",
   "source": "87%",
   "id": "31093aaeb0416570"
  },
  {
   "metadata": {},
   "cell_type": "markdown",
   "source": "Сюда будем заносить результаты",
   "id": "ecd61ff8e3af87b7"
  },
  {
   "metadata": {},
   "cell_type": "code",
   "outputs": [],
   "execution_count": null,
   "source": [
    "train_results = pd.DataFrame()\n",
    "test_results = pd.DataFrame()"
   ],
   "id": "7fd5fb999c5a2f84"
  },
  {
   "metadata": {},
   "cell_type": "markdown",
   "source": "Далее будем тестировать разные комбинации функций потерь и оптимизатора",
   "id": "e49e411604c09826"
  },
  {
   "metadata": {
    "ExecuteTime": {
     "end_time": "2024-09-24T12:34:41.570971Z",
     "start_time": "2024-09-24T12:33:41.667577Z"
    }
   },
   "cell_type": "code",
   "source": [
    "model = NeuralNetwork().to(device)\n",
    "optimizer = torch.optim.SGD(model.parameters(), lr=1e-3)\n",
    "loss_fn = nn.CrossEntropyLoss()\n",
    "name = 'SGD+CrossEntropy'\n",
    "train_losses = []\n",
    "test_losses = []\n",
    "for t in range(epochs):\n",
    "    print(f\"Epoch {t+1}\\n-------------------------------\")\n",
    "    train_loss = train(train_dataloader, model, loss_fn, optimizer).detach().cpu().numpy()\n",
    "    test_loss = test(test_dataloader, model, loss_fn)\n",
    "    train_losses.append(train_loss)\n",
    "    test_losses.append(test_loss)\n",
    "train_results[name] = np.array(train_losses)\n",
    "test_results[name] = np.array(test_losses)"
   ],
   "id": "a2e578f07fc696d4",
   "outputs": [
    {
     "name": "stdout",
     "output_type": "stream",
     "text": [
      "Epoch 1\n",
      "-------------------------------\n",
      "loss: 22.353920  [   64/60000]\n",
      "loss: 0.642561  [ 6464/60000]\n",
      "loss: 0.671151  [12864/60000]\n",
      "loss: 0.599863  [19264/60000]\n",
      "loss: 0.671378  [25664/60000]\n",
      "loss: 0.427533  [32064/60000]\n",
      "loss: 0.384700  [38464/60000]\n",
      "loss: 0.365166  [44864/60000]\n",
      "loss: 0.338094  [51264/60000]\n",
      "loss: 0.417972  [57664/60000]\n",
      "Min loss: 0.106815\n",
      "Test Error: \n",
      " Accuracy: 83.9%, Avg loss: 0.454578\n",
      "Precision: 83.7%, Recall: 83.9% \n",
      "\n",
      "Epoch 2\n",
      "-------------------------------\n",
      "loss: 0.232030  [   64/60000]\n",
      "loss: 0.409542  [ 6464/60000]\n",
      "loss: 0.356852  [12864/60000]\n",
      "loss: 0.167906  [19264/60000]\n",
      "loss: 0.417430  [25664/60000]\n",
      "loss: 0.365328  [32064/60000]\n",
      "loss: 0.271052  [38464/60000]\n",
      "loss: 0.454648  [44864/60000]\n",
      "loss: 0.453887  [51264/60000]\n",
      "loss: 0.346880  [57664/60000]\n",
      "Min loss: 0.096371\n",
      "Test Error: \n",
      " Accuracy: 83.2%, Avg loss: 0.470453\n",
      "Precision: 84.5%, Recall: 83.2% \n",
      "\n",
      "Epoch 3\n",
      "-------------------------------\n",
      "loss: 0.215438  [   64/60000]\n",
      "loss: 0.253395  [ 6464/60000]\n",
      "loss: 0.281736  [12864/60000]\n",
      "loss: 0.422420  [19264/60000]\n",
      "loss: 0.376243  [25664/60000]\n",
      "loss: 0.522974  [32064/60000]\n",
      "loss: 0.296499  [38464/60000]\n",
      "loss: 0.426957  [44864/60000]\n",
      "loss: 0.202854  [51264/60000]\n",
      "loss: 0.437372  [57664/60000]\n",
      "Min loss: 0.124248\n",
      "Test Error: \n",
      " Accuracy: 85.4%, Avg loss: 0.413790\n",
      "Precision: 85.5%, Recall: 85.4% \n",
      "\n",
      "Epoch 4\n",
      "-------------------------------\n",
      "loss: 0.298960  [   64/60000]\n",
      "loss: 0.302768  [ 6464/60000]\n",
      "loss: 0.210937  [12864/60000]\n",
      "loss: 0.392118  [19264/60000]\n",
      "loss: 0.464692  [25664/60000]\n",
      "loss: 0.388455  [32064/60000]\n",
      "loss: 0.272126  [38464/60000]\n",
      "loss: 0.239766  [44864/60000]\n",
      "loss: 0.327176  [51264/60000]\n",
      "loss: 0.340851  [57664/60000]\n",
      "Min loss: 0.086460\n",
      "Test Error: \n",
      " Accuracy: 85.9%, Avg loss: 0.402523\n",
      "Precision: 86.1%, Recall: 85.9% \n",
      "\n",
      "Epoch 5\n",
      "-------------------------------\n",
      "loss: 0.343450  [   64/60000]\n",
      "loss: 0.161345  [ 6464/60000]\n",
      "loss: 0.219345  [12864/60000]\n",
      "loss: 0.225028  [19264/60000]\n",
      "loss: 0.391977  [25664/60000]\n",
      "loss: 0.406826  [32064/60000]\n",
      "loss: 0.226372  [38464/60000]\n",
      "loss: 0.193029  [44864/60000]\n",
      "loss: 0.405158  [51264/60000]\n",
      "loss: 0.376615  [57664/60000]\n",
      "Min loss: 0.084554\n",
      "Test Error: \n",
      " Accuracy: 85.9%, Avg loss: 0.390009\n",
      "Precision: 86.2%, Recall: 85.9% \n",
      "\n",
      "Epoch 6\n",
      "-------------------------------\n",
      "loss: 0.465328  [   64/60000]\n",
      "loss: 0.330231  [ 6464/60000]\n",
      "loss: 0.170297  [12864/60000]\n",
      "loss: 0.326470  [19264/60000]\n",
      "loss: 0.299258  [25664/60000]\n",
      "loss: 0.405434  [32064/60000]\n",
      "loss: 0.267860  [38464/60000]\n",
      "loss: 0.212328  [44864/60000]\n",
      "loss: 0.187172  [51264/60000]\n",
      "loss: 0.312639  [57664/60000]\n",
      "Min loss: 0.084280\n",
      "Test Error: \n",
      " Accuracy: 85.9%, Avg loss: 0.391556\n",
      "Precision: 86.3%, Recall: 85.9% \n",
      "\n",
      "Epoch 7\n",
      "-------------------------------\n",
      "loss: 0.235988  [   64/60000]\n",
      "loss: 0.227266  [ 6464/60000]\n",
      "loss: 0.148136  [12864/60000]\n",
      "loss: 0.149635  [19264/60000]\n",
      "loss: 0.308319  [25664/60000]\n",
      "loss: 0.206037  [32064/60000]\n",
      "loss: 0.193163  [38464/60000]\n",
      "loss: 0.203105  [44864/60000]\n",
      "loss: 0.280632  [51264/60000]\n",
      "loss: 0.140206  [57664/60000]\n",
      "Min loss: 0.077032\n",
      "Test Error: \n",
      " Accuracy: 86.4%, Avg loss: 0.383219\n",
      "Precision: 86.5%, Recall: 86.4% \n",
      "\n",
      "Epoch 8\n",
      "-------------------------------\n",
      "loss: 0.221939  [   64/60000]\n",
      "loss: 0.314135  [ 6464/60000]\n",
      "loss: 0.151905  [12864/60000]\n",
      "loss: 0.201676  [19264/60000]\n",
      "loss: 0.132619  [25664/60000]\n",
      "loss: 0.263216  [32064/60000]\n",
      "loss: 0.379152  [38464/60000]\n",
      "loss: 0.149446  [44864/60000]\n",
      "loss: 0.169749  [51264/60000]\n",
      "loss: 0.244670  [57664/60000]\n",
      "Min loss: 0.087399\n",
      "Test Error: \n",
      " Accuracy: 86.2%, Avg loss: 0.385529\n",
      "Precision: 86.4%, Recall: 86.2% \n",
      "\n",
      "Epoch 9\n",
      "-------------------------------\n",
      "loss: 0.166625  [   64/60000]\n",
      "loss: 0.221703  [ 6464/60000]\n",
      "loss: 0.390200  [12864/60000]\n",
      "loss: 0.258337  [19264/60000]\n",
      "loss: 0.361833  [25664/60000]\n",
      "loss: 0.334584  [32064/60000]\n",
      "loss: 0.290314  [38464/60000]\n",
      "loss: 0.319150  [44864/60000]\n",
      "loss: 0.161737  [51264/60000]\n",
      "loss: 0.183837  [57664/60000]\n",
      "Min loss: 0.040645\n",
      "Test Error: \n",
      " Accuracy: 87.0%, Avg loss: 0.362244\n",
      "Precision: 87.1%, Recall: 87.0% \n",
      "\n",
      "Epoch 10\n",
      "-------------------------------\n",
      "loss: 0.218600  [   64/60000]\n",
      "loss: 0.231043  [ 6464/60000]\n",
      "loss: 0.207631  [12864/60000]\n",
      "loss: 0.183434  [19264/60000]\n",
      "loss: 0.321946  [25664/60000]\n",
      "loss: 0.337614  [32064/60000]\n",
      "loss: 0.294306  [38464/60000]\n",
      "loss: 0.197153  [44864/60000]\n",
      "loss: 0.284506  [51264/60000]\n",
      "loss: 0.146469  [57664/60000]\n",
      "Min loss: 0.063494\n",
      "Test Error: \n",
      " Accuracy: 86.3%, Avg loss: 0.389556\n",
      "Precision: 87.0%, Recall: 86.3% \n",
      "\n"
     ]
    }
   ],
   "execution_count": 372
  },
  {
   "metadata": {
    "ExecuteTime": {
     "end_time": "2024-09-24T12:31:19.492557Z",
     "start_time": "2024-09-24T12:30:44.255512Z"
    }
   },
   "cell_type": "code",
   "source": [
    "model = NeuralNetwork().to(device)\n",
    "optimizer = torch.optim.Adam(model.parameters(), lr=1e-3)\n",
    "loss_fn = nn.CrossEntropyLoss()\n",
    "name = 'Adam+CrossEntropy'\n",
    "train_losses = []\n",
    "test_losses = []\n",
    "for t in range(epochs):\n",
    "    print(f\"Epoch {t+1}\\n-------------------------------\")\n",
    "    train_loss = train(train_dataloader, model, loss_fn, optimizer).detach().cpu().numpy()\n",
    "    test_loss = test(test_dataloader, model, loss_fn)\n",
    "    train_losses.append(train_loss)\n",
    "    test_losses.append(test_loss)\n",
    "train_results[name] = np.array(train_losses)\n",
    "test_results[name] = np.array(test_losses)"
   ],
   "id": "131e66ded4db81a",
   "outputs": [
    {
     "name": "stdout",
     "output_type": "stream",
     "text": [
      "Epoch 1\n",
      "-------------------------------\n",
      "loss: 19.931549  [   64/60000]\n",
      "loss: 0.802131  [ 6464/60000]\n",
      "loss: 0.345466  [12864/60000]\n",
      "loss: 0.445746  [19264/60000]\n",
      "loss: 0.680452  [25664/60000]\n",
      "loss: 0.366076  [32064/60000]\n",
      "loss: 0.460308  [38464/60000]\n",
      "loss: 0.460726  [44864/60000]\n",
      "loss: 0.411817  [51264/60000]\n",
      "loss: 0.490641  [57664/60000]\n",
      "Min loss: 0.179668\n",
      "Test Error: \n",
      " Accuracy: 83.6%, Avg loss: 0.453582\n",
      "Precision: 84.0%, Recall: 83.6% \n",
      "\n",
      "Epoch 2\n",
      "-------------------------------\n",
      "loss: 0.315055  [   64/60000]\n",
      "loss: 0.387930  [ 6464/60000]\n",
      "loss: 0.657162  [12864/60000]\n",
      "loss: 0.553608  [19264/60000]\n",
      "loss: 0.175582  [25664/60000]\n",
      "loss: 0.311358  [32064/60000]\n",
      "loss: 0.349047  [38464/60000]\n",
      "loss: 0.517951  [44864/60000]\n",
      "loss: 0.573135  [51264/60000]\n",
      "loss: 0.490472  [57664/60000]\n",
      "Min loss: 0.154786\n",
      "Test Error: \n",
      " Accuracy: 83.8%, Avg loss: 0.445878\n",
      "Precision: 84.1%, Recall: 83.8% \n",
      "\n",
      "Epoch 3\n",
      "-------------------------------\n",
      "loss: 0.413750  [   64/60000]\n",
      "loss: 0.296248  [ 6464/60000]\n",
      "loss: 0.359898  [12864/60000]\n",
      "loss: 0.396711  [19264/60000]\n",
      "loss: 0.812951  [25664/60000]\n",
      "loss: 0.537085  [32064/60000]\n",
      "loss: 0.677860  [38464/60000]\n",
      "loss: 0.573708  [44864/60000]\n",
      "loss: 0.389555  [51264/60000]\n",
      "loss: 0.376315  [57664/60000]\n",
      "Min loss: 0.147303\n",
      "Test Error: \n",
      " Accuracy: 84.9%, Avg loss: 0.414045\n",
      "Precision: 85.2%, Recall: 84.9% \n",
      "\n",
      "Epoch 4\n",
      "-------------------------------\n",
      "loss: 0.253502  [   64/60000]\n",
      "loss: 0.435736  [ 6464/60000]\n",
      "loss: 0.383954  [12864/60000]\n",
      "loss: 0.688056  [19264/60000]\n",
      "loss: 0.559111  [25664/60000]\n",
      "loss: 0.274443  [32064/60000]\n",
      "loss: 0.302528  [38464/60000]\n",
      "loss: 0.424531  [44864/60000]\n",
      "loss: 0.191344  [51264/60000]\n",
      "loss: 0.314321  [57664/60000]\n",
      "Min loss: 0.128343\n",
      "Test Error: \n",
      " Accuracy: 85.3%, Avg loss: 0.403249\n",
      "Precision: 85.7%, Recall: 85.3% \n",
      "\n",
      "Epoch 5\n",
      "-------------------------------\n",
      "loss: 0.210579  [   64/60000]\n",
      "loss: 0.163610  [ 6464/60000]\n",
      "loss: 0.308629  [12864/60000]\n",
      "loss: 0.179625  [19264/60000]\n",
      "loss: 0.156070  [25664/60000]\n",
      "loss: 0.300060  [32064/60000]\n",
      "loss: 0.429239  [38464/60000]\n",
      "loss: 0.470606  [44864/60000]\n",
      "loss: 0.389122  [51264/60000]\n",
      "loss: 0.433511  [57664/60000]\n",
      "Min loss: 0.095181\n",
      "Test Error: \n",
      " Accuracy: 84.0%, Avg loss: 0.452154\n",
      "Precision: 85.2%, Recall: 84.0% \n",
      "\n",
      "Epoch 6\n",
      "-------------------------------\n",
      "loss: 0.475037  [   64/60000]\n",
      "loss: 0.335127  [ 6464/60000]\n",
      "loss: 0.357833  [12864/60000]\n",
      "loss: 0.375072  [19264/60000]\n",
      "loss: 0.331898  [25664/60000]\n",
      "loss: 0.358038  [32064/60000]\n",
      "loss: 0.547776  [38464/60000]\n",
      "loss: 0.367643  [44864/60000]\n",
      "loss: 0.223327  [51264/60000]\n",
      "loss: 0.373681  [57664/60000]\n",
      "Min loss: 0.091412\n",
      "Test Error: \n",
      " Accuracy: 85.7%, Avg loss: 0.403050\n",
      "Precision: 86.1%, Recall: 85.7% \n",
      "\n",
      "Epoch 7\n",
      "-------------------------------\n",
      "loss: 0.292270  [   64/60000]\n",
      "loss: 0.350785  [ 6464/60000]\n",
      "loss: 0.146303  [12864/60000]\n",
      "loss: 0.185447  [19264/60000]\n",
      "loss: 0.447207  [25664/60000]\n",
      "loss: 0.344581  [32064/60000]\n",
      "loss: 0.318354  [38464/60000]\n",
      "loss: 0.403172  [44864/60000]\n",
      "loss: 0.454414  [51264/60000]\n",
      "loss: 0.465138  [57664/60000]\n",
      "Min loss: 0.095353\n",
      "Test Error: \n",
      " Accuracy: 85.1%, Avg loss: 0.419023\n",
      "Precision: 85.5%, Recall: 85.1% \n",
      "\n",
      "Epoch 8\n",
      "-------------------------------\n",
      "loss: 0.250927  [   64/60000]\n",
      "loss: 0.204325  [ 6464/60000]\n",
      "loss: 0.302835  [12864/60000]\n",
      "loss: 0.295867  [19264/60000]\n",
      "loss: 0.363530  [25664/60000]\n",
      "loss: 0.462629  [32064/60000]\n",
      "loss: 0.449780  [38464/60000]\n",
      "loss: 0.312649  [44864/60000]\n",
      "loss: 0.437968  [51264/60000]\n",
      "loss: 0.402102  [57664/60000]\n",
      "Min loss: 0.113446\n",
      "Test Error: \n",
      " Accuracy: 86.0%, Avg loss: 0.394099\n",
      "Precision: 86.1%, Recall: 86.0% \n",
      "\n",
      "Epoch 9\n",
      "-------------------------------\n",
      "loss: 0.176708  [   64/60000]\n",
      "loss: 0.226879  [ 6464/60000]\n",
      "loss: 0.278048  [12864/60000]\n",
      "loss: 0.276913  [19264/60000]\n",
      "loss: 0.795002  [25664/60000]\n",
      "loss: 0.354348  [32064/60000]\n",
      "loss: 0.273179  [38464/60000]\n",
      "loss: 0.549424  [44864/60000]\n",
      "loss: 0.435558  [51264/60000]\n",
      "loss: 0.199372  [57664/60000]\n",
      "Min loss: 0.083738\n",
      "Test Error: \n",
      " Accuracy: 84.0%, Avg loss: 0.444948\n",
      "Precision: 86.3%, Recall: 84.0% \n",
      "\n",
      "Epoch 10\n",
      "-------------------------------\n",
      "loss: 0.413396  [   64/60000]\n",
      "loss: 0.405144  [ 6464/60000]\n",
      "loss: 0.361935  [12864/60000]\n",
      "loss: 0.241330  [19264/60000]\n",
      "loss: 0.301782  [25664/60000]\n",
      "loss: 0.323771  [32064/60000]\n",
      "loss: 0.323054  [38464/60000]\n",
      "loss: 0.322413  [44864/60000]\n",
      "loss: 0.415325  [51264/60000]\n",
      "loss: 0.242012  [57664/60000]\n",
      "Min loss: 0.083616\n",
      "Test Error: \n",
      " Accuracy: 86.7%, Avg loss: 0.381485\n",
      "Precision: 87.1%, Recall: 86.7% \n",
      "\n"
     ]
    }
   ],
   "execution_count": 370
  },
  {
   "metadata": {
    "ExecuteTime": {
     "end_time": "2024-09-24T13:27:05.253097Z",
     "start_time": "2024-09-24T13:26:12.850090Z"
    }
   },
   "cell_type": "code",
   "source": [
    "model = NeuralNetwork(softmax=True).to(device)\n",
    "optimizer = torch.optim.SGD(model.parameters(), lr=1e-3)\n",
    "loss_fn = nn.NLLLoss()\n",
    "name = 'SGD+NLLLoss'\n",
    "train_losses = []\n",
    "test_losses = []\n",
    "for t in range(epochs):\n",
    "    print(f\"Epoch {t+1}\\n-------------------------------\")\n",
    "    train_loss = train(train_dataloader, model, loss_fn, optimizer).detach().cpu().numpy()\n",
    "    test_loss = test(test_dataloader, model, loss_fn)\n",
    "    train_losses.append(train_loss)\n",
    "    test_losses.append(test_loss)\n",
    "train_results[name] = np.array(train_losses)\n",
    "test_results[name] = np.array(test_losses)"
   ],
   "id": "e08ce6c82ff6db5",
   "outputs": [
    {
     "name": "stdout",
     "output_type": "stream",
     "text": [
      "Epoch 1\n",
      "-------------------------------\n",
      "loss: 24.414474  [   64/60000]\n",
      "loss: 0.727993  [ 6464/60000]\n",
      "loss: 0.354190  [12864/60000]\n",
      "loss: 0.490631  [19264/60000]\n",
      "loss: 0.454440  [25664/60000]\n",
      "loss: 0.443209  [32064/60000]\n",
      "loss: 0.378827  [38464/60000]\n",
      "loss: 0.496356  [44864/60000]\n",
      "loss: 0.392855  [51264/60000]\n",
      "loss: 0.681022  [57664/60000]\n",
      "Min loss: 0.160444\n",
      "Test Error: \n",
      " Accuracy: 75.5%, Avg loss: 0.709204\n",
      "Precision: 81.0%, Recall: 75.5% \n",
      "\n",
      "Epoch 2\n",
      "-------------------------------\n",
      "loss: 0.405615  [   64/60000]\n",
      "loss: 0.399016  [ 6464/60000]\n",
      "loss: 0.324591  [12864/60000]\n",
      "loss: 0.390107  [19264/60000]\n",
      "loss: 0.383485  [25664/60000]\n",
      "loss: 0.508062  [32064/60000]\n",
      "loss: 0.401409  [38464/60000]\n",
      "loss: 0.489195  [44864/60000]\n",
      "loss: 0.465828  [51264/60000]\n",
      "loss: 0.275129  [57664/60000]\n",
      "Min loss: 0.158420\n",
      "Test Error: \n",
      " Accuracy: 84.9%, Avg loss: 0.423971\n",
      "Precision: 84.8%, Recall: 84.9% \n",
      "\n",
      "Epoch 3\n",
      "-------------------------------\n",
      "loss: 0.282827  [   64/60000]\n",
      "loss: 0.410402  [ 6464/60000]\n",
      "loss: 0.248515  [12864/60000]\n",
      "loss: 0.424608  [19264/60000]\n",
      "loss: 0.245397  [25664/60000]\n",
      "loss: 0.430702  [32064/60000]\n",
      "loss: 0.383893  [38464/60000]\n",
      "loss: 0.482867  [44864/60000]\n",
      "loss: 0.524197  [51264/60000]\n",
      "loss: 0.352482  [57664/60000]\n",
      "Min loss: 0.116943\n",
      "Test Error: \n",
      " Accuracy: 84.5%, Avg loss: 0.428932\n",
      "Precision: 84.7%, Recall: 84.5% \n",
      "\n",
      "Epoch 4\n",
      "-------------------------------\n",
      "loss: 0.240330  [   64/60000]\n",
      "loss: 0.316328  [ 6464/60000]\n",
      "loss: 0.416092  [12864/60000]\n",
      "loss: 0.326253  [19264/60000]\n",
      "loss: 0.425031  [25664/60000]\n",
      "loss: 0.162665  [32064/60000]\n",
      "loss: 0.273346  [38464/60000]\n",
      "loss: 0.300103  [44864/60000]\n",
      "loss: 0.283168  [51264/60000]\n",
      "loss: 0.314953  [57664/60000]\n",
      "Min loss: 0.100358\n",
      "Test Error: \n",
      " Accuracy: 84.7%, Avg loss: 0.424342\n",
      "Precision: 85.3%, Recall: 84.7% \n",
      "\n",
      "Epoch 5\n",
      "-------------------------------\n",
      "loss: 0.255222  [   64/60000]\n",
      "loss: 0.338149  [ 6464/60000]\n",
      "loss: 0.345087  [12864/60000]\n",
      "loss: 0.251944  [19264/60000]\n",
      "loss: 0.247988  [25664/60000]\n",
      "loss: 0.273114  [32064/60000]\n",
      "loss: 0.361577  [38464/60000]\n",
      "loss: 0.313267  [44864/60000]\n",
      "loss: 0.450405  [51264/60000]\n",
      "loss: 0.401860  [57664/60000]\n",
      "Min loss: 0.086828\n",
      "Test Error: \n",
      " Accuracy: 85.7%, Avg loss: 0.389677\n",
      "Precision: 85.7%, Recall: 85.7% \n",
      "\n",
      "Epoch 6\n",
      "-------------------------------\n",
      "loss: 0.144733  [   64/60000]\n",
      "loss: 0.227696  [ 6464/60000]\n",
      "loss: 0.298829  [12864/60000]\n",
      "loss: 0.248075  [19264/60000]\n",
      "loss: 0.172829  [25664/60000]\n",
      "loss: 0.152934  [32064/60000]\n",
      "loss: 0.251130  [38464/60000]\n",
      "loss: 0.178294  [44864/60000]\n",
      "loss: 0.190612  [51264/60000]\n",
      "loss: 0.241255  [57664/60000]\n",
      "Min loss: 0.083556\n",
      "Test Error: \n",
      " Accuracy: 85.9%, Avg loss: 0.393274\n",
      "Precision: 86.4%, Recall: 85.9% \n",
      "\n",
      "Epoch 7\n",
      "-------------------------------\n",
      "loss: 0.255958  [   64/60000]\n",
      "loss: 0.300901  [ 6464/60000]\n",
      "loss: 0.095858  [12864/60000]\n",
      "loss: 0.290024  [19264/60000]\n",
      "loss: 0.174702  [25664/60000]\n",
      "loss: 0.250910  [32064/60000]\n",
      "loss: 0.140370  [38464/60000]\n",
      "loss: 0.284895  [44864/60000]\n",
      "loss: 0.242693  [51264/60000]\n",
      "loss: 0.391101  [57664/60000]\n",
      "Min loss: 0.078658\n",
      "Test Error: \n",
      " Accuracy: 86.3%, Avg loss: 0.370098\n",
      "Precision: 86.5%, Recall: 86.3% \n",
      "\n",
      "Epoch 8\n",
      "-------------------------------\n",
      "loss: 0.351552  [   64/60000]\n",
      "loss: 0.321086  [ 6464/60000]\n",
      "loss: 0.211742  [12864/60000]\n",
      "loss: 0.151465  [19264/60000]\n",
      "loss: 0.377547  [25664/60000]\n",
      "loss: 0.208599  [32064/60000]\n",
      "loss: 0.260862  [38464/60000]\n",
      "loss: 0.169861  [44864/60000]\n",
      "loss: 0.426475  [51264/60000]\n",
      "loss: 0.398076  [57664/60000]\n",
      "Min loss: 0.063383\n",
      "Test Error: \n",
      " Accuracy: 85.9%, Avg loss: 0.391851\n",
      "Precision: 86.3%, Recall: 85.9% \n",
      "\n",
      "Epoch 9\n",
      "-------------------------------\n",
      "loss: 0.243061  [   64/60000]\n",
      "loss: 0.179951  [ 6464/60000]\n",
      "loss: 0.188265  [12864/60000]\n",
      "loss: 0.324076  [19264/60000]\n",
      "loss: 0.327380  [25664/60000]\n",
      "loss: 0.379719  [32064/60000]\n",
      "loss: 0.178147  [38464/60000]\n",
      "loss: 0.196298  [44864/60000]\n",
      "loss: 0.205049  [51264/60000]\n",
      "loss: 0.222854  [57664/60000]\n",
      "Min loss: 0.055568\n",
      "Test Error: \n",
      " Accuracy: 87.0%, Avg loss: 0.368222\n",
      "Precision: 87.2%, Recall: 87.0% \n",
      "\n",
      "Epoch 10\n",
      "-------------------------------\n",
      "loss: 0.170361  [   64/60000]\n",
      "loss: 0.205809  [ 6464/60000]\n",
      "loss: 0.141409  [12864/60000]\n",
      "loss: 0.271544  [19264/60000]\n",
      "loss: 0.277935  [25664/60000]\n",
      "loss: 0.298346  [32064/60000]\n",
      "loss: 0.394483  [38464/60000]\n",
      "loss: 0.235352  [44864/60000]\n",
      "loss: 0.256864  [51264/60000]\n",
      "loss: 0.327283  [57664/60000]\n",
      "Min loss: 0.050440\n",
      "Test Error: \n",
      " Accuracy: 86.6%, Avg loss: 0.372409\n",
      "Precision: 87.3%, Recall: 86.6% \n",
      "\n"
     ]
    }
   ],
   "execution_count": 399
  },
  {
   "metadata": {
    "ExecuteTime": {
     "end_time": "2024-09-24T13:26:08.013397Z",
     "start_time": "2024-09-24T13:25:32.616058Z"
    }
   },
   "cell_type": "code",
   "source": [
    "model = NeuralNetwork(softmax=True).to(device)\n",
    "optimizer = torch.optim.Adam(model.parameters(), lr=1e-3)\n",
    "loss_fn = nn.NLLLoss()\n",
    "name = 'Adam+NLLLoss'\n",
    "train_losses = []\n",
    "test_losses = []\n",
    "for t in range(epochs):\n",
    "    print(f\"Epoch {t+1}\\n-------------------------------\")\n",
    "    train_loss = train(train_dataloader, model, loss_fn, optimizer).detach().cpu().numpy()\n",
    "    test_loss = test(test_dataloader, model, loss_fn)\n",
    "    train_losses.append(train_loss)\n",
    "    test_losses.append(test_loss)\n",
    "train_results[name] = np.array(train_losses)\n",
    "test_results[name] = np.array(test_losses)"
   ],
   "id": "f65826591ee29ddd",
   "outputs": [
    {
     "name": "stdout",
     "output_type": "stream",
     "text": [
      "Epoch 1\n",
      "-------------------------------\n",
      "loss: 16.138924  [   64/60000]\n",
      "loss: 0.637618  [ 6464/60000]\n",
      "loss: 0.555513  [12864/60000]\n",
      "loss: 0.641381  [19264/60000]\n",
      "loss: 0.549155  [25664/60000]\n",
      "loss: 0.492912  [32064/60000]\n",
      "loss: 0.668580  [38464/60000]\n",
      "loss: 0.557396  [44864/60000]\n",
      "loss: 0.370909  [51264/60000]\n",
      "loss: 0.477795  [57664/60000]\n",
      "Min loss: 0.203695\n",
      "Test Error: \n",
      " Accuracy: 83.9%, Avg loss: 0.465006\n",
      "Precision: 84.1%, Recall: 83.9% \n",
      "\n",
      "Epoch 2\n",
      "-------------------------------\n",
      "loss: 0.317383  [   64/60000]\n",
      "loss: 0.527822  [ 6464/60000]\n",
      "loss: 0.641138  [12864/60000]\n",
      "loss: 0.386757  [19264/60000]\n",
      "loss: 0.568357  [25664/60000]\n",
      "loss: 0.258806  [32064/60000]\n",
      "loss: 0.527756  [38464/60000]\n",
      "loss: 0.360393  [44864/60000]\n",
      "loss: 0.275061  [51264/60000]\n",
      "loss: 0.400593  [57664/60000]\n",
      "Min loss: 0.118260\n",
      "Test Error: \n",
      " Accuracy: 84.5%, Avg loss: 0.439247\n",
      "Precision: 85.5%, Recall: 84.5% \n",
      "\n",
      "Epoch 3\n",
      "-------------------------------\n",
      "loss: 0.315685  [   64/60000]\n",
      "loss: 0.291220  [ 6464/60000]\n",
      "loss: 0.661065  [12864/60000]\n",
      "loss: 0.501434  [19264/60000]\n",
      "loss: 0.315763  [25664/60000]\n",
      "loss: 0.377091  [32064/60000]\n",
      "loss: 0.569053  [38464/60000]\n",
      "loss: 0.368131  [44864/60000]\n",
      "loss: 0.462649  [51264/60000]\n",
      "loss: 0.314716  [57664/60000]\n",
      "Min loss: 0.082710\n",
      "Test Error: \n",
      " Accuracy: 85.8%, Avg loss: 0.415374\n",
      "Precision: 85.9%, Recall: 85.8% \n",
      "\n",
      "Epoch 4\n",
      "-------------------------------\n",
      "loss: 0.398229  [   64/60000]\n",
      "loss: 0.199840  [ 6464/60000]\n",
      "loss: 0.543005  [12864/60000]\n",
      "loss: 0.303870  [19264/60000]\n",
      "loss: 0.316606  [25664/60000]\n",
      "loss: 0.409717  [32064/60000]\n",
      "loss: 0.331202  [38464/60000]\n",
      "loss: 0.229390  [44864/60000]\n",
      "loss: 0.371097  [51264/60000]\n",
      "loss: 0.375297  [57664/60000]\n",
      "Min loss: 0.096916\n",
      "Test Error: \n",
      " Accuracy: 85.5%, Avg loss: 0.417777\n",
      "Precision: 85.5%, Recall: 85.5% \n",
      "\n",
      "Epoch 5\n",
      "-------------------------------\n",
      "loss: 0.404439  [   64/60000]\n",
      "loss: 0.355454  [ 6464/60000]\n",
      "loss: 0.446587  [12864/60000]\n",
      "loss: 0.262613  [19264/60000]\n",
      "loss: 0.492584  [25664/60000]\n",
      "loss: 0.456862  [32064/60000]\n",
      "loss: 0.393136  [38464/60000]\n",
      "loss: 0.369864  [44864/60000]\n",
      "loss: 0.250483  [51264/60000]\n",
      "loss: 0.241752  [57664/60000]\n",
      "Min loss: 0.105443\n",
      "Test Error: \n",
      " Accuracy: 85.7%, Avg loss: 0.415372\n",
      "Precision: 86.0%, Recall: 85.7% \n",
      "\n",
      "Epoch 6\n",
      "-------------------------------\n",
      "loss: 0.330263  [   64/60000]\n",
      "loss: 0.325300  [ 6464/60000]\n",
      "loss: 0.405942  [12864/60000]\n",
      "loss: 0.432900  [19264/60000]\n",
      "loss: 0.369599  [25664/60000]\n",
      "loss: 0.487201  [32064/60000]\n",
      "loss: 0.409801  [38464/60000]\n",
      "loss: 0.439029  [44864/60000]\n",
      "loss: 0.301258  [51264/60000]\n",
      "loss: 0.205789  [57664/60000]\n",
      "Min loss: 0.098007\n",
      "Test Error: \n",
      " Accuracy: 85.0%, Avg loss: 0.479765\n",
      "Precision: 85.6%, Recall: 85.0% \n",
      "\n",
      "Epoch 7\n",
      "-------------------------------\n",
      "loss: 0.357702  [   64/60000]\n",
      "loss: 0.182572  [ 6464/60000]\n",
      "loss: 0.272350  [12864/60000]\n",
      "loss: 0.257958  [19264/60000]\n",
      "loss: 0.322727  [25664/60000]\n",
      "loss: 0.215337  [32064/60000]\n",
      "loss: 0.265546  [38464/60000]\n",
      "loss: 0.274133  [44864/60000]\n",
      "loss: 0.350787  [51264/60000]\n",
      "loss: 0.399826  [57664/60000]\n",
      "Min loss: 0.073349\n",
      "Test Error: \n",
      " Accuracy: 86.5%, Avg loss: 0.395753\n",
      "Precision: 86.8%, Recall: 86.5% \n",
      "\n",
      "Epoch 8\n",
      "-------------------------------\n",
      "loss: 0.154350  [   64/60000]\n",
      "loss: 0.298347  [ 6464/60000]\n",
      "loss: 0.390663  [12864/60000]\n",
      "loss: 0.219112  [19264/60000]\n",
      "loss: 0.404376  [25664/60000]\n",
      "loss: 0.343336  [32064/60000]\n",
      "loss: 0.311956  [38464/60000]\n",
      "loss: 0.285940  [44864/60000]\n",
      "loss: 0.119555  [51264/60000]\n",
      "loss: 0.262737  [57664/60000]\n",
      "Min loss: 0.087859\n",
      "Test Error: \n",
      " Accuracy: 85.1%, Avg loss: 0.423396\n",
      "Precision: 86.5%, Recall: 85.1% \n",
      "\n",
      "Epoch 9\n",
      "-------------------------------\n",
      "loss: 0.239672  [   64/60000]\n",
      "loss: 0.336170  [ 6464/60000]\n",
      "loss: 0.317343  [12864/60000]\n",
      "loss: 0.332543  [19264/60000]\n",
      "loss: 0.589136  [25664/60000]\n",
      "loss: 0.391504  [32064/60000]\n",
      "loss: 0.330467  [38464/60000]\n",
      "loss: 0.279109  [44864/60000]\n",
      "loss: 0.402403  [51264/60000]\n",
      "loss: 0.420850  [57664/60000]\n",
      "Min loss: 0.080719\n",
      "Test Error: \n",
      " Accuracy: 86.1%, Avg loss: 0.395392\n",
      "Precision: 86.6%, Recall: 86.1% \n",
      "\n",
      "Epoch 10\n",
      "-------------------------------\n",
      "loss: 0.242833  [   64/60000]\n",
      "loss: 0.375903  [ 6464/60000]\n",
      "loss: 0.139903  [12864/60000]\n",
      "loss: 0.552179  [19264/60000]\n",
      "loss: 0.362277  [25664/60000]\n",
      "loss: 0.360007  [32064/60000]\n",
      "loss: 0.439521  [38464/60000]\n",
      "loss: 0.306530  [44864/60000]\n",
      "loss: 0.300612  [51264/60000]\n",
      "loss: 0.183272  [57664/60000]\n",
      "Min loss: 0.094700\n",
      "Test Error: \n",
      " Accuracy: 87.0%, Avg loss: 0.383271\n",
      "Precision: 86.9%, Recall: 87.0% \n",
      "\n"
     ]
    }
   ],
   "execution_count": 398
  },
  {
   "metadata": {
    "ExecuteTime": {
     "end_time": "2024-09-24T13:28:08.606475Z",
     "start_time": "2024-09-24T13:27:27.868994Z"
    }
   },
   "cell_type": "code",
   "source": [
    "model = NeuralNetwork(softmax=True).to(device)\n",
    "optimizer = torch.optim.SGD(model.parameters(), lr=1e-3)\n",
    "loss_fn = nn.MultiMarginLoss()\n",
    "name = 'SGD+MultiMarginLoss'\n",
    "train_losses = []\n",
    "test_losses = []\n",
    "for t in range(epochs):\n",
    "    print(f\"Epoch {t+1}\\n-------------------------------\")\n",
    "    train_loss = train(train_dataloader, model, loss_fn, optimizer).detach().cpu().numpy()\n",
    "    test_loss = test(test_dataloader, model, loss_fn)\n",
    "    train_losses.append(train_loss)\n",
    "    test_losses.append(test_loss)\n",
    "train_results[name] = np.array(train_losses)\n",
    "test_results[name] = np.array(test_losses)"
   ],
   "id": "315f5f723b58e664",
   "outputs": [
    {
     "name": "stdout",
     "output_type": "stream",
     "text": [
      "Epoch 1\n",
      "-------------------------------\n",
      "loss: 5.824156  [   64/60000]\n",
      "loss: 0.299283  [ 6464/60000]\n",
      "loss: 0.202780  [12864/60000]\n",
      "loss: 0.121765  [19264/60000]\n",
      "loss: 0.062065  [25664/60000]\n",
      "loss: 0.086717  [32064/60000]\n",
      "loss: 0.075044  [38464/60000]\n",
      "loss: 0.177412  [44864/60000]\n",
      "loss: 0.153286  [51264/60000]\n",
      "loss: 0.097244  [57664/60000]\n",
      "Min loss: 0.029520\n",
      "Test Error: \n",
      " Accuracy: 80.2%, Avg loss: 0.116176\n",
      "Precision: 81.0%, Recall: 80.2% \n",
      "\n",
      "Epoch 2\n",
      "-------------------------------\n",
      "loss: 0.058295  [   64/60000]\n",
      "loss: 0.108708  [ 6464/60000]\n",
      "loss: 0.086846  [12864/60000]\n",
      "loss: 0.081402  [19264/60000]\n",
      "loss: 0.057830  [25664/60000]\n",
      "loss: 0.061612  [32064/60000]\n",
      "loss: 0.086830  [38464/60000]\n",
      "loss: 0.032865  [44864/60000]\n",
      "loss: 0.071191  [51264/60000]\n",
      "loss: 0.054643  [57664/60000]\n",
      "Min loss: 0.014754\n",
      "Test Error: \n",
      " Accuracy: 79.7%, Avg loss: 0.096682\n",
      "Precision: 82.2%, Recall: 79.7% \n",
      "\n",
      "Epoch 3\n",
      "-------------------------------\n",
      "loss: 0.045825  [   64/60000]\n",
      "loss: 0.032104  [ 6464/60000]\n",
      "loss: 0.088765  [12864/60000]\n",
      "loss: 0.059107  [19264/60000]\n",
      "loss: 0.073051  [25664/60000]\n",
      "loss: 0.047801  [32064/60000]\n",
      "loss: 0.090327  [38464/60000]\n",
      "loss: 0.031884  [44864/60000]\n",
      "loss: 0.054111  [51264/60000]\n",
      "loss: 0.045149  [57664/60000]\n",
      "Min loss: 0.005193\n",
      "Test Error: \n",
      " Accuracy: 80.5%, Avg loss: 0.091300\n",
      "Precision: 83.4%, Recall: 80.5% \n",
      "\n",
      "Epoch 4\n",
      "-------------------------------\n",
      "loss: 0.047943  [   64/60000]\n",
      "loss: 0.057535  [ 6464/60000]\n",
      "loss: 0.139144  [12864/60000]\n",
      "loss: 0.056140  [19264/60000]\n",
      "loss: 0.058694  [25664/60000]\n",
      "loss: 0.067572  [32064/60000]\n",
      "loss: 0.024407  [38464/60000]\n",
      "loss: 0.056544  [44864/60000]\n",
      "loss: 0.063653  [51264/60000]\n",
      "loss: 0.057190  [57664/60000]\n",
      "Min loss: 0.010426\n",
      "Test Error: \n",
      " Accuracy: 83.1%, Avg loss: 0.081154\n",
      "Precision: 83.6%, Recall: 83.1% \n",
      "\n",
      "Epoch 5\n",
      "-------------------------------\n",
      "loss: 0.059621  [   64/60000]\n",
      "loss: 0.039726  [ 6464/60000]\n",
      "loss: 0.033905  [12864/60000]\n",
      "loss: 0.081996  [19264/60000]\n",
      "loss: 0.018743  [25664/60000]\n",
      "loss: 0.051476  [32064/60000]\n",
      "loss: 0.064277  [38464/60000]\n",
      "loss: 0.067295  [44864/60000]\n",
      "loss: 0.066821  [51264/60000]\n",
      "loss: 0.072271  [57664/60000]\n",
      "Min loss: 0.011344\n",
      "Test Error: \n",
      " Accuracy: 83.6%, Avg loss: 0.072308\n",
      "Precision: 84.1%, Recall: 83.6% \n",
      "\n",
      "Epoch 6\n",
      "-------------------------------\n",
      "loss: 0.035638  [   64/60000]\n",
      "loss: 0.024705  [ 6464/60000]\n",
      "loss: 0.082371  [12864/60000]\n",
      "loss: 0.028692  [19264/60000]\n",
      "loss: 0.049559  [25664/60000]\n",
      "loss: 0.037268  [32064/60000]\n",
      "loss: 0.066091  [38464/60000]\n",
      "loss: 0.064599  [44864/60000]\n",
      "loss: 0.051447  [51264/60000]\n",
      "loss: 0.073440  [57664/60000]\n",
      "Min loss: 0.008195\n",
      "Test Error: \n",
      " Accuracy: 83.7%, Avg loss: 0.070518\n",
      "Precision: 84.3%, Recall: 83.7% \n",
      "\n",
      "Epoch 7\n",
      "-------------------------------\n",
      "loss: 0.078918  [   64/60000]\n",
      "loss: 0.063574  [ 6464/60000]\n",
      "loss: 0.029701  [12864/60000]\n",
      "loss: 0.037278  [19264/60000]\n",
      "loss: 0.057299  [25664/60000]\n",
      "loss: 0.038005  [32064/60000]\n",
      "loss: 0.049649  [38464/60000]\n",
      "loss: 0.044638  [44864/60000]\n",
      "loss: 0.026965  [51264/60000]\n",
      "loss: 0.064589  [57664/60000]\n",
      "Min loss: 0.009155\n",
      "Test Error: \n",
      " Accuracy: 83.5%, Avg loss: 0.073661\n",
      "Precision: 84.2%, Recall: 83.5% \n",
      "\n",
      "Epoch 8\n",
      "-------------------------------\n",
      "loss: 0.053738  [   64/60000]\n",
      "loss: 0.023596  [ 6464/60000]\n",
      "loss: 0.019696  [12864/60000]\n",
      "loss: 0.037573  [19264/60000]\n",
      "loss: 0.042165  [25664/60000]\n",
      "loss: 0.035638  [32064/60000]\n",
      "loss: 0.046841  [38464/60000]\n",
      "loss: 0.020980  [44864/60000]\n",
      "loss: 0.060595  [51264/60000]\n",
      "loss: 0.027407  [57664/60000]\n",
      "Min loss: 0.002604\n",
      "Test Error: \n",
      " Accuracy: 84.1%, Avg loss: 0.070075\n",
      "Precision: 84.5%, Recall: 84.1% \n",
      "\n",
      "Epoch 9\n",
      "-------------------------------\n",
      "loss: 0.035908  [   64/60000]\n",
      "loss: 0.030468  [ 6464/60000]\n",
      "loss: 0.036699  [12864/60000]\n",
      "loss: 0.075660  [19264/60000]\n",
      "loss: 0.053768  [25664/60000]\n",
      "loss: 0.068211  [32064/60000]\n",
      "loss: 0.045600  [38464/60000]\n",
      "loss: 0.026684  [44864/60000]\n",
      "loss: 0.035794  [51264/60000]\n",
      "loss: 0.068132  [57664/60000]\n",
      "Min loss: 0.005660\n",
      "Test Error: \n",
      " Accuracy: 83.2%, Avg loss: 0.073744\n",
      "Precision: 84.4%, Recall: 83.2% \n",
      "\n",
      "Epoch 10\n",
      "-------------------------------\n",
      "loss: 0.025000  [   64/60000]\n",
      "loss: 0.024347  [ 6464/60000]\n",
      "loss: 0.022505  [12864/60000]\n",
      "loss: 0.028938  [19264/60000]\n",
      "loss: 0.025957  [25664/60000]\n",
      "loss: 0.037095  [32064/60000]\n",
      "loss: 0.020822  [38464/60000]\n",
      "loss: 0.008198  [44864/60000]\n",
      "loss: 0.042182  [51264/60000]\n",
      "loss: 0.040883  [57664/60000]\n",
      "Min loss: 0.005746\n",
      "Test Error: \n",
      " Accuracy: 83.9%, Avg loss: 0.068679\n",
      "Precision: 84.8%, Recall: 83.9% \n",
      "\n"
     ]
    }
   ],
   "execution_count": 400
  },
  {
   "metadata": {
    "ExecuteTime": {
     "end_time": "2024-09-24T13:28:57.779758Z",
     "start_time": "2024-09-24T13:28:22.372129Z"
    }
   },
   "cell_type": "code",
   "source": [
    "model = NeuralNetwork(softmax=True).to(device)\n",
    "optimizer = torch.optim.Adam(model.parameters(), lr=1e-3)\n",
    "loss_fn = nn.MultiMarginLoss()\n",
    "name = 'Adam+MultiMarginLoss'\n",
    "train_losses = []\n",
    "test_losses = []\n",
    "for t in range(epochs):\n",
    "    print(f\"Epoch {t+1}\\n-------------------------------\")\n",
    "    train_loss = train(train_dataloader, model, loss_fn, optimizer).detach().cpu().numpy()\n",
    "    test_loss = test(test_dataloader, model, loss_fn)\n",
    "    train_losses.append(train_loss)\n",
    "    test_losses.append(test_loss)\n",
    "train_results[name] = np.array(train_losses)\n",
    "test_results[name] = np.array(test_losses)"
   ],
   "id": "41f8ad00736daa28",
   "outputs": [
    {
     "name": "stdout",
     "output_type": "stream",
     "text": [
      "Epoch 1\n",
      "-------------------------------\n",
      "loss: 7.654085  [   64/60000]\n",
      "loss: 0.057095  [ 6464/60000]\n",
      "loss: 0.049178  [12864/60000]\n",
      "loss: 0.114861  [19264/60000]\n",
      "loss: 0.051962  [25664/60000]\n",
      "loss: 0.150018  [32064/60000]\n",
      "loss: 0.060818  [38464/60000]\n",
      "loss: 0.064229  [44864/60000]\n",
      "loss: 0.080739  [51264/60000]\n",
      "loss: 0.093572  [57664/60000]\n",
      "Min loss: 0.018169\n",
      "Test Error: \n",
      " Accuracy: 81.9%, Avg loss: 0.077900\n",
      "Precision: 82.7%, Recall: 81.9% \n",
      "\n",
      "Epoch 2\n",
      "-------------------------------\n",
      "loss: 0.053174  [   64/60000]\n",
      "loss: 0.063786  [ 6464/60000]\n",
      "loss: 0.038583  [12864/60000]\n",
      "loss: 0.051317  [19264/60000]\n",
      "loss: 0.111685  [25664/60000]\n",
      "loss: 0.040704  [32064/60000]\n",
      "loss: 0.040022  [38464/60000]\n",
      "loss: 0.038553  [44864/60000]\n",
      "loss: 0.051578  [51264/60000]\n",
      "loss: 0.096645  [57664/60000]\n",
      "Min loss: 0.017964\n",
      "Test Error: \n",
      " Accuracy: 84.0%, Avg loss: 0.064642\n",
      "Precision: 84.2%, Recall: 84.0% \n",
      "\n",
      "Epoch 3\n",
      "-------------------------------\n",
      "loss: 0.083214  [   64/60000]\n",
      "loss: 0.056223  [ 6464/60000]\n",
      "loss: 0.044026  [12864/60000]\n",
      "loss: 0.041029  [19264/60000]\n",
      "loss: 0.059468  [25664/60000]\n",
      "loss: 0.034609  [32064/60000]\n",
      "loss: 0.042229  [38464/60000]\n",
      "loss: 0.045194  [44864/60000]\n",
      "loss: 0.037328  [51264/60000]\n",
      "loss: 0.043813  [57664/60000]\n",
      "Min loss: 0.014501\n",
      "Test Error: \n",
      " Accuracy: 84.8%, Avg loss: 0.060953\n",
      "Precision: 84.9%, Recall: 84.8% \n",
      "\n",
      "Epoch 4\n",
      "-------------------------------\n",
      "loss: 0.060445  [   64/60000]\n",
      "loss: 0.079699  [ 6464/60000]\n",
      "loss: 0.024756  [12864/60000]\n",
      "loss: 0.054655  [19264/60000]\n",
      "loss: 0.017889  [25664/60000]\n",
      "loss: 0.047835  [32064/60000]\n",
      "loss: 0.044612  [38464/60000]\n",
      "loss: 0.051353  [44864/60000]\n",
      "loss: 0.026486  [51264/60000]\n",
      "loss: 0.022988  [57664/60000]\n",
      "Min loss: 0.007781\n",
      "Test Error: \n",
      " Accuracy: 83.9%, Avg loss: 0.064957\n",
      "Precision: 85.2%, Recall: 83.9% \n",
      "\n",
      "Epoch 5\n",
      "-------------------------------\n",
      "loss: 0.045470  [   64/60000]\n",
      "loss: 0.019915  [ 6464/60000]\n",
      "loss: 0.066077  [12864/60000]\n",
      "loss: 0.035879  [19264/60000]\n",
      "loss: 0.019779  [25664/60000]\n",
      "loss: 0.031424  [32064/60000]\n",
      "loss: 0.041981  [38464/60000]\n",
      "loss: 0.034262  [44864/60000]\n",
      "loss: 0.101250  [51264/60000]\n",
      "loss: 0.039812  [57664/60000]\n",
      "Min loss: 0.007631\n",
      "Test Error: \n",
      " Accuracy: 85.7%, Avg loss: 0.059050\n",
      "Precision: 85.7%, Recall: 85.7% \n",
      "\n",
      "Epoch 6\n",
      "-------------------------------\n",
      "loss: 0.045931  [   64/60000]\n",
      "loss: 0.100700  [ 6464/60000]\n",
      "loss: 0.025355  [12864/60000]\n",
      "loss: 0.043110  [19264/60000]\n",
      "loss: 0.022571  [25664/60000]\n",
      "loss: 0.041934  [32064/60000]\n",
      "loss: 0.032867  [38464/60000]\n",
      "loss: 0.019431  [44864/60000]\n",
      "loss: 0.053895  [51264/60000]\n",
      "loss: 0.053671  [57664/60000]\n",
      "Min loss: 0.006739\n",
      "Test Error: \n",
      " Accuracy: 86.5%, Avg loss: 0.055808\n",
      "Precision: 86.7%, Recall: 86.5% \n",
      "\n",
      "Epoch 7\n",
      "-------------------------------\n",
      "loss: 0.044729  [   64/60000]\n",
      "loss: 0.051674  [ 6464/60000]\n",
      "loss: 0.064232  [12864/60000]\n",
      "loss: 0.075390  [19264/60000]\n",
      "loss: 0.062987  [25664/60000]\n",
      "loss: 0.044037  [32064/60000]\n",
      "loss: 0.058837  [38464/60000]\n",
      "loss: 0.047287  [44864/60000]\n",
      "loss: 0.056633  [51264/60000]\n",
      "loss: 0.057438  [57664/60000]\n",
      "Min loss: 0.010661\n",
      "Test Error: \n",
      " Accuracy: 86.6%, Avg loss: 0.054268\n",
      "Precision: 86.5%, Recall: 86.6% \n",
      "\n",
      "Epoch 8\n",
      "-------------------------------\n",
      "loss: 0.043055  [   64/60000]\n",
      "loss: 0.051510  [ 6464/60000]\n",
      "loss: 0.046886  [12864/60000]\n",
      "loss: 0.024599  [19264/60000]\n",
      "loss: 0.050289  [25664/60000]\n",
      "loss: 0.052771  [32064/60000]\n",
      "loss: 0.025237  [38464/60000]\n",
      "loss: 0.056588  [44864/60000]\n",
      "loss: 0.042261  [51264/60000]\n",
      "loss: 0.069734  [57664/60000]\n",
      "Min loss: 0.007862\n",
      "Test Error: \n",
      " Accuracy: 85.9%, Avg loss: 0.055732\n",
      "Precision: 86.0%, Recall: 85.9% \n",
      "\n",
      "Epoch 9\n",
      "-------------------------------\n",
      "loss: 0.074557  [   64/60000]\n",
      "loss: 0.080884  [ 6464/60000]\n",
      "loss: 0.038602  [12864/60000]\n",
      "loss: 0.065499  [19264/60000]\n",
      "loss: 0.030845  [25664/60000]\n",
      "loss: 0.036584  [32064/60000]\n",
      "loss: 0.046964  [38464/60000]\n",
      "loss: 0.038976  [44864/60000]\n",
      "loss: 0.042484  [51264/60000]\n",
      "loss: 0.046488  [57664/60000]\n",
      "Min loss: 0.009032\n",
      "Test Error: \n",
      " Accuracy: 84.3%, Avg loss: 0.070108\n",
      "Precision: 85.1%, Recall: 84.3% \n",
      "\n",
      "Epoch 10\n",
      "-------------------------------\n",
      "loss: 0.081614  [   64/60000]\n",
      "loss: 0.030355  [ 6464/60000]\n",
      "loss: 0.047061  [12864/60000]\n",
      "loss: 0.027654  [19264/60000]\n",
      "loss: 0.016317  [25664/60000]\n",
      "loss: 0.036763  [32064/60000]\n",
      "loss: 0.020299  [38464/60000]\n",
      "loss: 0.020236  [44864/60000]\n",
      "loss: 0.035388  [51264/60000]\n",
      "loss: 0.046178  [57664/60000]\n",
      "Min loss: 0.008148\n",
      "Test Error: \n",
      " Accuracy: 86.3%, Avg loss: 0.058226\n",
      "Precision: 86.6%, Recall: 86.3% \n",
      "\n"
     ]
    }
   ],
   "execution_count": 401
  },
  {
   "metadata": {
    "ExecuteTime": {
     "end_time": "2024-09-24T13:28:57.820191Z",
     "start_time": "2024-09-24T13:28:57.803773Z"
    }
   },
   "cell_type": "code",
   "source": "train_results",
   "id": "e7da7755fabe21bb",
   "outputs": [
    {
     "data": {
      "text/plain": [
       "   SGD+CrossEntropy  Adam+CrossEntropy  SGD+NLLLoss  Adam+NLLLoss  \\\n",
       "0          0.106815           0.179668     0.160444      0.203695   \n",
       "1          0.096371           0.154786     0.158420      0.118260   \n",
       "2          0.124248           0.147303     0.116943      0.082710   \n",
       "3          0.086460           0.128343     0.100358      0.096916   \n",
       "4          0.084554           0.095181     0.086828      0.105443   \n",
       "5          0.084280           0.091412     0.083556      0.098007   \n",
       "6          0.077032           0.095353     0.078658      0.073349   \n",
       "7          0.087399           0.113446     0.063383      0.087859   \n",
       "8          0.040645           0.083738     0.055568      0.080719   \n",
       "9          0.063494           0.083616     0.050440      0.094700   \n",
       "\n",
       "   SGD+MultiMarginLoss  Adam+MultiMarginLoss  \n",
       "0             0.029520              0.018169  \n",
       "1             0.014754              0.017964  \n",
       "2             0.005193              0.014501  \n",
       "3             0.010426              0.007781  \n",
       "4             0.011344              0.007631  \n",
       "5             0.008195              0.006739  \n",
       "6             0.009155              0.010661  \n",
       "7             0.002604              0.007862  \n",
       "8             0.005660              0.009032  \n",
       "9             0.005746              0.008148  "
      ],
      "text/html": [
       "<div>\n",
       "<style scoped>\n",
       "    .dataframe tbody tr th:only-of-type {\n",
       "        vertical-align: middle;\n",
       "    }\n",
       "\n",
       "    .dataframe tbody tr th {\n",
       "        vertical-align: top;\n",
       "    }\n",
       "\n",
       "    .dataframe thead th {\n",
       "        text-align: right;\n",
       "    }\n",
       "</style>\n",
       "<table border=\"1\" class=\"dataframe\">\n",
       "  <thead>\n",
       "    <tr style=\"text-align: right;\">\n",
       "      <th></th>\n",
       "      <th>SGD+CrossEntropy</th>\n",
       "      <th>Adam+CrossEntropy</th>\n",
       "      <th>SGD+NLLLoss</th>\n",
       "      <th>Adam+NLLLoss</th>\n",
       "      <th>SGD+MultiMarginLoss</th>\n",
       "      <th>Adam+MultiMarginLoss</th>\n",
       "    </tr>\n",
       "  </thead>\n",
       "  <tbody>\n",
       "    <tr>\n",
       "      <th>0</th>\n",
       "      <td>0.106815</td>\n",
       "      <td>0.179668</td>\n",
       "      <td>0.160444</td>\n",
       "      <td>0.203695</td>\n",
       "      <td>0.029520</td>\n",
       "      <td>0.018169</td>\n",
       "    </tr>\n",
       "    <tr>\n",
       "      <th>1</th>\n",
       "      <td>0.096371</td>\n",
       "      <td>0.154786</td>\n",
       "      <td>0.158420</td>\n",
       "      <td>0.118260</td>\n",
       "      <td>0.014754</td>\n",
       "      <td>0.017964</td>\n",
       "    </tr>\n",
       "    <tr>\n",
       "      <th>2</th>\n",
       "      <td>0.124248</td>\n",
       "      <td>0.147303</td>\n",
       "      <td>0.116943</td>\n",
       "      <td>0.082710</td>\n",
       "      <td>0.005193</td>\n",
       "      <td>0.014501</td>\n",
       "    </tr>\n",
       "    <tr>\n",
       "      <th>3</th>\n",
       "      <td>0.086460</td>\n",
       "      <td>0.128343</td>\n",
       "      <td>0.100358</td>\n",
       "      <td>0.096916</td>\n",
       "      <td>0.010426</td>\n",
       "      <td>0.007781</td>\n",
       "    </tr>\n",
       "    <tr>\n",
       "      <th>4</th>\n",
       "      <td>0.084554</td>\n",
       "      <td>0.095181</td>\n",
       "      <td>0.086828</td>\n",
       "      <td>0.105443</td>\n",
       "      <td>0.011344</td>\n",
       "      <td>0.007631</td>\n",
       "    </tr>\n",
       "    <tr>\n",
       "      <th>5</th>\n",
       "      <td>0.084280</td>\n",
       "      <td>0.091412</td>\n",
       "      <td>0.083556</td>\n",
       "      <td>0.098007</td>\n",
       "      <td>0.008195</td>\n",
       "      <td>0.006739</td>\n",
       "    </tr>\n",
       "    <tr>\n",
       "      <th>6</th>\n",
       "      <td>0.077032</td>\n",
       "      <td>0.095353</td>\n",
       "      <td>0.078658</td>\n",
       "      <td>0.073349</td>\n",
       "      <td>0.009155</td>\n",
       "      <td>0.010661</td>\n",
       "    </tr>\n",
       "    <tr>\n",
       "      <th>7</th>\n",
       "      <td>0.087399</td>\n",
       "      <td>0.113446</td>\n",
       "      <td>0.063383</td>\n",
       "      <td>0.087859</td>\n",
       "      <td>0.002604</td>\n",
       "      <td>0.007862</td>\n",
       "    </tr>\n",
       "    <tr>\n",
       "      <th>8</th>\n",
       "      <td>0.040645</td>\n",
       "      <td>0.083738</td>\n",
       "      <td>0.055568</td>\n",
       "      <td>0.080719</td>\n",
       "      <td>0.005660</td>\n",
       "      <td>0.009032</td>\n",
       "    </tr>\n",
       "    <tr>\n",
       "      <th>9</th>\n",
       "      <td>0.063494</td>\n",
       "      <td>0.083616</td>\n",
       "      <td>0.050440</td>\n",
       "      <td>0.094700</td>\n",
       "      <td>0.005746</td>\n",
       "      <td>0.008148</td>\n",
       "    </tr>\n",
       "  </tbody>\n",
       "</table>\n",
       "</div>"
      ]
     },
     "execution_count": 402,
     "metadata": {},
     "output_type": "execute_result"
    }
   ],
   "execution_count": 402
  },
  {
   "metadata": {
    "ExecuteTime": {
     "end_time": "2024-09-24T13:29:05.723513Z",
     "start_time": "2024-09-24T13:29:05.711817Z"
    }
   },
   "cell_type": "code",
   "source": "test_results",
   "id": "192a8f2dd574d1c9",
   "outputs": [
    {
     "data": {
      "text/plain": [
       "   SGD+CrossEntropy  Adam+CrossEntropy  SGD+NLLLoss  Adam+NLLLoss  \\\n",
       "0          0.454578           0.453582     0.709204      0.465006   \n",
       "1          0.470453           0.445878     0.423971      0.439247   \n",
       "2          0.413790           0.414045     0.428932      0.415374   \n",
       "3          0.402523           0.403249     0.424342      0.417777   \n",
       "4          0.390009           0.452154     0.389677      0.415372   \n",
       "5          0.391556           0.403050     0.393274      0.479765   \n",
       "6          0.383219           0.419023     0.370098      0.395753   \n",
       "7          0.385529           0.394099     0.391851      0.423396   \n",
       "8          0.362244           0.444948     0.368222      0.395392   \n",
       "9          0.389556           0.381485     0.372409      0.383271   \n",
       "\n",
       "   SGD+MultiMarginLoss  Adam+MultiMarginLoss  \n",
       "0             0.116176              0.077900  \n",
       "1             0.096682              0.064642  \n",
       "2             0.091300              0.060953  \n",
       "3             0.081154              0.064957  \n",
       "4             0.072308              0.059050  \n",
       "5             0.070518              0.055808  \n",
       "6             0.073661              0.054268  \n",
       "7             0.070075              0.055732  \n",
       "8             0.073744              0.070108  \n",
       "9             0.068679              0.058226  "
      ],
      "text/html": [
       "<div>\n",
       "<style scoped>\n",
       "    .dataframe tbody tr th:only-of-type {\n",
       "        vertical-align: middle;\n",
       "    }\n",
       "\n",
       "    .dataframe tbody tr th {\n",
       "        vertical-align: top;\n",
       "    }\n",
       "\n",
       "    .dataframe thead th {\n",
       "        text-align: right;\n",
       "    }\n",
       "</style>\n",
       "<table border=\"1\" class=\"dataframe\">\n",
       "  <thead>\n",
       "    <tr style=\"text-align: right;\">\n",
       "      <th></th>\n",
       "      <th>SGD+CrossEntropy</th>\n",
       "      <th>Adam+CrossEntropy</th>\n",
       "      <th>SGD+NLLLoss</th>\n",
       "      <th>Adam+NLLLoss</th>\n",
       "      <th>SGD+MultiMarginLoss</th>\n",
       "      <th>Adam+MultiMarginLoss</th>\n",
       "    </tr>\n",
       "  </thead>\n",
       "  <tbody>\n",
       "    <tr>\n",
       "      <th>0</th>\n",
       "      <td>0.454578</td>\n",
       "      <td>0.453582</td>\n",
       "      <td>0.709204</td>\n",
       "      <td>0.465006</td>\n",
       "      <td>0.116176</td>\n",
       "      <td>0.077900</td>\n",
       "    </tr>\n",
       "    <tr>\n",
       "      <th>1</th>\n",
       "      <td>0.470453</td>\n",
       "      <td>0.445878</td>\n",
       "      <td>0.423971</td>\n",
       "      <td>0.439247</td>\n",
       "      <td>0.096682</td>\n",
       "      <td>0.064642</td>\n",
       "    </tr>\n",
       "    <tr>\n",
       "      <th>2</th>\n",
       "      <td>0.413790</td>\n",
       "      <td>0.414045</td>\n",
       "      <td>0.428932</td>\n",
       "      <td>0.415374</td>\n",
       "      <td>0.091300</td>\n",
       "      <td>0.060953</td>\n",
       "    </tr>\n",
       "    <tr>\n",
       "      <th>3</th>\n",
       "      <td>0.402523</td>\n",
       "      <td>0.403249</td>\n",
       "      <td>0.424342</td>\n",
       "      <td>0.417777</td>\n",
       "      <td>0.081154</td>\n",
       "      <td>0.064957</td>\n",
       "    </tr>\n",
       "    <tr>\n",
       "      <th>4</th>\n",
       "      <td>0.390009</td>\n",
       "      <td>0.452154</td>\n",
       "      <td>0.389677</td>\n",
       "      <td>0.415372</td>\n",
       "      <td>0.072308</td>\n",
       "      <td>0.059050</td>\n",
       "    </tr>\n",
       "    <tr>\n",
       "      <th>5</th>\n",
       "      <td>0.391556</td>\n",
       "      <td>0.403050</td>\n",
       "      <td>0.393274</td>\n",
       "      <td>0.479765</td>\n",
       "      <td>0.070518</td>\n",
       "      <td>0.055808</td>\n",
       "    </tr>\n",
       "    <tr>\n",
       "      <th>6</th>\n",
       "      <td>0.383219</td>\n",
       "      <td>0.419023</td>\n",
       "      <td>0.370098</td>\n",
       "      <td>0.395753</td>\n",
       "      <td>0.073661</td>\n",
       "      <td>0.054268</td>\n",
       "    </tr>\n",
       "    <tr>\n",
       "      <th>7</th>\n",
       "      <td>0.385529</td>\n",
       "      <td>0.394099</td>\n",
       "      <td>0.391851</td>\n",
       "      <td>0.423396</td>\n",
       "      <td>0.070075</td>\n",
       "      <td>0.055732</td>\n",
       "    </tr>\n",
       "    <tr>\n",
       "      <th>8</th>\n",
       "      <td>0.362244</td>\n",
       "      <td>0.444948</td>\n",
       "      <td>0.368222</td>\n",
       "      <td>0.395392</td>\n",
       "      <td>0.073744</td>\n",
       "      <td>0.070108</td>\n",
       "    </tr>\n",
       "    <tr>\n",
       "      <th>9</th>\n",
       "      <td>0.389556</td>\n",
       "      <td>0.381485</td>\n",
       "      <td>0.372409</td>\n",
       "      <td>0.383271</td>\n",
       "      <td>0.068679</td>\n",
       "      <td>0.058226</td>\n",
       "    </tr>\n",
       "  </tbody>\n",
       "</table>\n",
       "</div>"
      ]
     },
     "execution_count": 403,
     "metadata": {},
     "output_type": "execute_result"
    }
   ],
   "execution_count": 403
  },
  {
   "metadata": {
    "ExecuteTime": {
     "end_time": "2024-09-24T13:33:19.030729Z",
     "start_time": "2024-09-24T13:33:18.538165Z"
    }
   },
   "cell_type": "code",
   "source": [
    "fix, axes = plt.subplots(1, 2, figsize=(15, 5))\n",
    "axes[0].plot(train_results)\n",
    "axes[0].legend(train_results)\n",
    "axes[0].set_title('Train Results')\n",
    "axes[1].plot(test_results)\n",
    "axes[1].legend(test_results)\n",
    "axes[1].set_title('Test Results')"
   ],
   "id": "a61d634bb45b4daf",
   "outputs": [
    {
     "data": {
      "text/plain": [
       "Text(0.5, 1.0, 'Test Results')"
      ]
     },
     "execution_count": 411,
     "metadata": {},
     "output_type": "execute_result"
    },
    {
     "data": {
      "text/plain": [
       "<Figure size 1500x500 with 2 Axes>"
      ],
      "image/png": "[encoded data removed]"
     },
     "metadata": {},
     "output_type": "display_data"
    }
   ],
   "execution_count": 411
  },
  {
   "metadata": {},
   "cell_type": "markdown",
   "source": [
    "Задание: Перепишите датасет FashionMNISTDataset так, чтобы он возвращал вектор вместо матрицы и мою модель без слоя MyFlatten(). Запустите обучение заново. Какая точность получилась теперь?\n",
    "\n",
    "Задание: придумайте свою собственную модель, на следующем занятии сравнимся, у кого получилось достичь наилучших результатов. Для этого мне нужно будет получить как вашу версию этого ноутбука, так и веса модели."
   ],
   "id": "ed7a48e63af42ed4"
  },
  {
   "metadata": {
    "ExecuteTime": {
     "end_time": "2024-09-24T13:51:49.171967Z",
     "start_time": "2024-09-24T13:51:49.108697Z"
    }
   },
   "cell_type": "code",
   "source": [
    "class FashionMNISTDataset2(Dataset):\n",
    "    def __init__(self, file_dir, train=True, transform=None, target_transform=None):\n",
    "        self.transform = transform\n",
    "        self.target_transform = target_transform\n",
    "        self.train = train\n",
    "        image_file = f\"{'train' if self.train else 't10k'}-images-idx3-ubyte\"\n",
    "        self.data = read_image_file(os.path.join(file_dir, image_file))\n",
    "\n",
    "        label_file = f\"{'train' if self.train else 't10k'}-labels-idx1-ubyte\"\n",
    "        self.targets = read_label_file(os.path.join(file_dir, label_file))\n",
    "\n",
    "    def __len__(self):\n",
    "        return len(self.data)\n",
    "\n",
    "    def __getitem__(self, idx):\n",
    "        image = self.data[idx]\n",
    "        label = self.targets[idx]\n",
    "        \n",
    "        image_vector = image.view(-1)\n",
    "        \n",
    "        if self.transform:\n",
    "            image_vector = self.transform(image_vector)\n",
    "        if self.target_transform:\n",
    "            label = self.target_transform(label)\n",
    "        return image_vector, label\n",
    "    \n",
    "train_data2 =  FashionMNISTDataset2(file_dir=\"data/FashionMNIST/raw\", train=True)\n",
    "test_data2 = FashionMNISTDataset2(file_dir=\"data/FashionMNIST/raw\", train=False)    \n",
    "train_dataloader2 = DataLoader(train_data2, batch_size=64, shuffle=True)\n",
    "test_dataloader2 = DataLoader(test_data2, batch_size=64, shuffle=True)\n",
    "\n",
    "\n",
    "class NeuralNetwork2(nn.Module):\n",
    "    def __init__(self, softmax=False):\n",
    "        super().__init__()\n",
    "        self.softmax = softmax\n",
    "        self.fc = nn.Sequential(\n",
    "            nn.Linear(28*28, 512),\n",
    "            nn.ReLU(),\n",
    "            nn.Linear(512, 512),\n",
    "            nn.ReLU(),\n",
    "            nn.Linear(512, 10)\n",
    "        )\n",
    "\n",
    "    def forward(self, x):\n",
    "        logits = self.fc(x)\n",
    "        if self.softmax:\n",
    "            return torch.log_softmax(logits, dim=1)\n",
    "        else:\n",
    "            return logits"
   ],
   "id": "6224386896ecba4a",
   "outputs": [],
   "execution_count": 415
  },
  {
   "metadata": {
    "ExecuteTime": {
     "end_time": "2024-09-24T13:52:51.544833Z",
     "start_time": "2024-09-24T13:51:57.049339Z"
    }
   },
   "cell_type": "code",
   "source": [
    "model = NeuralNetwork2().to(device)\n",
    "optimizer = torch.optim.SGD(model.parameters(), lr=1e-3)\n",
    "loss_fn = nn.CrossEntropyLoss()\n",
    "name = 'SGD+CrossEntropy'\n",
    "train_losses = []\n",
    "test_losses = []\n",
    "for t in range(epochs):\n",
    "    print(f\"Epoch {t+1}\\n-------------------------------\")\n",
    "    train_loss = train(train_dataloader2, model, loss_fn, optimizer).detach().cpu().numpy()\n",
    "    test_loss = test(test_dataloader2, model, loss_fn)\n",
    "    train_losses.append(train_loss)\n",
    "    test_losses.append(test_loss)\n",
    "train_results[name] = np.array(train_losses)\n",
    "test_results[name] = np.array(test_losses)"
   ],
   "id": "eb1c505c4c873db6",
   "outputs": [
    {
     "name": "stdout",
     "output_type": "stream",
     "text": [
      "Epoch 1\n",
      "-------------------------------\n",
      "loss: 24.829144  [   64/60000]\n",
      "loss: 1.472943  [ 6464/60000]\n",
      "loss: 0.465198  [12864/60000]\n",
      "loss: 0.730008  [19264/60000]\n",
      "loss: 0.490166  [25664/60000]\n",
      "loss: 0.947462  [32064/60000]\n",
      "loss: 0.206751  [38464/60000]\n",
      "loss: 0.362438  [44864/60000]\n",
      "loss: 0.666651  [51264/60000]\n",
      "loss: 0.435917  [57664/60000]\n",
      "Min loss: 0.180600\n",
      "Test Error: \n",
      " Accuracy: 82.7%, Avg loss: 0.492681\n",
      "Precision: 83.6%, Recall: 82.7% \n",
      "\n",
      "Epoch 2\n",
      "-------------------------------\n",
      "loss: 0.468820  [   64/60000]\n",
      "loss: 0.282121  [ 6464/60000]\n",
      "loss: 0.384753  [12864/60000]\n",
      "loss: 0.300692  [19264/60000]\n",
      "loss: 0.298911  [25664/60000]\n",
      "loss: 0.340498  [32064/60000]\n",
      "loss: 0.311420  [38464/60000]\n",
      "loss: 0.292753  [44864/60000]\n",
      "loss: 0.189467  [51264/60000]\n",
      "loss: 0.415647  [57664/60000]\n",
      "Min loss: 0.144951\n",
      "Test Error: \n",
      " Accuracy: 84.3%, Avg loss: 0.443821\n",
      "Precision: 84.8%, Recall: 84.3% \n",
      "\n",
      "Epoch 3\n",
      "-------------------------------\n",
      "loss: 0.254686  [   64/60000]\n",
      "loss: 0.388494  [ 6464/60000]\n",
      "loss: 0.445359  [12864/60000]\n",
      "loss: 0.424483  [19264/60000]\n",
      "loss: 0.259378  [25664/60000]\n",
      "loss: 0.179355  [32064/60000]\n",
      "loss: 0.310958  [38464/60000]\n",
      "loss: 0.340481  [44864/60000]\n",
      "loss: 0.328164  [51264/60000]\n",
      "loss: 0.348810  [57664/60000]\n",
      "Min loss: 0.134173\n",
      "Test Error: \n",
      " Accuracy: 85.1%, Avg loss: 0.412960\n",
      "Precision: 85.7%, Recall: 85.1% \n",
      "\n",
      "Epoch 4\n",
      "-------------------------------\n",
      "loss: 0.508912  [   64/60000]\n",
      "loss: 0.220629  [ 6464/60000]\n",
      "loss: 0.399745  [12864/60000]\n",
      "loss: 0.451579  [19264/60000]\n",
      "loss: 0.498417  [25664/60000]\n",
      "loss: 0.373251  [32064/60000]\n",
      "loss: 0.446199  [38464/60000]\n",
      "loss: 0.452835  [44864/60000]\n",
      "loss: 0.163442  [51264/60000]\n",
      "loss: 0.272106  [57664/60000]\n",
      "Min loss: 0.086861\n",
      "Test Error: \n",
      " Accuracy: 86.1%, Avg loss: 0.383386\n",
      "Precision: 86.3%, Recall: 86.1% \n",
      "\n",
      "Epoch 5\n",
      "-------------------------------\n",
      "loss: 0.355736  [   64/60000]\n",
      "loss: 0.298233  [ 6464/60000]\n",
      "loss: 0.462412  [12864/60000]\n",
      "loss: 0.393285  [19264/60000]\n",
      "loss: 0.465700  [25664/60000]\n",
      "loss: 0.258136  [32064/60000]\n",
      "loss: 0.347190  [38464/60000]\n",
      "loss: 0.374505  [44864/60000]\n",
      "loss: 0.214804  [51264/60000]\n",
      "loss: 0.265785  [57664/60000]\n",
      "Min loss: 0.096562\n",
      "Test Error: \n",
      " Accuracy: 85.9%, Avg loss: 0.395721\n",
      "Precision: 86.4%, Recall: 85.9% \n",
      "\n",
      "Epoch 6\n",
      "-------------------------------\n",
      "loss: 0.230958  [   64/60000]\n",
      "loss: 0.197659  [ 6464/60000]\n",
      "loss: 0.302289  [12864/60000]\n",
      "loss: 0.301714  [19264/60000]\n",
      "loss: 0.242725  [25664/60000]\n",
      "loss: 0.328070  [32064/60000]\n",
      "loss: 0.212699  [38464/60000]\n",
      "loss: 0.243226  [44864/60000]\n",
      "loss: 0.289222  [51264/60000]\n",
      "loss: 0.230795  [57664/60000]\n",
      "Min loss: 0.081033\n",
      "Test Error: \n",
      " Accuracy: 86.0%, Avg loss: 0.387030\n",
      "Precision: 86.3%, Recall: 86.0% \n",
      "\n",
      "Epoch 7\n",
      "-------------------------------\n",
      "loss: 0.200611  [   64/60000]\n",
      "loss: 0.186018  [ 6464/60000]\n",
      "loss: 0.303668  [12864/60000]\n",
      "loss: 0.428120  [19264/60000]\n",
      "loss: 0.290229  [25664/60000]\n",
      "loss: 0.170069  [32064/60000]\n",
      "loss: 0.285549  [38464/60000]\n",
      "loss: 0.321173  [44864/60000]\n",
      "loss: 0.221491  [51264/60000]\n",
      "loss: 0.269370  [57664/60000]\n",
      "Min loss: 0.069378\n",
      "Test Error: \n",
      " Accuracy: 85.6%, Avg loss: 0.408254\n",
      "Precision: 86.4%, Recall: 85.6% \n",
      "\n",
      "Epoch 8\n",
      "-------------------------------\n",
      "loss: 0.311362  [   64/60000]\n",
      "loss: 0.176135  [ 6464/60000]\n",
      "loss: 0.161829  [12864/60000]\n",
      "loss: 0.193766  [19264/60000]\n",
      "loss: 0.196713  [25664/60000]\n",
      "loss: 0.327392  [32064/60000]\n",
      "loss: 0.240144  [38464/60000]\n",
      "loss: 0.111990  [44864/60000]\n",
      "loss: 0.284717  [51264/60000]\n",
      "loss: 0.108470  [57664/60000]\n",
      "Min loss: 0.090363\n",
      "Test Error: \n",
      " Accuracy: 86.3%, Avg loss: 0.372544\n",
      "Precision: 86.9%, Recall: 86.3% \n",
      "\n",
      "Epoch 9\n",
      "-------------------------------\n",
      "loss: 0.159443  [   64/60000]\n",
      "loss: 0.326504  [ 6464/60000]\n",
      "loss: 0.190888  [12864/60000]\n",
      "loss: 0.292008  [19264/60000]\n",
      "loss: 0.217144  [25664/60000]\n",
      "loss: 0.296845  [32064/60000]\n",
      "loss: 0.102648  [38464/60000]\n",
      "loss: 0.131302  [44864/60000]\n",
      "loss: 0.276918  [51264/60000]\n",
      "loss: 0.196387  [57664/60000]\n",
      "Min loss: 0.058242\n",
      "Test Error: \n",
      " Accuracy: 86.8%, Avg loss: 0.363491\n",
      "Precision: 86.9%, Recall: 86.8% \n",
      "\n",
      "Epoch 10\n",
      "-------------------------------\n",
      "loss: 0.265327  [   64/60000]\n",
      "loss: 0.049772  [ 6464/60000]\n",
      "loss: 0.232414  [12864/60000]\n",
      "loss: 0.410788  [19264/60000]\n",
      "loss: 0.210917  [25664/60000]\n",
      "loss: 0.216770  [32064/60000]\n",
      "loss: 0.193619  [38464/60000]\n",
      "loss: 0.180053  [44864/60000]\n",
      "loss: 0.275899  [51264/60000]\n",
      "loss: 0.256125  [57664/60000]\n",
      "Min loss: 0.049772\n",
      "Test Error: \n",
      " Accuracy: 87.2%, Avg loss: 0.367623\n",
      "Precision: 87.4%, Recall: 87.2% \n",
      "\n"
     ]
    }
   ],
   "execution_count": 416
  },
  {
   "metadata": {},
   "cell_type": "markdown",
   "source": "Точность не изменилась",
   "id": "5e86a326bf92f8ea"
  },
  {
   "metadata": {
    "ExecuteTime": {
     "end_time": "2024-09-24T14:48:41.432123Z",
     "start_time": "2024-09-24T14:48:41.421880Z"
    }
   },
   "cell_type": "code",
   "source": [
    "class my_model(nn.Module):\n",
    "    def __init__(self):\n",
    "        super(my_model, self).__init__()\n",
    "        self.conv1 = nn.Conv2d(1, 32, kernel_size=3, padding=1)\n",
    "        self.relu1 = nn.ReLU()\n",
    "        self.pool1 = nn.MaxPool2d(kernel_size=2, stride=2)\n",
    "\n",
    "        self.conv2 = nn.Conv2d(32, 64, kernel_size=3, padding=1)\n",
    "        self.relu2 = nn.ReLU()\n",
    "        self.pool2 = nn.MaxPool2d(kernel_size=2, stride=2)\n",
    "        \n",
    "        self.flatten = nn.Flatten()\n",
    "        \n",
    "        self.fc1 = nn.Linear(64 * 7 * 7, 128)\n",
    "        self.relu3 = nn.ReLU()\n",
    "        \n",
    "        self.fc2 = nn.Linear(128, 10)\n",
    "\n",
    "    def forward(self, x):\n",
    "        x.unsqueeze_(1)\n",
    "        x = self.conv1(x)\n",
    "        x = self.relu1(x)\n",
    "        x = self.pool1(x)\n",
    "\n",
    "        x = self.conv2(x)\n",
    "        x = self.relu2(x)\n",
    "        x = self.pool2(x)\n",
    "\n",
    "        x = self.flatten(x)\n",
    "        x = self.fc1(x)\n",
    "        x = self.relu3(x)\n",
    "\n",
    "        x = self.fc2(x)\n",
    "        return x"
   ],
   "id": "b65a68012dc1d36f",
   "outputs": [],
   "execution_count": 486
  },
  {
   "metadata": {
    "ExecuteTime": {
     "end_time": "2024-09-24T14:48:42.157151Z",
     "start_time": "2024-09-24T14:48:42.140276Z"
    }
   },
   "cell_type": "code",
   "source": [
    "model = my_model().to(device)\n",
    "optimizer = torch.optim.Adam(model.parameters(), lr=1e-3)\n",
    "loss_fn = nn.CrossEntropyLoss()"
   ],
   "id": "b72177420920ad8b",
   "outputs": [],
   "execution_count": 487
  },
  {
   "metadata": {
    "ExecuteTime": {
     "end_time": "2024-09-24T15:18:55.088345Z",
     "start_time": "2024-09-24T15:18:10.738133Z"
    }
   },
   "cell_type": "code",
   "source": [
    "name = 'My_model'\n",
    "train_losses = []\n",
    "test_losses = []\n",
    "for t in range(10):\n",
    "    print(f\"Epoch {t+1}\\n-------------------------------\")\n",
    "    train_loss = train(train_dataloader, model, loss_fn, optimizer).detach().cpu().numpy()\n",
    "    test_loss = test(test_dataloader, model, loss_fn)\n",
    "    train_losses.append(train_loss)\n",
    "    test_losses.append(test_loss)\n",
    "train_results[name] = np.array(train_losses)\n",
    "test_results[name] = np.array(test_losses)"
   ],
   "id": "fd2d09e63a816536",
   "outputs": [
    {
     "name": "stdout",
     "output_type": "stream",
     "text": [
      "Epoch 1\n",
      "-------------------------------\n",
      "loss: 0.000235  [   64/60000]\n",
      "loss: 0.001822  [ 6464/60000]\n",
      "loss: 0.055030  [12864/60000]\n",
      "loss: 0.092251  [19264/60000]\n",
      "loss: 0.000754  [25664/60000]\n",
      "loss: 0.008532  [32064/60000]\n",
      "loss: 0.046509  [38464/60000]\n",
      "loss: 0.002621  [44864/60000]\n",
      "loss: 0.017583  [51264/60000]\n",
      "loss: 0.012478  [57664/60000]\n",
      "Min loss: 0.000000\n",
      "Test Error: \n",
      " Accuracy: 90.4%, Avg loss: 2.478925\n",
      "Precision: 90.3%, Recall: 90.4% \n",
      "\n",
      "Epoch 2\n",
      "-------------------------------\n",
      "loss: 0.012367  [   64/60000]\n",
      "loss: 0.000244  [ 6464/60000]\n",
      "loss: 0.017106  [12864/60000]\n",
      "loss: 0.030443  [19264/60000]\n",
      "loss: 0.014139  [25664/60000]\n",
      "loss: 0.101025  [32064/60000]\n",
      "loss: 0.026074  [38464/60000]\n",
      "loss: 0.082667  [44864/60000]\n",
      "loss: 0.098305  [51264/60000]\n",
      "loss: 0.143391  [57664/60000]\n",
      "Min loss: 0.000000\n",
      "Test Error: \n",
      " Accuracy: 90.2%, Avg loss: 2.177212\n",
      "Precision: 90.3%, Recall: 90.2% \n",
      "\n",
      "Epoch 3\n",
      "-------------------------------\n",
      "loss: 0.022434  [   64/60000]\n",
      "loss: 0.013166  [ 6464/60000]\n",
      "loss: 0.002202  [12864/60000]\n",
      "loss: 0.000235  [19264/60000]\n",
      "loss: 0.004864  [25664/60000]\n",
      "loss: 0.000822  [32064/60000]\n",
      "loss: 0.000011  [38464/60000]\n",
      "loss: 0.002048  [44864/60000]\n",
      "loss: 0.000879  [51264/60000]\n",
      "loss: 0.104383  [57664/60000]\n",
      "Min loss: 0.000000\n",
      "Test Error: \n",
      " Accuracy: 90.0%, Avg loss: 2.424153\n",
      "Precision: 90.0%, Recall: 90.0% \n",
      "\n",
      "Epoch 4\n",
      "-------------------------------\n",
      "loss: 0.000007  [   64/60000]\n",
      "loss: 0.000401  [ 6464/60000]\n",
      "loss: 0.054707  [12864/60000]\n",
      "loss: 0.000040  [19264/60000]\n",
      "loss: 0.000022  [25664/60000]\n",
      "loss: 0.002381  [32064/60000]\n",
      "loss: 0.001281  [38464/60000]\n",
      "loss: 0.007454  [44864/60000]\n",
      "loss: 0.106030  [51264/60000]\n",
      "loss: 0.129521  [57664/60000]\n",
      "Min loss: 0.000000\n",
      "Test Error: \n",
      " Accuracy: 89.8%, Avg loss: 2.611091\n",
      "Precision: 89.9%, Recall: 89.8% \n",
      "\n",
      "Epoch 5\n",
      "-------------------------------\n",
      "loss: 0.001121  [   64/60000]\n",
      "loss: 0.008482  [ 6464/60000]\n",
      "loss: 0.020030  [12864/60000]\n",
      "loss: 0.067091  [19264/60000]\n",
      "loss: 0.000010  [25664/60000]\n",
      "loss: 0.133066  [32064/60000]\n",
      "loss: 0.001271  [38464/60000]\n",
      "loss: 0.135901  [44864/60000]\n",
      "loss: 0.000243  [51264/60000]\n",
      "loss: 0.132052  [57664/60000]\n",
      "Min loss: 0.000000\n",
      "Test Error: \n",
      " Accuracy: 90.0%, Avg loss: 2.510650\n",
      "Precision: 90.1%, Recall: 90.0% \n",
      "\n",
      "Epoch 6\n",
      "-------------------------------\n",
      "loss: 0.036709  [   64/60000]\n",
      "loss: 0.054111  [ 6464/60000]\n",
      "loss: 0.000040  [12864/60000]\n",
      "loss: 0.000439  [19264/60000]\n",
      "loss: 0.000512  [25664/60000]\n",
      "loss: 0.001920  [32064/60000]\n",
      "loss: 0.006266  [38464/60000]\n",
      "loss: 0.007187  [44864/60000]\n",
      "loss: 0.072546  [51264/60000]\n",
      "loss: 0.010231  [57664/60000]\n",
      "Min loss: 0.000000\n",
      "Test Error: \n",
      " Accuracy: 90.0%, Avg loss: 2.527934\n",
      "Precision: 90.1%, Recall: 90.0% \n",
      "\n",
      "Epoch 7\n",
      "-------------------------------\n",
      "loss: 0.000070  [   64/60000]\n",
      "loss: 0.043603  [ 6464/60000]\n",
      "loss: 0.001038  [12864/60000]\n",
      "loss: 0.000006  [19264/60000]\n",
      "loss: 0.002423  [25664/60000]\n",
      "loss: 0.000000  [32064/60000]\n",
      "loss: 0.001525  [38464/60000]\n",
      "loss: 0.022557  [44864/60000]\n",
      "loss: 0.013984  [51264/60000]\n",
      "loss: 0.095106  [57664/60000]\n",
      "Min loss: 0.000000\n",
      "Test Error: \n",
      " Accuracy: 90.3%, Avg loss: 2.575589\n",
      "Precision: 90.3%, Recall: 90.3% \n",
      "\n",
      "Epoch 8\n",
      "-------------------------------\n",
      "loss: 0.164305  [   64/60000]\n",
      "loss: 0.008675  [ 6464/60000]\n",
      "loss: 0.000079  [12864/60000]\n",
      "loss: 0.000205  [19264/60000]\n",
      "loss: 0.000014  [25664/60000]\n",
      "loss: 0.000041  [32064/60000]\n",
      "loss: 0.383931  [38464/60000]\n",
      "loss: 0.013230  [44864/60000]\n",
      "loss: 0.004508  [51264/60000]\n",
      "loss: 0.000034  [57664/60000]\n",
      "Min loss: 0.000000\n",
      "Test Error: \n",
      " Accuracy: 90.2%, Avg loss: 2.481281\n",
      "Precision: 90.3%, Recall: 90.2% \n",
      "\n",
      "Epoch 9\n",
      "-------------------------------\n",
      "loss: 0.001756  [   64/60000]\n",
      "loss: 0.000013  [ 6464/60000]\n",
      "loss: 0.068688  [12864/60000]\n",
      "loss: 0.104903  [19264/60000]\n",
      "loss: 0.048028  [25664/60000]\n",
      "loss: 0.015743  [32064/60000]\n",
      "loss: 0.001808  [38464/60000]\n",
      "loss: 0.000429  [44864/60000]\n",
      "loss: 0.001056  [51264/60000]\n",
      "loss: 0.000001  [57664/60000]\n",
      "Min loss: 0.000000\n",
      "Test Error: \n",
      " Accuracy: 90.6%, Avg loss: 2.511376\n",
      "Precision: 90.6%, Recall: 90.6% \n",
      "\n",
      "Epoch 10\n",
      "-------------------------------\n",
      "loss: 0.004174  [   64/60000]\n",
      "loss: 0.000000  [ 6464/60000]\n",
      "loss: 0.000091  [12864/60000]\n",
      "loss: 0.078621  [19264/60000]\n",
      "loss: 0.001071  [25664/60000]\n",
      "loss: 0.000000  [32064/60000]\n",
      "loss: 0.072197  [38464/60000]\n",
      "loss: 0.026973  [44864/60000]\n",
      "loss: 0.050724  [51264/60000]\n",
      "loss: 0.000001  [57664/60000]\n",
      "Min loss: 0.000000\n",
      "Test Error: \n",
      " Accuracy: 90.4%, Avg loss: 2.633522\n",
      "Precision: 90.4%, Recall: 90.4% \n",
      "\n"
     ]
    }
   ],
   "execution_count": 490
  },
  {
   "cell_type": "markdown",
   "id": "acc2e232",
   "metadata": {},
   "source": [
    "При подборе гиперпараметров (это те параметры, которые не обучаются, например, lr) и обучении модели помните:\n",
    "1. Если параметры выбраны хорошо, улучшение видно уже после нескольких сотен итераций.\n",
    "2. Настраивайте гиперпараметры от грубых значений к точным: начните с тестирования большого диапазона гиперпараметров всего за несколько итераций обучения, чтобы найти комбинации параметров, которые вообще работают.\n",
    "3. После того, как вы нашли несколько наборов параметров, которые, по-видимому, работают, выполните более тщательный поиск по этим параметрам. Возможно, вам придется тренировать модель большее число эпох.\n",
    "4. Нужно использовать валидационный набор для поиска. Этот набор нужно выделить из тренировочного и вызывать на нем функцию test."
   ]
  },
  {
   "cell_type": "code",
   "source": "torch.save(model.state_dict(), \"my_model.pth\")",
   "metadata": {
    "collapsed": false,
    "ExecuteTime": {
     "end_time": "2024-09-24T21:15:31.714733Z",
     "start_time": "2024-09-24T21:15:31.497406Z"
    }
   },
   "id": "8947f00ab8c6ce81",
   "outputs": [],
   "execution_count": 491
  },
  {
   "metadata": {},
   "cell_type": "code",
   "outputs": [],
   "execution_count": null,
   "source": "",
   "id": "e50dc4606da9f7a5"
  }
 ],
 "metadata": {
  "kernelspec": {
   "display_name": "Python 3 (ipykernel)",
   "language": "python",
   "name": "python3"
  },
  "language_info": {
   "codemirror_mode": {
    "name": "ipython",
    "version": 3
   },
   "file_extension": ".py",
   "mimetype": "text/x-python",
   "name": "python",
   "nbconvert_exporter": "python",
   "pygments_lexer": "ipython3",
   "version": "3.10.9"
  }
 },
 "nbformat": 4,
 "nbformat_minor": 5
}
