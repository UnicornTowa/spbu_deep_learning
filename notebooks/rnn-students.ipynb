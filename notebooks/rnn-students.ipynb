{
 "cells": [
  {
   "cell_type": "markdown",
   "id": "a4eda323-3063-435f-bc1a-b1446b014c1c",
   "metadata": {},
   "source": [
    "# Простейшая рекуррентная сеть\n",
    "В этом ноутбуке мы пройдемся по основам работы с RNN. Сегодня займемся задачей генерации текста. "
   ]
  },
  {
   "cell_type": "code",
   "id": "70d8b089-5f9c-4dcb-8b14-3f565c24e438",
   "metadata": {
    "ExecuteTime": {
     "end_time": "2024-11-29T20:48:54.063738Z",
     "start_time": "2024-11-29T20:48:49.475448Z"
    }
   },
   "source": [
    "import warnings\n",
    "from typing import Iterable, Tuple\n",
    "\n",
    "import numpy as np\n",
    "import torch\n",
    "from tqdm.notebook import tqdm\n",
    "import matplotlib.pyplot as plt\n",
    "import seaborn as sns\n",
    "from tqdm.notebook import tqdm\n",
    "from IPython.display import clear_output\n",
    "from torch.utils.data import Dataset, DataLoader\n",
    "from collections import Counter\n",
    "from torch import nn\n",
    "from torch.nn.utils.rnn import pack_padded_sequence, pad_packed_sequence\n",
    "from torch.distributions.categorical import Categorical\n",
    "\n",
    "warnings.filterwarnings(\"ignore\")"
   ],
   "outputs": [],
   "execution_count": 2
  },
  {
   "cell_type": "markdown",
   "id": "198424b3-07c0-4b46-83f0-8bbb53acacd4",
   "metadata": {},
   "source": [
    "В качестве обучающего датасета возьмем набор из 120 тысяч анекдотов на русском языке. \n",
    "[Ссылка на данные](https://archive.org/download/120_tysyach_anekdotov) и [пост на хабре про тематическое моделирование](https://habr.com/ru/companies/otus/articles/723306/)"
   ]
  },
  {
   "cell_type": "code",
   "id": "b5fda8b3-2e4b-4385-aad5-b10ad73a5d35",
   "metadata": {
    "ExecuteTime": {
     "end_time": "2024-11-29T21:14:47.253519Z",
     "start_time": "2024-11-29T21:14:46.926704Z"
    }
   },
   "source": [
    "with open(r\"120_tysyach_anekdotov\\anek_djvu.txt\", \"r\", encoding=\"utf-8\") as f:\n",
    "    text = f.read()\n",
    "text[118:500]"
   ],
   "outputs": [],
   "execution_count": 2
  },
  {
   "cell_type": "markdown",
   "id": "007f21a5-c7e3-445f-b902-24e18242bd7b",
   "metadata": {},
   "source": [
    "Мы не хотим моделировать все подряд, поэтому разобьем датасет на отдельные анекдоты.  "
   ]
  },
  {
   "cell_type": "code",
   "id": "fddd3f65-a156-4bbd-8c56-078652d38ac2",
   "metadata": {
    "ExecuteTime": {
     "end_time": "2024-11-29T20:48:54.357004Z",
     "start_time": "2024-11-29T20:48:54.352462Z"
    }
   },
   "source": [
    "def cut_data(text):\n",
    "    return text.replace(\"\\n\\n\", \"\").split(\"<|startoftext|>\")[1:]"
   ],
   "outputs": [],
   "execution_count": 4
  },
  {
   "cell_type": "code",
   "id": "3ae42013-ef71-485c-805e-8cc4c61fe6f7",
   "metadata": {
    "ExecuteTime": {
     "end_time": "2024-11-29T20:48:54.454896Z",
     "start_time": "2024-11-29T20:48:54.368740Z"
    }
   },
   "source": [
    "cut_text = cut_data(text)"
   ],
   "outputs": [],
   "execution_count": 5
  },
  {
   "cell_type": "code",
   "id": "67e8e214-e40c-4705-beb4-f51a6a284137",
   "metadata": {
    "ExecuteTime": {
     "end_time": "2024-11-29T20:48:54.489666Z",
     "start_time": "2024-11-29T20:48:54.472914Z"
    }
   },
   "source": [
    "cut_text[1:6]"
   ],
   "outputs": [
    {
     "data": {
      "text/plain": [
       "['Друзья мои, чтобы соответствовать вам, я готов сделать над собой усилие и стать лучше. Но тогда и вы станьте немного хуже!',\n",
       " '- Люся, ты все еще хранишь мой подарок?- Да.- Я думал, ты выкинула все, что со мной связано.- Плюшевый мишка не виноват, что ты ебл@н...',\n",
       " '- А вот скажи честно, ты во сне храпишь?- Понятие не имею, вроде, нет. От собственного храпа по крайней мере еще ни разу не просыпался.- Ну, так у жены спроси.- А жена и подавно не знает. У нее странная привычка после замужества возникла: как спать ложится - беруши вставляет.',\n",
       " 'Поссорилась с мужем. Пока он спал, я мысленно развелась с ним, поделила имущество, переехала, поняла, что жить без него не могу, дала последний шанс, вернулась. В итоге, ложусь спать уже счастливой женщиной.',\n",
       " 'Если тебя посещают мысли о смерти - это еще полбеды. Беда - это когда смерть посещают мысли о тебе...']"
      ]
     },
     "execution_count": 6,
     "metadata": {},
     "output_type": "execute_result"
    }
   ],
   "execution_count": 6
  },
  {
   "cell_type": "markdown",
   "id": "282f6226-74c6-4488-a7bc-9360437e1b1f",
   "metadata": {},
   "source": [
    "Сделаем для начала самую простую модель с токенами на уровне символов. Это значит, что каждому символу в тексте ставится в соответствие некоторое число. Некоторые способы токенизации используют части слов или, наоборот, части бинарного представления текста."
   ]
  },
  {
   "cell_type": "code",
   "id": "3e923efb-a3d5-4e22-b8e0-8bf6260d1e71",
   "metadata": {
    "ExecuteTime": {
     "end_time": "2024-11-29T20:48:55.441042Z",
     "start_time": "2024-11-29T20:48:54.565646Z"
    }
   },
   "source": [
    "unique_chars = tuple(set(text))\n",
    "int2char = dict(enumerate(unique_chars))\n",
    "char2int = {ch: ii for ii, ch in int2char.items()}\n"
   ],
   "outputs": [],
   "execution_count": 7
  },
  {
   "cell_type": "markdown",
   "id": "f99fa447-208d-4285-bb76-0870e985ce58",
   "metadata": {},
   "source": [
    "Напишем функции для энкодинга и декодинга нашего текста. Они будут преобразовывать список символов в список чисел и обратно."
   ]
  },
  {
   "cell_type": "code",
   "id": "97704441-98c6-4c16-b0c2-10b88f941c7e",
   "metadata": {
    "ExecuteTime": {
     "end_time": "2024-11-29T20:48:55.461310Z",
     "start_time": "2024-11-29T20:48:55.456389Z"
    }
   },
   "source": [
    "def encode(sentence, vocab):\n",
    "    return [vocab[sym] for sym in sentence]# List of ints \n",
    "\n",
    "def decode(tokens, vocab):\n",
    "    return [vocab[tok] for tok in tokens]# list of strings"
   ],
   "outputs": [],
   "execution_count": 8
  },
  {
   "metadata": {
    "ExecuteTime": {
     "end_time": "2024-11-29T20:48:55.487908Z",
     "start_time": "2024-11-29T20:48:55.481496Z"
    }
   },
   "cell_type": "code",
   "source": "cut_text[1:6]",
   "id": "f0fcabbb66c8195a",
   "outputs": [
    {
     "data": {
      "text/plain": [
       "['Друзья мои, чтобы соответствовать вам, я готов сделать над собой усилие и стать лучше. Но тогда и вы станьте немного хуже!',\n",
       " '- Люся, ты все еще хранишь мой подарок?- Да.- Я думал, ты выкинула все, что со мной связано.- Плюшевый мишка не виноват, что ты ебл@н...',\n",
       " '- А вот скажи честно, ты во сне храпишь?- Понятие не имею, вроде, нет. От собственного храпа по крайней мере еще ни разу не просыпался.- Ну, так у жены спроси.- А жена и подавно не знает. У нее странная привычка после замужества возникла: как спать ложится - беруши вставляет.',\n",
       " 'Поссорилась с мужем. Пока он спал, я мысленно развелась с ним, поделила имущество, переехала, поняла, что жить без него не могу, дала последний шанс, вернулась. В итоге, ложусь спать уже счастливой женщиной.',\n",
       " 'Если тебя посещают мысли о смерти - это еще полбеды. Беда - это когда смерть посещают мысли о тебе...']"
      ]
     },
     "execution_count": 9,
     "metadata": {},
     "output_type": "execute_result"
    }
   ],
   "execution_count": 9
  },
  {
   "metadata": {
    "ExecuteTime": {
     "end_time": "2024-11-29T20:48:55.569253Z",
     "start_time": "2024-11-29T20:48:55.561870Z"
    }
   },
   "cell_type": "code",
   "source": [
    "encoded = encode(cut_text[0], char2int)\n",
    "encoded"
   ],
   "id": "efdce27f347d0564",
   "outputs": [
    {
     "data": {
      "text/plain": [
       "[144,\n",
       " 183,\n",
       " 110,\n",
       " 6,\n",
       " 80,\n",
       " 183,\n",
       " 56,\n",
       " 203,\n",
       " 88,\n",
       " 41,\n",
       " 87,\n",
       " 152,\n",
       " 129,\n",
       " 110,\n",
       " 105,\n",
       " 56,\n",
       " 155,\n",
       " 152,\n",
       " 183,\n",
       " 56,\n",
       " 198,\n",
       " 110,\n",
       " 183,\n",
       " 25,\n",
       " 183,\n",
       " 56,\n",
       " 109,\n",
       " 27,\n",
       " 46,\n",
       " 40,\n",
       " 154,\n",
       " 183,\n",
       " 109,\n",
       " 56,\n",
       " 154,\n",
       " 88,\n",
       " 78,\n",
       " 129,\n",
       " 40,\n",
       " 88,\n",
       " 87,\n",
       " 152,\n",
       " 198,\n",
       " 179,\n",
       " 56,\n",
       " 198,\n",
       " 88,\n",
       " 41,\n",
       " 129,\n",
       " 41,\n",
       " 129,\n",
       " 56,\n",
       " 133,\n",
       " 87,\n",
       " 154,\n",
       " 152,\n",
       " 40,\n",
       " 88,\n",
       " 110,\n",
       " 6,\n",
       " 154,\n",
       " 1,\n",
       " 41,\n",
       " 129,\n",
       " 56,\n",
       " 80,\n",
       " 110,\n",
       " 88,\n",
       " 25,\n",
       " 129,\n",
       " 9,\n",
       " 88,\n",
       " 41,\n",
       " 129,\n",
       " 84,\n",
       " 56,\n",
       " 77,\n",
       " 88,\n",
       " 80,\n",
       " 56,\n",
       " 25,\n",
       " 198,\n",
       " 87,\n",
       " 56,\n",
       " 27,\n",
       " 40,\n",
       " 183,\n",
       " 169,\n",
       " 171,\n",
       " 41,\n",
       " 88,\n",
       " 154,\n",
       " 183,\n",
       " 105,\n",
       " 56,\n",
       " 78,\n",
       " 110,\n",
       " 129,\n",
       " 154,\n",
       " 73]"
      ]
     },
     "execution_count": 10,
     "metadata": {},
     "output_type": "execute_result"
    }
   ],
   "execution_count": 10
  },
  {
   "metadata": {
    "ExecuteTime": {
     "end_time": "2024-11-29T20:48:55.645979Z",
     "start_time": "2024-11-29T20:48:55.638053Z"
    }
   },
   "cell_type": "code",
   "source": [
    "decoded = decode(encoded, int2char)\n",
    "decoded"
   ],
   "id": "8169d05229560d95",
   "outputs": [
    {
     "data": {
      "text/plain": [
       "['Т',\n",
       " 'о',\n",
       " 'л',\n",
       " 'ь',\n",
       " 'к',\n",
       " 'о',\n",
       " ' ',\n",
       " 'з',\n",
       " 'а',\n",
       " 'м',\n",
       " 'е',\n",
       " 'т',\n",
       " 'и',\n",
       " 'л',\n",
       " ',',\n",
       " ' ',\n",
       " 'ч',\n",
       " 'т',\n",
       " 'о',\n",
       " ' ',\n",
       " 'с',\n",
       " 'л',\n",
       " 'о',\n",
       " 'в',\n",
       " 'о',\n",
       " ' ',\n",
       " '\"',\n",
       " 'п',\n",
       " '@',\n",
       " 'р',\n",
       " 'н',\n",
       " 'о',\n",
       " '\"',\n",
       " ' ',\n",
       " 'н',\n",
       " 'а',\n",
       " 'б',\n",
       " 'и',\n",
       " 'р',\n",
       " 'а',\n",
       " 'е',\n",
       " 'т',\n",
       " 'с',\n",
       " 'я',\n",
       " ' ',\n",
       " 'с',\n",
       " 'а',\n",
       " 'м',\n",
       " 'и',\n",
       " 'м',\n",
       " 'и',\n",
       " ' ',\n",
       " 'ц',\n",
       " 'е',\n",
       " 'н',\n",
       " 'т',\n",
       " 'р',\n",
       " 'а',\n",
       " 'л',\n",
       " 'ь',\n",
       " 'н',\n",
       " 'ы',\n",
       " 'м',\n",
       " 'и',\n",
       " ' ',\n",
       " 'к',\n",
       " 'л',\n",
       " 'а',\n",
       " 'в',\n",
       " 'и',\n",
       " 'ш',\n",
       " 'а',\n",
       " 'м',\n",
       " 'и',\n",
       " '.',\n",
       " ' ',\n",
       " 'К',\n",
       " 'а',\n",
       " 'к',\n",
       " ' ',\n",
       " 'в',\n",
       " 'с',\n",
       " 'е',\n",
       " ' ',\n",
       " 'п',\n",
       " 'р',\n",
       " 'о',\n",
       " 'д',\n",
       " 'у',\n",
       " 'м',\n",
       " 'а',\n",
       " 'н',\n",
       " 'о',\n",
       " ',',\n",
       " ' ',\n",
       " 'б',\n",
       " 'л',\n",
       " 'и',\n",
       " 'н',\n",
       " '!']"
      ]
     },
     "execution_count": 11,
     "metadata": {},
     "output_type": "execute_result"
    }
   ],
   "execution_count": 11
  },
  {
   "cell_type": "code",
   "id": "9d0b4340-44bb-45ab-8cfe-972c9cfd410e",
   "metadata": {
    "ExecuteTime": {
     "end_time": "2024-11-29T20:48:55.723181Z",
     "start_time": "2024-11-29T20:48:55.718850Z"
    }
   },
   "source": [
    "# Проверьте, что энеодинг и декодинг работают"
   ],
   "outputs": [],
   "execution_count": 12
  },
  {
   "cell_type": "markdown",
   "id": "017baeba-1197-4d21-8cc8-28ccf43262c5",
   "metadata": {},
   "source": [
    "Просто представления символов в виде числа не подходят для обучения моделей. На выходе должны быть вероятности всех возможных токенов из словаря. Поэтому модели удобно учить с помощью энтропии. К тому же, токены часто преобразуют из исходного представления в эмбеддинги, которые также позволяют получить более удобное представление в высокоразмерном пространстве. \n",
    "\n",
    "В итоге векторы в модели выглядят следующим образом:\n",
    "![alt_text](../additional_materials/images/char_rnn.jfif)\n",
    "\n",
    "Задание: реализуйте метод, который преобразует батч в бинарное представление."
   ]
  },
  {
   "cell_type": "code",
   "id": "e692112f-edea-4e18-b48b-5aec75f935d4",
   "metadata": {
    "ExecuteTime": {
     "end_time": "2024-11-29T20:48:55.779460Z",
     "start_time": "2024-11-29T20:48:55.774114Z"
    }
   },
   "source": [
    "def one_hot_encode(int_words: torch.Tensor, vocab_size: int) -> torch.Tensor:\n",
    "    \"\"\"Encodes batch of sentences into binary values\"\"\"\n",
    "    words_one_hot = torch.zeros(\n",
    "        (int_words.numel(), vocab_size), device=int_words.device, dtype=int_words.dtype\n",
    "    )\n",
    "    words_one_hot[torch.arange(words_one_hot.shape[0]), int_words.flatten()] = 1\n",
    "    words_one_hot = words_one_hot.reshape((*int_words.shape, vocab_size))\n",
    "    # your code: make from int one hot vector for each element of input tensor. Size bxseq_len -> b x seq_len x vocab_size\n",
    "    return words_one_hot"
   ],
   "outputs": [],
   "execution_count": 13
  },
  {
   "cell_type": "markdown",
   "id": "88488683-6df3-430e-b942-9c10548a1802",
   "metadata": {},
   "source": [
    "Проверьте ваш код."
   ]
  },
  {
   "cell_type": "code",
   "id": "af941c64-cc6d-41b4-92e3-a8f37b861545",
   "metadata": {
    "ExecuteTime": {
     "end_time": "2024-11-29T20:48:55.840046Z",
     "start_time": "2024-11-29T20:48:55.799952Z"
    }
   },
   "source": [
    "test_seq = torch.tensor([[2, 6, 4, 1], [0,3, 2, 4]])\n",
    "test_one_hot = one_hot_encode(test_seq, 8)\n",
    "\n",
    "print(test_one_hot)"
   ],
   "outputs": [
    {
     "name": "stdout",
     "output_type": "stream",
     "text": [
      "tensor([[[0, 0, 1, 0, 0, 0, 0, 0],\n",
      "         [0, 0, 0, 0, 0, 0, 1, 0],\n",
      "         [0, 0, 0, 0, 1, 0, 0, 0],\n",
      "         [0, 1, 0, 0, 0, 0, 0, 0]],\n",
      "\n",
      "        [[1, 0, 0, 0, 0, 0, 0, 0],\n",
      "         [0, 0, 0, 1, 0, 0, 0, 0],\n",
      "         [0, 0, 1, 0, 0, 0, 0, 0],\n",
      "         [0, 0, 0, 0, 1, 0, 0, 0]]])\n"
     ]
    }
   ],
   "execution_count": 14
  },
  {
   "cell_type": "markdown",
   "id": "8da82134-e59d-4806-be2c-839c2f850ee6",
   "metadata": {},
   "source": [
    "Однако, наши последовательности на самом деле разной длины. Как же объединить их в батч?"
   ]
  },
  {
   "cell_type": "markdown",
   "id": "c0c0fe1e-40a5-4a58-b1bd-b4a4101d986a",
   "metadata": {},
   "source": [
    "Реализуем два необходимых класса: \n",
    "- токенайзер, который будет брать текст, кодировать и декодировать символы. Еще одно, что будет реализовано там - добавлено несколько специальных символов (паддинг, конец последовательности, начало последовательности).\n",
    "- Датасет, который будет брать набор шуток, используя токенайзер, строить эмбеддинги и дополнять последовательность до максимальной длины."
   ]
  },
  {
   "cell_type": "code",
   "id": "69d266c8-b4d0-42fd-9c6c-02b7f3b9a4bb",
   "metadata": {
    "ExecuteTime": {
     "end_time": "2024-11-29T20:48:55.880634Z",
     "start_time": "2024-11-29T20:48:55.872285Z"
    }
   },
   "source": [
    "class Tokenizer:\n",
    "    def __init__(self, cut_text, max_len: int = 512):\n",
    "        self.text = text\n",
    "        self.max_len = max_len\n",
    "        self.specials = ['<pad>', '<bos>', '<eos>']\n",
    "        unique_chars = tuple(set(text))\n",
    "        self.int2char = dict(enumerate(tuple(set(text))))\n",
    "        self.char2int = {ch: ii for ii, ch in int2char.items()}\n",
    "        self._add_special(\"<pad>\")\n",
    "        self._add_special('<bos>')\n",
    "        self._add_special('<eos>')\n",
    "    \n",
    "    def _add_special(self, symbol) -> None:\n",
    "        n = len(self.int2char)\n",
    "        self.char2int[symbol] = n\n",
    "        self.int2char[n] = symbol\n",
    "\n",
    "    @property\n",
    "    def vocab_size(self):\n",
    "        return len(self.int2char)\n",
    "        \n",
    "    def decode_symbol(self, el):\n",
    "        return self.int2char[el]\n",
    "        \n",
    "    def encode_symbol(self, el):\n",
    "        return self.char2int[el]\n",
    "        \n",
    "    def str_to_idx(self, chars):\n",
    "        return [self.char2int[sym] for sym in chars]# List of ints \n",
    "\n",
    "    def idx_to_str(self, idx):\n",
    "        return [self.int2char[sym] for sym in idx]# List of ints \n",
    "\n",
    "    def encode(self, chars, eos=True):\n",
    "        if eos:\n",
    "            chars = ['<bos>'] + list(chars) + ['<eos>']\n",
    "        else:\n",
    "            chars = ['<bos>'] + list(chars)\n",
    "        return self.str_to_idx(chars)\n",
    "\n",
    "    def decode(self, idx):\n",
    "        chars = self.idx_to_str(idx)\n",
    "        return ''.join(chars)\n"
   ],
   "outputs": [],
   "execution_count": 15
  },
  {
   "cell_type": "code",
   "id": "b8a76399-0ae4-4d4f-9d95-56d695eb7f0c",
   "metadata": {
    "ExecuteTime": {
     "end_time": "2024-11-29T20:48:55.930417Z",
     "start_time": "2024-11-29T20:48:55.924293Z"
    }
   },
   "source": [
    "class JokesDataset(Dataset):\n",
    "    def __init__(self, tokenizer, cut_text, max_len: int = 256):\n",
    "        self.max_len = max_len\n",
    "        self.tokenizer = tokenizer\n",
    "        self.cut_text = cut_text\n",
    "        self.pad_index = self.tokenizer.encode_symbol(\"<pad>\")\n",
    "        \n",
    "    def __len__(self):\n",
    "        return len(self.cut_text)\n",
    "    \n",
    "    def __getitem__(self, item):\n",
    "        encoded = self.tokenizer.encode(self.cut_text[item])[:self.max_len]\n",
    "        padded = torch.full((self.max_len, ), self.pad_index, dtype=torch.long)\n",
    "        padded[:len(encoded)] = torch.tensor(encoded)\n",
    "        # padded = encoded + torch.zeros()\n",
    "        # pad your sequence and make a final sample. You can skip padding and pad sequences with torch special method.\n",
    "        return padded, len(encoded)\n",
    "\n",
    "# Optionally add new methods to your dataset class"
   ],
   "outputs": [],
   "execution_count": 16
  },
  {
   "cell_type": "code",
   "id": "af9e66a2-d196-459f-a88a-94bc119873e0",
   "metadata": {
    "ExecuteTime": {
     "end_time": "2024-11-29T20:48:57.599277Z",
     "start_time": "2024-11-29T20:48:55.964845Z"
    }
   },
   "source": [
    "tokenizer = Tokenizer(text)\n",
    "dataset = JokesDataset(tokenizer, cut_text, 256)\n",
    "dataloader = DataLoader(dataset, batch_size=32, shuffle=True)"
   ],
   "outputs": [],
   "execution_count": 17
  },
  {
   "cell_type": "markdown",
   "id": "2c72173d-d38b-4d4c-a98e-878267c0fd87",
   "metadata": {},
   "source": [
    "Вопрос: А как бы мы должны были разделять данные на последовательности и батчи в случае, если бы использовался сплошной текст?"
   ]
  },
  {
   "cell_type": "markdown",
   "id": "a9bf1f16-53d0-45a6-abd5-1a4c5b17285f",
   "metadata": {},
   "source": [
    "Теперь реализуем нашу модель. \n",
    "Необходимо следующее:\n",
    " - Используя токенайзер, задать размер словаря\n",
    " - Задать слой RNN с помощью torch.RNN. Доп.задание: создайте модель, используя слой LSTM.\n",
    " - Задать полносвязный слой с набором параметров: размерность ввода — n_hidden; размерность выхода — размер словаря. Этот слой преобразует состояние модели в логиты токенов.\n",
    " - Определить шаг forward, который будет использоваться при обучении\n",
    " - Определить метод init_hidden, который будет задавать начальное внутреннее состояние. Инициализировать будем нулями.\n",
    " - Определить метод inference, в котором будет происходить генерация последовательности из префикса. Здесь мы уже не используем явные логиты, а семплируем токены на их основе.\n"
   ]
  },
  {
   "metadata": {
    "ExecuteTime": {
     "end_time": "2024-11-29T20:48:57.635063Z",
     "start_time": "2024-11-29T20:48:57.621290Z"
    }
   },
   "cell_type": "code",
   "source": [
    "class CharRNN(nn.Module):\n",
    "    def __init__(self, tokenizer, hidden_dim: int = 256, num_layers: int = 2, drop_prob: float = 0.5, max_len: int = 512) -> None:\n",
    "        super().__init__()\n",
    "        self.hidden_dim = hidden_dim\n",
    "        self.num_layers = num_layers\n",
    "        self.drop_prob = drop_prob\n",
    "        self.max_len = max_len\n",
    "        self.tokenizer = tokenizer\n",
    "\n",
    "        # Define the LSTM, dropout, and fully connected layers\n",
    "        self.encoder = nn.Embedding(self.tokenizer.vocab_size, self.hidden_dim)\n",
    "        self.rnn = nn.LSTM(\n",
    "            input_size=self.hidden_dim,\n",
    "            hidden_size=self.hidden_dim,\n",
    "            num_layers=self.num_layers,\n",
    "            batch_first=True,\n",
    "        )\n",
    "        self.dropout = nn.Dropout(p=self.drop_prob)\n",
    "        self.decoder = nn.Linear(\n",
    "            in_features=self.hidden_dim,\n",
    "            out_features=self.tokenizer.vocab_size,\n",
    "        )\n",
    "\n",
    "    def forward(self, x: torch.Tensor, lengths: torch.Tensor) -> Tuple[torch.Tensor, Tuple[torch.Tensor, torch.Tensor]]:\n",
    "        # Pack the padded sequence\n",
    "        x = self.encoder(x)\n",
    "        outputs, hidden = self.rnn(x)\n",
    "        # Pass through a dropout layer and fully connected layer\n",
    "        outputs = self.dropout(outputs)\n",
    "        outputs = self.decoder(outputs)\n",
    "        \n",
    "        return outputs, hidden\n",
    "\n",
    "    def inference(self, prefix=\"\", device=\"cpu\"):\n",
    "        # Encode the prefix into token IDs\n",
    "        tokens = torch.tensor([self.tokenizer.encode(prefix, eos=False)], device=device)\n",
    "        \n",
    "\n",
    "        # Generate sequence iteratively\n",
    "        for _ in range(self.max_len - len(tokens[0])):\n",
    "            # Pass tokens through the embedding layer\n",
    "            logits, hidden = self.forward(tokens, torch.tensor([tokens.size(1)]))\n",
    "            \n",
    "            # Get the last token's logits and sample a token\n",
    "            next_token_logits = logits[:, -1, :]\n",
    "            new_token = torch.multinomial(\n",
    "                torch.nn.functional.softmax(next_token_logits, dim=-1), num_samples=1\n",
    "            )\n",
    "\n",
    "            # Append the new token\n",
    "            tokens = torch.cat([tokens, new_token], dim=1)\n",
    "\n",
    "            # Stop if the <eos> token is generated\n",
    "            if new_token.item() == self.tokenizer.encode_symbol(\"<eos>\"):\n",
    "                break\n",
    "\n",
    "        # Decode the token IDs back into a string\n",
    "        return self.tokenizer.decode(tokens.squeeze().tolist())"
   ],
   "id": "f5984fb0488f6dec",
   "outputs": [],
   "execution_count": 18
  },
  {
   "metadata": {},
   "cell_type": "markdown",
   "source": "Зададим параметры для обучения. Можете варьировать их, чтобы вам хватило ресурсов.",
   "id": "1202bfda-3653-4644-8fcc-eda9e92e434f"
  },
  {
   "cell_type": "code",
   "id": "173284d2-1d28-4235-a3ac-e25494039e08",
   "metadata": {
    "ExecuteTime": {
     "end_time": "2024-11-29T20:48:57.655744Z",
     "start_time": "2024-11-29T20:48:57.651101Z"
    }
   },
   "source": [
    "seq_length = 256\n",
    "n_hidden = 128\n",
    "n_layers = 6\n",
    "drop_prob = 0.1\n",
    "lr = 0.001"
   ],
   "outputs": [],
   "execution_count": 19
  },
  {
   "cell_type": "markdown",
   "id": "8329823d-abd8-4044-8206-470f07b6da62",
   "metadata": {},
   "source": [
    "Напишите функцию для одного тренировочного шага. В этом ноутбуке сам процесс обучения модели достаточно тривиален, поэтому мы не будем использовать сложные функции для обучающего цикла. Вы же, однако, можете дописать их."
   ]
  },
  {
   "metadata": {
    "ExecuteTime": {
     "end_time": "2024-11-29T20:48:57.686505Z",
     "start_time": "2024-11-29T20:48:57.680412Z"
    }
   },
   "cell_type": "code",
   "source": [
    "def training_step(model: CharRNN, train_batch: Tuple[torch.Tensor, torch.Tensor],\n",
    "                  vocab_size: int, criterion: nn.Module, optimizer, device=\"cpu\") -> torch.Tensor:\n",
    "    inputs, lengths = train_batch\n",
    "    inputs = inputs.to(device)\n",
    "    lengths = lengths.to(device)\n",
    "\n",
    "    # Сброс градиентов\n",
    "    optimizer.zero_grad()\n",
    "\n",
    "    # Прямой проход\n",
    "    outputs, _ = model(inputs[:, :-1], lengths)\n",
    "\n",
    "    # Переформатирование выходов и целевых меток для расчета функции потерь\n",
    "    outputs = outputs.view(-1, vocab_size)\n",
    "    targets = inputs[:, 1:].reshape(-1)\n",
    "\n",
    "    # Вычисление функции потерь\n",
    "    loss = criterion(outputs, targets)\n",
    "\n",
    "    # Обратный проход\n",
    "    loss.backward()\n",
    "\n",
    "    # Шаг оптимизации\n",
    "    optimizer.step()\n",
    "    return loss.item()"
   ],
   "id": "e37564fcfdb43b77",
   "outputs": [],
   "execution_count": 20
  },
  {
   "cell_type": "markdown",
   "id": "d1055e6e-6374-4af3-b1ab-8ad8b4125664",
   "metadata": {},
   "source": [
    "Инициализируйте модель, функцию потерь и оптимизатор."
   ]
  },
  {
   "cell_type": "code",
   "id": "f85fc024-7cec-4833-ac15-cafe05724003",
   "metadata": {
    "ExecuteTime": {
     "end_time": "2024-11-29T20:48:59.925443Z",
     "start_time": "2024-11-29T20:48:57.710873Z"
    }
   },
   "source": [
    "model = CharRNN(tokenizer, hidden_dim=n_hidden, num_layers=n_layers, drop_prob=drop_prob)\n",
    "hidden = None\n",
    "criterion = nn.CrossEntropyLoss(ignore_index=214)\n",
    "optimizer = torch.optim.Adam(model.parameters(), lr=1e-3)\n"
   ],
   "outputs": [],
   "execution_count": 21
  },
  {
   "cell_type": "markdown",
   "id": "a140de0c-e648-4d9f-babf-659486dbae92",
   "metadata": {},
   "source": [
    "Проверьте необученную модель: она должна выдавать бессмысленные последовательности"
   ]
  },
  {
   "cell_type": "code",
   "id": "37263cdf-5a6c-4612-8cf9-57105c169943",
   "metadata": {
    "ExecuteTime": {
     "end_time": "2024-11-29T20:48:59.946008Z",
     "start_time": "2024-11-29T20:48:59.940672Z"
    }
   },
   "source": [
    "def plot_losses(losses):\n",
    "    clear_output()\n",
    "    plt.plot(range(1, len(losses) + 1), losses)\n",
    "    plt.xlabel('epoch')\n",
    "    plt.ylabel('loss')\n",
    "    plt.show()"
   ],
   "outputs": [],
   "execution_count": 22
  },
  {
   "cell_type": "markdown",
   "id": "44f70324-c88a-4d98-bae6-e6c5356f2025",
   "metadata": {},
   "source": [
    "Проведите обучение на протяжении нескольких эпох и выведите график лоссов."
   ]
  },
  {
   "metadata": {
    "ExecuteTime": {
     "end_time": "2024-11-29T20:49:00.086731Z",
     "start_time": "2024-11-29T20:48:59.959544Z"
    }
   },
   "cell_type": "code",
   "source": "device = 'cuda' if torch.cuda.is_available() else 'cpu'",
   "id": "ebda5ebbdd546df6",
   "outputs": [],
   "execution_count": 23
  },
  {
   "metadata": {
    "ExecuteTime": {
     "end_time": "2024-11-29T20:49:00.598861Z",
     "start_time": "2024-11-29T20:49:00.101064Z"
    }
   },
   "cell_type": "code",
   "source": "model = model.to(device)",
   "id": "399e9c1a87799e48",
   "outputs": [],
   "execution_count": 24
  },
  {
   "metadata": {
    "ExecuteTime": {
     "end_time": "2024-11-29T20:49:00.617604Z",
     "start_time": "2024-11-29T20:49:00.612968Z"
    }
   },
   "cell_type": "code",
   "source": "optimizer.param_groups[0]['lr'] = 1e-3",
   "id": "2cefae6d37cd7cc2",
   "outputs": [],
   "execution_count": 25
  },
  {
   "metadata": {
    "ExecuteTime": {
     "end_time": "2024-11-29T20:49:00.652346Z",
     "start_time": "2024-11-29T20:49:00.647465Z"
    }
   },
   "cell_type": "code",
   "source": "dataloader = DataLoader(dataset, batch_size=128, shuffle=True)",
   "id": "c5b51e539f381de8",
   "outputs": [],
   "execution_count": 26
  },
  {
   "metadata": {
    "ExecuteTime": {
     "end_time": "2024-11-29T20:49:22.548969Z",
     "start_time": "2024-11-29T20:49:22.509827Z"
    }
   },
   "cell_type": "code",
   "source": "# model.load_state_dict(torch.load(\"./rnn.pt\"))",
   "id": "83185aa1dbba8c4a",
   "outputs": [
    {
     "data": {
      "text/plain": [
       "<All keys matched successfully>"
      ]
     },
     "execution_count": 28,
     "metadata": {},
     "output_type": "execute_result"
    }
   ],
   "execution_count": 28
  },
  {
   "cell_type": "code",
   "id": "57059744-44ac-4aad-86f6-f67dc2ea7600",
   "metadata": {},
   "source": [
    "losses = []\n",
    "num_epochs = 3\n",
    "\n",
    "for epoch in range(1, num_epochs + 1):\n",
    "    epoch_loss = 0\n",
    "    for i, batch in enumerate(dataloader):\n",
    "        loss = training_step(model, batch, tokenizer.vocab_size, criterion, optimizer, device)\n",
    "        epoch_loss += loss\n",
    "        \n",
    "        if i % 100 == 0:\n",
    "            print(f'Done {i/len(dataloader) * 100:.2f}%, Loss: {loss:.4f}')\n",
    "    epoch_loss /= len(dataloader)\n",
    "    losses.append(epoch_loss)\n",
    "    \n",
    "    plot_losses(losses)\n",
    "    torch.save(model.state_dict(), \"rnn.pt\")"
   ],
   "execution_count": 33,
   "outputs": [
    {
     "data": {
      "text/plain": [
       "<Figure size 640x480 with 1 Axes>"
      ],
      "image/png": "[encoded data removed]"
     },
     "metadata": {},
     "output_type": "display_data"
    }
   ]
  },
  {
   "cell_type": "code",
   "id": "72d8694a-132f-4a44-a5d3-a0f39219e55f",
   "metadata": {
    "ExecuteTime": {
     "end_time": "2024-11-29T20:59:43.893815Z",
     "start_time": "2024-11-29T20:59:40.981382Z"
    }
   },
   "source": "[model.inference(\"Ах ты \", device=device) for _ in range(10)]",
   "outputs": [
    {
     "data": {
      "text/plain": [
       "['<bos>Ах ты пкь сторось готов Киристом, женщина на скинизвеков, и я странне, я можнее, два глется бы ее сразу и так пятьслатыте и есть америк...<eos>',\n",
       " '<bos>Ах ты поставила с эколестной находит и как почему, что достая, отовила, вида к студентампику, чем и выренипки закрителе на \"Чуть прослуковак...Зощуции! Хороче на никак?<eos>',\n",
       " '<bos>Ах ты больше останальце бухеже, буднуя. Джонии, привыклем или картопием видут.<eos>',\n",
       " '<bos>Ах ты меня - дети отду! Фтоярно...- Куждой, дотолее, как сыт. Ему в врат, Поссать ходит своих никатироваться, что-нибудь - в Изавклинике!<eos>',\n",
       " '<bos>Ах ты воруитсь гокореутп из коровой так обычно, выпывай, что табомапищной жизни и после симжейске, то у и дуд, кто-то еще не ведь острой.<eos>',\n",
       " '<bos>Ах ты был нонках, у вензкые рассертевив- Олюдей Итредлав критает будел?<eos>',\n",
       " '<bos>Ах ты такого женщину ли!Бекот по есть ночали очень невощ выписогоножознаоле лишь не сественном.<eos>',\n",
       " '<bos>Ах ты называет PДг пьяного надумаешь дазвым кем с они спать пьет ложаль, но тогда на жертва свое всего найоворинв.<eos>',\n",
       " '<bos>Ах ты тукома мне женщин. Зездится бори\" и счет - воднали. Цемьа, а кончки, не так сада как завязанием!<eos>',\n",
       " '<bos>Ах ты мнития Люровник с тестррету помыть вспо, как в работовое, билй хорошо - и так девочка.<eos>']"
      ]
     },
     "execution_count": 45,
     "metadata": {},
     "output_type": "execute_result"
    }
   ],
   "execution_count": 45
  },
  {
   "cell_type": "code",
   "execution_count": null,
   "id": "8f13c3b7-3fde-416b-a766-e6be7c791505",
   "metadata": {},
   "outputs": [],
   "source": [
    "# Дополнительная секция"
   ]
  },
  {
   "cell_type": "markdown",
   "id": "ef889dd2-fde2-429c-9c61-f5a93517bd3f",
   "metadata": {},
   "source": [
    "Теперь попробуем написать свой собственный RNN. Это будет довольно простая модель с одним слоем.\n"
   ]
  },
  {
   "cell_type": "code",
   "id": "a1fe4954-e2b5-43c5-9bb6-0b2a5cc2cc19",
   "metadata": {
    "ExecuteTime": {
     "end_time": "2024-11-29T20:59:26.503814Z",
     "start_time": "2024-11-29T20:59:26.486944Z"
    }
   },
   "source": [
    "# YOUR CODE: custom model nn.Module, changed CharRNN, etc\n",
    "class CharRNN2(nn.Module):\n",
    "    def __init__(self, tokenizer, hidden_dim: int = 256, num_layers: int = 2, drop_prob: float = 0.5, max_len: int = 512) -> None:\n",
    "        super().__init__()\n",
    "        self.hidden_dim = hidden_dim\n",
    "        self.num_layers = num_layers\n",
    "        self.drop_prob = drop_prob\n",
    "        self.max_len = max_len\n",
    "        self.tokenizer = tokenizer\n",
    "\n",
    "        # Define the LSTM, dropout, and fully connected layers\n",
    "        self.encoder = nn.Embedding(self.tokenizer.vocab_size, self.hidden_dim)\n",
    "        self.rnn = nn.RNN(input_size=self.hidden_dim, hidden_size=self.hidden_dim, num_layers=self.num_layers, batch_first=True)\n",
    "        self.dropout = nn.Dropout(p=self.drop_prob)\n",
    "        self.decoder = nn.Linear(\n",
    "            in_features=self.hidden_dim,\n",
    "            out_features=self.tokenizer.vocab_size,\n",
    "        )\n",
    "\n",
    "    def forward(self, x: torch.Tensor, lengths: torch.Tensor) -> Tuple[torch.Tensor, Tuple[torch.Tensor, torch.Tensor]]:\n",
    "        # Pack the padded sequence\n",
    "        x = self.encoder(x)\n",
    "        outputs, hidden = self.rnn(x)\n",
    "        # Pass through a dropout layer and fully connected layer\n",
    "        outputs = self.dropout(outputs)\n",
    "        outputs = self.decoder(outputs)\n",
    "        \n",
    "        return outputs, hidden\n",
    "\n",
    "    def inference(self, prefix=\"\", device=\"cpu\"):\n",
    "        # Encode the prefix into token IDs\n",
    "        tokens = torch.tensor([self.tokenizer.encode(prefix, eos=False)], device=device)\n",
    "        \n",
    "\n",
    "        # Generate sequence iteratively\n",
    "        for _ in range(self.max_len - len(tokens[0])):\n",
    "            # Pass tokens through the embedding layer\n",
    "            logits, hidden = self.forward(tokens, torch.tensor([tokens.size(1)]))\n",
    "            \n",
    "            # Get the last token's logits and sample a token\n",
    "            next_token_logits = logits[:, -1, :]\n",
    "            new_token = torch.multinomial(\n",
    "                torch.nn.functional.softmax(next_token_logits, dim=-1), num_samples=1\n",
    "            )\n",
    "\n",
    "            # Append the new token\n",
    "            tokens = torch.cat([tokens, new_token], dim=1)\n",
    "\n",
    "            # Stop if the <eos> token is generated\n",
    "            if new_token.item() == self.tokenizer.encode_symbol(\"<eos>\"):\n",
    "                break\n",
    "\n",
    "        # Decode the token IDs back into a string\n",
    "        return self.tokenizer.decode(tokens.squeeze().tolist())"
   ],
   "outputs": [],
   "execution_count": 44
  },
  {
   "metadata": {
    "ExecuteTime": {
     "end_time": "2024-11-29T21:01:03.783471Z",
     "start_time": "2024-11-29T21:01:03.747981Z"
    }
   },
   "cell_type": "code",
   "source": [
    "model2 = CharRNN2(tokenizer, hidden_dim=n_hidden, num_layers=n_layers, drop_prob=drop_prob).to(device)\n",
    "hidden = None\n",
    "optimizer2 = torch.optim.Adam(model2.parameters(), lr=1e-3)"
   ],
   "id": "367de4fcc67339ed",
   "outputs": [],
   "execution_count": 49
  },
  {
   "metadata": {},
   "cell_type": "code",
   "source": [
    "losses = []\n",
    "num_epochs = 3\n",
    "\n",
    "for epoch in range(1, num_epochs + 1):\n",
    "    epoch_loss = 0\n",
    "    for i, batch in enumerate(dataloader):\n",
    "        loss = training_step(model2, batch, tokenizer.vocab_size, criterion, optimizer2, device)\n",
    "        epoch_loss += loss\n",
    "        \n",
    "        if i % 100 == 0:\n",
    "            print(f'Done {i/len(dataloader) * 100:.2f}%, Loss: {loss:.4f}')\n",
    "    epoch_loss /= len(dataloader)\n",
    "    losses.append(epoch_loss)\n",
    "    \n",
    "    plot_losses(losses)\n",
    "    torch.save(model2.state_dict(), \"rnn2.pt\")"
   ],
   "id": "c4b4e8535b8e19c5",
   "execution_count": 52,
   "outputs": [
    {
     "data": {
      "text/plain": [
       "<Figure size 640x480 with 1 Axes>"
      ],
      "image/png": "[encoded data removed]"
     },
     "metadata": {},
     "output_type": "display_data"
    }
   ]
  },
  {
   "metadata": {
    "ExecuteTime": {
     "end_time": "2024-11-29T21:07:21.445009Z",
     "start_time": "2024-11-29T21:07:18.502324Z"
    }
   },
   "cell_type": "code",
   "source": "[model2.inference(\"Как-то раз летит в самолете немец, француз и русский \", device=device) for _ in range(10)]",
   "id": "97a6bf06954a5e93",
   "outputs": [
    {
     "data": {
      "text/plain": [
       "['<bos>Как-то раз летит в самолете немец, француз и русский. Я в магазине и таблетки Улок.<eos>',\n",
       " '<bos>Как-то раз летит в самолете немец, француз и русский. Телевизор с расспеплей на ней на ней-неватгонь, сказать пил!Зачем это? А со своим друга, в том такой мальчика.<eos>',\n",
       " '<bos>Как-то раз летит в самолете немец, француз и русский. Скабан, до визит для того у меня друзьым серыю комбода сиськи.<eos>',\n",
       " '<bos>Как-то раз летит в самолете немец, француз и русский. Фуфкнулся, мужчины потом судья.<eos>',\n",
       " '<bos>Как-то раз летит в самолете немец, француз и русский. В сопасненькое заходит в хлемую замузамных мязал\"...<eos>',\n",
       " '<bos>Как-то раз летит в самолете немец, француз и русский. Слебой приже лишра.. Он - блиденный \"студент от будусь.<eos>',\n",
       " '<bos>Как-то раз летит в самолете немец, француз и русский. - Вы дон в текли требовала здей ее такой деревенский машина для наспростительно хметемы... Что он говоре на сколько.Госпимает полностию и своим челый мущал терпенбоша вчерашний чиновник, что делает в школе собаку папа почтею звала россияне полного личай от их Сероб чузам 200 кило прохлоскомесовала в доброе! На полеторок, когда мой горшается на токарерься в Рабко отбудзют ничего не понятно - ушла бы тоже не могу же с фотя на свизорепущие винорогает так ж',\n",
       " '<bos>Как-то раз летит в самолете немец, француз и русский. Думаете! Ты чего я в\" зиму: \"Открыло этому привычкой!Она что, доть говорился эмубам за атмама мужами, или сказал?<eos>',\n",
       " '<bos>Как-то раз летит в самолете немец, француз и русский. Поплых небеш, только не ходу, отсжу. Понутах, когда результат Петрова пандект:- С чего значит она приеготят разбегаю по городам в нас выше.<eos>',\n",
       " '<bos>Как-то раз летит в самолете немец, француз и русский. И ведь хочется отвлекает только вдруг легта, там пусть!<eos>']"
      ]
     },
     "execution_count": 58,
     "metadata": {},
     "output_type": "execute_result"
    }
   ],
   "execution_count": 58
  },
  {
   "metadata": {},
   "cell_type": "code",
   "outputs": [],
   "execution_count": null,
   "source": "",
   "id": "80e37c884399c42a"
  }
 ],
 "metadata": {
  "kernelspec": {
   "display_name": "Python 3 (ipykernel)",
   "language": "python",
   "name": "python3"
  },
  "language_info": {
   "codemirror_mode": {
    "name": "ipython",
    "version": 3
   },
   "file_extension": ".py",
   "mimetype": "text/x-python",
   "name": "python",
   "nbconvert_exporter": "python",
   "pygments_lexer": "ipython3",
   "version": "3.10.15"
  }
 },
 "nbformat": 4,
 "nbformat_minor": 5
}
